{
 "cells": [
  {
   "cell_type": "markdown",
   "id": "115a2b53",
   "metadata": {},
   "source": [
    "\n",
    "# Project : Sales Data Wrangling \n",
    "\n",
    "## Table of Contents\n",
    "<ul>\n",
    "<li><a href=\"#intro\">Introduction</a></li>\n",
    "<li><a href=\"#Gathering\">Data Gathering</a></li>\n",
    "<li><a href=\"#Assessing\">Data Assessing</a></li>\n",
    "<li><a href=\"#Cleaning\">Data Cleaning</a></li>    \n",
    "<li><a href=\"#Assessing2\">Data Assessing After Cleaning</a></li>\n",
    "<li><a href=\"#eda\">Exploratory Data Analysis</a></li>\n",
    "<li><a href=\"#Storing\"> Data Storing</a></li>    \n",
    "</ul>"
   ]
  },
  {
   "cell_type": "markdown",
   "id": "04600fcc",
   "metadata": {},
   "source": [
    "<a id='intro'></a>\n",
    "## Introduction\n",
    "\n",
    "### Dataset Description \n",
    "\n",
    "This dataset includes detailed sales information from multiple branches, with 16 columns and 1006 rows. The data contains details about invoices such as invoice number, branch where the sale occurred, customer type, product type, quantity sold, price per unit, taxes, total, payment method, and customer ratings. The goal of this data is to analyze sales, understand customer behavior, evaluate the financial performance of different branches, and explore factors affecting customer satisfaction.\n"
   ]
  },
  {
   "cell_type": "code",
   "execution_count": 1,
   "id": "56c6c026",
   "metadata": {},
   "outputs": [],
   "source": [
    "# import  the libraries that you will use\n",
    "import pandas as pd \n",
    "import numpy as np\n",
    "import matplotlib.pyplot as plt \n",
    "%matplotlib inline\n",
    "from datetime import time\n",
    "# show all columns\n",
    "pd.set_option('display.max_columns', None)"
   ]
  },
  {
   "cell_type": "markdown",
   "id": "5eeb1eea",
   "metadata": {},
   "source": [
    "<a id='Gathering'></a>\n",
    "\n",
    "## 1- Data Gathering"
   ]
  },
  {
   "cell_type": "code",
   "execution_count": 2,
   "id": "1365c47b",
   "metadata": {},
   "outputs": [
    {
     "data": {
      "text/html": [
       "<div>\n",
       "<style scoped>\n",
       "    .dataframe tbody tr th:only-of-type {\n",
       "        vertical-align: middle;\n",
       "    }\n",
       "\n",
       "    .dataframe tbody tr th {\n",
       "        vertical-align: top;\n",
       "    }\n",
       "\n",
       "    .dataframe thead th {\n",
       "        text-align: right;\n",
       "    }\n",
       "</style>\n",
       "<table border=\"1\" class=\"dataframe\">\n",
       "  <thead>\n",
       "    <tr style=\"text-align: right;\">\n",
       "      <th></th>\n",
       "      <th>Invoice ID</th>\n",
       "      <th>Branch</th>\n",
       "      <th>Yangon</th>\n",
       "      <th>Naypyitaw</th>\n",
       "      <th>Mandalay</th>\n",
       "      <th>Customer type</th>\n",
       "      <th>Gender</th>\n",
       "      <th>Product line</th>\n",
       "      <th>Unit price</th>\n",
       "      <th>Quantity</th>\n",
       "      <th>Tax 5%</th>\n",
       "      <th>Total</th>\n",
       "      <th>Date</th>\n",
       "      <th>Time</th>\n",
       "      <th>Payment</th>\n",
       "      <th>Rating</th>\n",
       "    </tr>\n",
       "  </thead>\n",
       "  <tbody>\n",
       "    <tr>\n",
       "      <th>0</th>\n",
       "      <td>750-67-8428</td>\n",
       "      <td>A</td>\n",
       "      <td>1</td>\n",
       "      <td>0</td>\n",
       "      <td>0</td>\n",
       "      <td>Normal</td>\n",
       "      <td>Male</td>\n",
       "      <td>Health and beauty</td>\n",
       "      <td>74.69</td>\n",
       "      <td>7</td>\n",
       "      <td>26.1415</td>\n",
       "      <td>NaN</td>\n",
       "      <td>1/5/2019</td>\n",
       "      <td>13:08</td>\n",
       "      <td>Ewallet</td>\n",
       "      <td>9.1</td>\n",
       "    </tr>\n",
       "    <tr>\n",
       "      <th>1</th>\n",
       "      <td>226-31-3081</td>\n",
       "      <td>C</td>\n",
       "      <td>0</td>\n",
       "      <td>1</td>\n",
       "      <td>0</td>\n",
       "      <td>Normal</td>\n",
       "      <td>Male</td>\n",
       "      <td>Electronic accessories</td>\n",
       "      <td>15.28</td>\n",
       "      <td>5</td>\n",
       "      <td>3.8200</td>\n",
       "      <td>80.2200</td>\n",
       "      <td>3/8/2019</td>\n",
       "      <td>10:29</td>\n",
       "      <td>Cash</td>\n",
       "      <td>9.6</td>\n",
       "    </tr>\n",
       "    <tr>\n",
       "      <th>2</th>\n",
       "      <td>631-41-3108</td>\n",
       "      <td>A</td>\n",
       "      <td>1</td>\n",
       "      <td>0</td>\n",
       "      <td>0</td>\n",
       "      <td>Normal</td>\n",
       "      <td>Male</td>\n",
       "      <td>Home and lifestyle</td>\n",
       "      <td>46.33</td>\n",
       "      <td>7</td>\n",
       "      <td>16.2155</td>\n",
       "      <td>340.5255</td>\n",
       "      <td>3/3/2019</td>\n",
       "      <td>13:23</td>\n",
       "      <td>Credit card</td>\n",
       "      <td>7.4</td>\n",
       "    </tr>\n",
       "    <tr>\n",
       "      <th>3</th>\n",
       "      <td>123-19-1176</td>\n",
       "      <td>A</td>\n",
       "      <td>1</td>\n",
       "      <td>0</td>\n",
       "      <td>0</td>\n",
       "      <td>Normal</td>\n",
       "      <td>Male</td>\n",
       "      <td>Health and beauty</td>\n",
       "      <td>58.22</td>\n",
       "      <td>8</td>\n",
       "      <td>NaN</td>\n",
       "      <td>489.0480</td>\n",
       "      <td>1/27/2019</td>\n",
       "      <td>8 - 30 PM</td>\n",
       "      <td>Ewallet</td>\n",
       "      <td>8.4</td>\n",
       "    </tr>\n",
       "    <tr>\n",
       "      <th>4</th>\n",
       "      <td>373-73-7910</td>\n",
       "      <td>A</td>\n",
       "      <td>1</td>\n",
       "      <td>0</td>\n",
       "      <td>0</td>\n",
       "      <td>Normal</td>\n",
       "      <td>Male</td>\n",
       "      <td>Sports and travel</td>\n",
       "      <td>86.31</td>\n",
       "      <td>7</td>\n",
       "      <td>30.2085</td>\n",
       "      <td>634.3785</td>\n",
       "      <td>2/8/2019</td>\n",
       "      <td>10:37</td>\n",
       "      <td>Ewallet</td>\n",
       "      <td>5.3</td>\n",
       "    </tr>\n",
       "  </tbody>\n",
       "</table>\n",
       "</div>"
      ],
      "text/plain": [
       "    Invoice ID Branch  Yangon  Naypyitaw  Mandalay Customer type Gender  \\\n",
       "0  750-67-8428      A       1          0         0        Normal   Male   \n",
       "1  226-31-3081      C       0          1         0        Normal   Male   \n",
       "2  631-41-3108      A       1          0         0        Normal   Male   \n",
       "3  123-19-1176      A       1          0         0        Normal   Male   \n",
       "4  373-73-7910      A       1          0         0        Normal   Male   \n",
       "\n",
       "             Product line Unit price  Quantity   Tax 5%     Total       Date  \\\n",
       "0       Health and beauty      74.69         7  26.1415       NaN   1/5/2019   \n",
       "1  Electronic accessories      15.28         5   3.8200   80.2200   3/8/2019   \n",
       "2      Home and lifestyle      46.33         7  16.2155  340.5255   3/3/2019   \n",
       "3       Health and beauty      58.22         8      NaN  489.0480  1/27/2019   \n",
       "4       Sports and travel      86.31         7  30.2085  634.3785   2/8/2019   \n",
       "\n",
       "        Time      Payment  Rating  \n",
       "0      13:08      Ewallet     9.1  \n",
       "1      10:29         Cash     9.6  \n",
       "2      13:23  Credit card     7.4  \n",
       "3  8 - 30 PM      Ewallet     8.4  \n",
       "4      10:37      Ewallet     5.3  "
      ]
     },
     "execution_count": 2,
     "metadata": {},
     "output_type": "execute_result"
    }
   ],
   "source": [
    "df = pd.read_csv(\"Capstone Data - Supermarket Sales.csv\")\n",
    "df.head(5)"
   ]
  },
  {
   "cell_type": "markdown",
   "id": "336d6ce3",
   "metadata": {},
   "source": [
    "<a id='Assessing'></a>\n",
    "## 2- Data Assessing"
   ]
  },
  {
   "cell_type": "markdown",
   "id": "24a423cc",
   "metadata": {},
   "source": [
    "### 2-1- Tidiness issues"
   ]
  },
  {
   "cell_type": "code",
   "execution_count": 3,
   "id": "0aa4c865",
   "metadata": {},
   "outputs": [
    {
     "data": {
      "text/html": [
       "<div>\n",
       "<style scoped>\n",
       "    .dataframe tbody tr th:only-of-type {\n",
       "        vertical-align: middle;\n",
       "    }\n",
       "\n",
       "    .dataframe tbody tr th {\n",
       "        vertical-align: top;\n",
       "    }\n",
       "\n",
       "    .dataframe thead th {\n",
       "        text-align: right;\n",
       "    }\n",
       "</style>\n",
       "<table border=\"1\" class=\"dataframe\">\n",
       "  <thead>\n",
       "    <tr style=\"text-align: right;\">\n",
       "      <th></th>\n",
       "      <th>Invoice ID</th>\n",
       "      <th>Branch</th>\n",
       "      <th>Yangon</th>\n",
       "      <th>Naypyitaw</th>\n",
       "      <th>Mandalay</th>\n",
       "      <th>Customer type</th>\n",
       "      <th>Gender</th>\n",
       "      <th>Product line</th>\n",
       "      <th>Unit price</th>\n",
       "      <th>Quantity</th>\n",
       "      <th>Tax 5%</th>\n",
       "      <th>Total</th>\n",
       "      <th>Date</th>\n",
       "      <th>Time</th>\n",
       "      <th>Payment</th>\n",
       "      <th>Rating</th>\n",
       "    </tr>\n",
       "  </thead>\n",
       "  <tbody>\n",
       "    <tr>\n",
       "      <th>15</th>\n",
       "      <td>299-46-1805</td>\n",
       "      <td>B</td>\n",
       "      <td>0</td>\n",
       "      <td>0</td>\n",
       "      <td>1</td>\n",
       "      <td>Normal</td>\n",
       "      <td>Male</td>\n",
       "      <td>Sports and travel</td>\n",
       "      <td>93.72</td>\n",
       "      <td>6</td>\n",
       "      <td>28.1160</td>\n",
       "      <td>590.4360</td>\n",
       "      <td>1/15/2019</td>\n",
       "      <td>16:19</td>\n",
       "      <td>Cash</td>\n",
       "      <td>4.5</td>\n",
       "    </tr>\n",
       "    <tr>\n",
       "      <th>222</th>\n",
       "      <td>389-25-3394</td>\n",
       "      <td>C</td>\n",
       "      <td>0</td>\n",
       "      <td>1</td>\n",
       "      <td>0</td>\n",
       "      <td>Normal</td>\n",
       "      <td>Male</td>\n",
       "      <td>Electronic accessories</td>\n",
       "      <td>11.81</td>\n",
       "      <td>5</td>\n",
       "      <td>2.9525</td>\n",
       "      <td>62.0025</td>\n",
       "      <td>2/17/2019</td>\n",
       "      <td>18:06</td>\n",
       "      <td>Cash</td>\n",
       "      <td>9.4</td>\n",
       "    </tr>\n",
       "    <tr>\n",
       "      <th>716</th>\n",
       "      <td>857-16-3520</td>\n",
       "      <td>A</td>\n",
       "      <td>1</td>\n",
       "      <td>0</td>\n",
       "      <td>0</td>\n",
       "      <td>Member</td>\n",
       "      <td>Female</td>\n",
       "      <td>Fashion accessories</td>\n",
       "      <td>71.46</td>\n",
       "      <td>7</td>\n",
       "      <td>25.0110</td>\n",
       "      <td>525.2310</td>\n",
       "      <td>3/28/2019</td>\n",
       "      <td>16:06</td>\n",
       "      <td>Ewallet</td>\n",
       "      <td>4.5</td>\n",
       "    </tr>\n",
       "    <tr>\n",
       "      <th>991</th>\n",
       "      <td>602-16-6955</td>\n",
       "      <td>B</td>\n",
       "      <td>0</td>\n",
       "      <td>0</td>\n",
       "      <td>1</td>\n",
       "      <td>Normal</td>\n",
       "      <td>Female</td>\n",
       "      <td>Sports and travel</td>\n",
       "      <td>76.6</td>\n",
       "      <td>10</td>\n",
       "      <td>38.3000</td>\n",
       "      <td>804.3000</td>\n",
       "      <td>1/24/2019</td>\n",
       "      <td>18:10</td>\n",
       "      <td>Ewallet</td>\n",
       "      <td>6.0</td>\n",
       "    </tr>\n",
       "    <tr>\n",
       "      <th>440</th>\n",
       "      <td>450-28-2866</td>\n",
       "      <td>C</td>\n",
       "      <td>0</td>\n",
       "      <td>1</td>\n",
       "      <td>0</td>\n",
       "      <td>Member</td>\n",
       "      <td>Male</td>\n",
       "      <td>Food and beverages</td>\n",
       "      <td>17.44</td>\n",
       "      <td>5</td>\n",
       "      <td>4.3600</td>\n",
       "      <td>91.5600</td>\n",
       "      <td>1/15/2019</td>\n",
       "      <td>19:25</td>\n",
       "      <td>Cash</td>\n",
       "      <td>8.1</td>\n",
       "    </tr>\n",
       "  </tbody>\n",
       "</table>\n",
       "</div>"
      ],
      "text/plain": [
       "      Invoice ID Branch  Yangon  Naypyitaw  Mandalay Customer type  Gender  \\\n",
       "15   299-46-1805      B       0          0         1        Normal    Male   \n",
       "222  389-25-3394      C       0          1         0        Normal    Male   \n",
       "716  857-16-3520      A       1          0         0        Member  Female   \n",
       "991  602-16-6955      B       0          0         1        Normal  Female   \n",
       "440  450-28-2866      C       0          1         0        Member    Male   \n",
       "\n",
       "               Product line Unit price  Quantity   Tax 5%     Total  \\\n",
       "15        Sports and travel      93.72         6  28.1160  590.4360   \n",
       "222  Electronic accessories      11.81         5   2.9525   62.0025   \n",
       "716     Fashion accessories      71.46         7  25.0110  525.2310   \n",
       "991       Sports and travel       76.6        10  38.3000  804.3000   \n",
       "440      Food and beverages      17.44         5   4.3600   91.5600   \n",
       "\n",
       "          Date   Time  Payment  Rating  \n",
       "15   1/15/2019  16:19     Cash     4.5  \n",
       "222  2/17/2019  18:06     Cash     9.4  \n",
       "716  3/28/2019  16:06  Ewallet     4.5  \n",
       "991  1/24/2019  18:10  Ewallet     6.0  \n",
       "440  1/15/2019  19:25     Cash     8.1  "
      ]
     },
     "execution_count": 3,
     "metadata": {},
     "output_type": "execute_result"
    }
   ],
   "source": [
    "df.sample(5)"
   ]
  },
  {
   "cell_type": "code",
   "execution_count": 4,
   "id": "9e940b50",
   "metadata": {},
   "outputs": [
    {
     "data": {
      "text/plain": [
       "(1006, 16)"
      ]
     },
     "execution_count": 4,
     "metadata": {},
     "output_type": "execute_result"
    }
   ],
   "source": [
    "df.shape"
   ]
  },
  {
   "cell_type": "code",
   "execution_count": null,
   "id": "d20ea938",
   "metadata": {},
   "outputs": [],
   "source": []
  },
  {
   "cell_type": "markdown",
   "id": "96e9aeee",
   "metadata": {},
   "source": [
    "#### Each variable forms a column and contains values\n",
    "- 'Yangon', 'Naypyitaw', 'Mandalay' convertir les colonnes\n"
   ]
  },
  {
   "cell_type": "markdown",
   "id": "1a285961",
   "metadata": {},
   "source": [
    "#### Each observation forms a row\n",
    "- nothing"
   ]
  },
  {
   "cell_type": "markdown",
   "id": "4fab6a7d",
   "metadata": {},
   "source": [
    "#### Each type of observational unit forms a table\n",
    "- nothing"
   ]
  },
  {
   "cell_type": "code",
   "execution_count": null,
   "id": "c96ef10b",
   "metadata": {},
   "outputs": [],
   "source": []
  },
  {
   "cell_type": "markdown",
   "id": "ff958c28",
   "metadata": {},
   "source": [
    "### 2-2- Quality issues"
   ]
  },
  {
   "cell_type": "code",
   "execution_count": 5,
   "id": "38b24c85",
   "metadata": {},
   "outputs": [
    {
     "data": {
      "text/html": [
       "<div>\n",
       "<style scoped>\n",
       "    .dataframe tbody tr th:only-of-type {\n",
       "        vertical-align: middle;\n",
       "    }\n",
       "\n",
       "    .dataframe tbody tr th {\n",
       "        vertical-align: top;\n",
       "    }\n",
       "\n",
       "    .dataframe thead th {\n",
       "        text-align: right;\n",
       "    }\n",
       "</style>\n",
       "<table border=\"1\" class=\"dataframe\">\n",
       "  <thead>\n",
       "    <tr style=\"text-align: right;\">\n",
       "      <th></th>\n",
       "      <th>Invoice ID</th>\n",
       "      <th>Branch</th>\n",
       "      <th>Yangon</th>\n",
       "      <th>Naypyitaw</th>\n",
       "      <th>Mandalay</th>\n",
       "      <th>Customer type</th>\n",
       "      <th>Gender</th>\n",
       "      <th>Product line</th>\n",
       "      <th>Unit price</th>\n",
       "      <th>Quantity</th>\n",
       "      <th>Tax 5%</th>\n",
       "      <th>Total</th>\n",
       "      <th>Date</th>\n",
       "      <th>Time</th>\n",
       "      <th>Payment</th>\n",
       "      <th>Rating</th>\n",
       "    </tr>\n",
       "  </thead>\n",
       "  <tbody>\n",
       "    <tr>\n",
       "      <th>173</th>\n",
       "      <td>608-27-6295</td>\n",
       "      <td>B</td>\n",
       "      <td>0</td>\n",
       "      <td>0</td>\n",
       "      <td>1</td>\n",
       "      <td>Member</td>\n",
       "      <td>Male</td>\n",
       "      <td>Electronic accessories</td>\n",
       "      <td>52.89</td>\n",
       "      <td>6</td>\n",
       "      <td>15.8670</td>\n",
       "      <td>333.2070</td>\n",
       "      <td>1/19/2019</td>\n",
       "      <td>17:34</td>\n",
       "      <td>Credit card</td>\n",
       "      <td>9.8</td>\n",
       "    </tr>\n",
       "    <tr>\n",
       "      <th>444</th>\n",
       "      <td>301-11-9629</td>\n",
       "      <td>A</td>\n",
       "      <td>1</td>\n",
       "      <td>0</td>\n",
       "      <td>0</td>\n",
       "      <td>Normal</td>\n",
       "      <td>Female</td>\n",
       "      <td>Sports and travel</td>\n",
       "      <td>19.1</td>\n",
       "      <td>7</td>\n",
       "      <td>6.6850</td>\n",
       "      <td>140.3850</td>\n",
       "      <td>1/15/2019</td>\n",
       "      <td>10:43</td>\n",
       "      <td>Cash</td>\n",
       "      <td>9.7</td>\n",
       "    </tr>\n",
       "    <tr>\n",
       "      <th>896</th>\n",
       "      <td>781-84-8059</td>\n",
       "      <td>C</td>\n",
       "      <td>0</td>\n",
       "      <td>1</td>\n",
       "      <td>0</td>\n",
       "      <td>Normal</td>\n",
       "      <td>Male</td>\n",
       "      <td>Fashion accessories</td>\n",
       "      <td>60.74</td>\n",
       "      <td>7</td>\n",
       "      <td>21.2590</td>\n",
       "      <td>446.4390</td>\n",
       "      <td>1/18/2019</td>\n",
       "      <td>16:23</td>\n",
       "      <td>Ewallet</td>\n",
       "      <td>5.0</td>\n",
       "    </tr>\n",
       "    <tr>\n",
       "      <th>866</th>\n",
       "      <td>361-59-0574</td>\n",
       "      <td>B</td>\n",
       "      <td>0</td>\n",
       "      <td>0</td>\n",
       "      <td>1</td>\n",
       "      <td>Member</td>\n",
       "      <td>Male</td>\n",
       "      <td>Sports and travel</td>\n",
       "      <td>90.53</td>\n",
       "      <td>8</td>\n",
       "      <td>36.2120</td>\n",
       "      <td>760.4520</td>\n",
       "      <td>3/15/2019</td>\n",
       "      <td>14:48</td>\n",
       "      <td>Credit card</td>\n",
       "      <td>6.5</td>\n",
       "    </tr>\n",
       "    <tr>\n",
       "      <th>402</th>\n",
       "      <td>236-86-3015</td>\n",
       "      <td>C</td>\n",
       "      <td>0</td>\n",
       "      <td>1</td>\n",
       "      <td>0</td>\n",
       "      <td>Member</td>\n",
       "      <td>Male</td>\n",
       "      <td>Home and lifestyle</td>\n",
       "      <td>13.98</td>\n",
       "      <td>1</td>\n",
       "      <td>0.6990</td>\n",
       "      <td>14.6790</td>\n",
       "      <td>2/4/2019</td>\n",
       "      <td>13:38</td>\n",
       "      <td>Ewallet</td>\n",
       "      <td>9.8</td>\n",
       "    </tr>\n",
       "    <tr>\n",
       "      <th>693</th>\n",
       "      <td>196-01-2849</td>\n",
       "      <td>C</td>\n",
       "      <td>0</td>\n",
       "      <td>1</td>\n",
       "      <td>0</td>\n",
       "      <td>Member</td>\n",
       "      <td>Female</td>\n",
       "      <td>Fashion accessories</td>\n",
       "      <td>73.38</td>\n",
       "      <td>7</td>\n",
       "      <td>25.6830</td>\n",
       "      <td>539.3430</td>\n",
       "      <td>2/10/2019</td>\n",
       "      <td>13:56</td>\n",
       "      <td>Cash</td>\n",
       "      <td>9.5</td>\n",
       "    </tr>\n",
       "    <tr>\n",
       "      <th>630</th>\n",
       "      <td>149-61-1929</td>\n",
       "      <td>A</td>\n",
       "      <td>1</td>\n",
       "      <td>0</td>\n",
       "      <td>0</td>\n",
       "      <td>Normal</td>\n",
       "      <td>Male</td>\n",
       "      <td>Sports and travel</td>\n",
       "      <td>64.19</td>\n",
       "      <td>10</td>\n",
       "      <td>32.0950</td>\n",
       "      <td>673.9950</td>\n",
       "      <td>1/19/2019</td>\n",
       "      <td>14:08</td>\n",
       "      <td>Credit card</td>\n",
       "      <td>6.7</td>\n",
       "    </tr>\n",
       "    <tr>\n",
       "      <th>647</th>\n",
       "      <td>574-31-8277</td>\n",
       "      <td>B</td>\n",
       "      <td>0</td>\n",
       "      <td>0</td>\n",
       "      <td>1</td>\n",
       "      <td>Member</td>\n",
       "      <td>Male</td>\n",
       "      <td>Fashion accessories</td>\n",
       "      <td>33.63</td>\n",
       "      <td>1</td>\n",
       "      <td>1.6815</td>\n",
       "      <td>35.3115</td>\n",
       "      <td>3/20/2019</td>\n",
       "      <td>19:55</td>\n",
       "      <td>Cash</td>\n",
       "      <td>5.6</td>\n",
       "    </tr>\n",
       "    <tr>\n",
       "      <th>986</th>\n",
       "      <td>764-44-8999</td>\n",
       "      <td>B</td>\n",
       "      <td>0</td>\n",
       "      <td>0</td>\n",
       "      <td>1</td>\n",
       "      <td>Normal</td>\n",
       "      <td>Female</td>\n",
       "      <td>Health and beauty</td>\n",
       "      <td>14.76</td>\n",
       "      <td>2</td>\n",
       "      <td>1.4760</td>\n",
       "      <td>30.9960</td>\n",
       "      <td>2/18/2019</td>\n",
       "      <td>14:42</td>\n",
       "      <td>Ewallet</td>\n",
       "      <td>4.3</td>\n",
       "    </tr>\n",
       "    <tr>\n",
       "      <th>618</th>\n",
       "      <td>828-46-6863</td>\n",
       "      <td>A</td>\n",
       "      <td>1</td>\n",
       "      <td>0</td>\n",
       "      <td>0</td>\n",
       "      <td>Member</td>\n",
       "      <td>Male</td>\n",
       "      <td>Food and beverages</td>\n",
       "      <td>98.53</td>\n",
       "      <td>6</td>\n",
       "      <td>29.5590</td>\n",
       "      <td>620.7390</td>\n",
       "      <td>1/23/2019</td>\n",
       "      <td>11:22</td>\n",
       "      <td>Credit card</td>\n",
       "      <td>4.0</td>\n",
       "    </tr>\n",
       "  </tbody>\n",
       "</table>\n",
       "</div>"
      ],
      "text/plain": [
       "      Invoice ID Branch  Yangon  Naypyitaw  Mandalay Customer type  Gender  \\\n",
       "173  608-27-6295      B       0          0         1        Member    Male   \n",
       "444  301-11-9629      A       1          0         0        Normal  Female   \n",
       "896  781-84-8059      C       0          1         0        Normal    Male   \n",
       "866  361-59-0574      B       0          0         1        Member    Male   \n",
       "402  236-86-3015      C       0          1         0        Member    Male   \n",
       "693  196-01-2849      C       0          1         0        Member  Female   \n",
       "630  149-61-1929      A       1          0         0        Normal    Male   \n",
       "647  574-31-8277      B       0          0         1        Member    Male   \n",
       "986  764-44-8999      B       0          0         1        Normal  Female   \n",
       "618  828-46-6863      A       1          0         0        Member    Male   \n",
       "\n",
       "               Product line Unit price  Quantity   Tax 5%     Total  \\\n",
       "173  Electronic accessories      52.89         6  15.8670  333.2070   \n",
       "444       Sports and travel       19.1         7   6.6850  140.3850   \n",
       "896     Fashion accessories      60.74         7  21.2590  446.4390   \n",
       "866       Sports and travel      90.53         8  36.2120  760.4520   \n",
       "402      Home and lifestyle      13.98         1   0.6990   14.6790   \n",
       "693     Fashion accessories      73.38         7  25.6830  539.3430   \n",
       "630       Sports and travel      64.19        10  32.0950  673.9950   \n",
       "647     Fashion accessories      33.63         1   1.6815   35.3115   \n",
       "986       Health and beauty      14.76         2   1.4760   30.9960   \n",
       "618      Food and beverages      98.53         6  29.5590  620.7390   \n",
       "\n",
       "          Date   Time      Payment  Rating  \n",
       "173  1/19/2019  17:34  Credit card     9.8  \n",
       "444  1/15/2019  10:43         Cash     9.7  \n",
       "896  1/18/2019  16:23      Ewallet     5.0  \n",
       "866  3/15/2019  14:48  Credit card     6.5  \n",
       "402   2/4/2019  13:38      Ewallet     9.8  \n",
       "693  2/10/2019  13:56         Cash     9.5  \n",
       "630  1/19/2019  14:08  Credit card     6.7  \n",
       "647  3/20/2019  19:55         Cash     5.6  \n",
       "986  2/18/2019  14:42      Ewallet     4.3  \n",
       "618  1/23/2019  11:22  Credit card     4.0  "
      ]
     },
     "execution_count": 5,
     "metadata": {},
     "output_type": "execute_result"
    }
   ],
   "source": [
    "df.sample(10)"
   ]
  },
  {
   "cell_type": "code",
   "execution_count": 6,
   "id": "c3bdc1bb",
   "metadata": {},
   "outputs": [
    {
     "name": "stdout",
     "output_type": "stream",
     "text": [
      "<class 'pandas.core.frame.DataFrame'>\n",
      "RangeIndex: 1006 entries, 0 to 1005\n",
      "Data columns (total 16 columns):\n",
      " #   Column         Non-Null Count  Dtype  \n",
      "---  ------         --------------  -----  \n",
      " 0   Invoice ID     1006 non-null   object \n",
      " 1   Branch         1006 non-null   object \n",
      " 2   Yangon         1006 non-null   int64  \n",
      " 3   Naypyitaw      1006 non-null   int64  \n",
      " 4   Mandalay       1006 non-null   int64  \n",
      " 5   Customer type  1006 non-null   object \n",
      " 6   Gender         1006 non-null   object \n",
      " 7   Product line   1006 non-null   object \n",
      " 8   Unit price     1006 non-null   object \n",
      " 9   Quantity       1006 non-null   int64  \n",
      " 10  Tax 5%         997 non-null    float64\n",
      " 11  Total          1003 non-null   float64\n",
      " 12  Date           1006 non-null   object \n",
      " 13  Time           1006 non-null   object \n",
      " 14  Payment        1006 non-null   object \n",
      " 15  Rating         1006 non-null   float64\n",
      "dtypes: float64(3), int64(4), object(9)\n",
      "memory usage: 125.9+ KB\n"
     ]
    }
   ],
   "source": [
    "df.info()"
   ]
  },
  {
   "cell_type": "code",
   "execution_count": 7,
   "id": "a1a69dac",
   "metadata": {},
   "outputs": [
    {
     "data": {
      "text/html": [
       "<div>\n",
       "<style scoped>\n",
       "    .dataframe tbody tr th:only-of-type {\n",
       "        vertical-align: middle;\n",
       "    }\n",
       "\n",
       "    .dataframe tbody tr th {\n",
       "        vertical-align: top;\n",
       "    }\n",
       "\n",
       "    .dataframe thead th {\n",
       "        text-align: right;\n",
       "    }\n",
       "</style>\n",
       "<table border=\"1\" class=\"dataframe\">\n",
       "  <thead>\n",
       "    <tr style=\"text-align: right;\">\n",
       "      <th></th>\n",
       "      <th>Yangon</th>\n",
       "      <th>Naypyitaw</th>\n",
       "      <th>Mandalay</th>\n",
       "      <th>Quantity</th>\n",
       "      <th>Tax 5%</th>\n",
       "      <th>Total</th>\n",
       "      <th>Rating</th>\n",
       "    </tr>\n",
       "  </thead>\n",
       "  <tbody>\n",
       "    <tr>\n",
       "      <th>count</th>\n",
       "      <td>1006.000000</td>\n",
       "      <td>1006.000000</td>\n",
       "      <td>1006.000000</td>\n",
       "      <td>1006.000000</td>\n",
       "      <td>997.000000</td>\n",
       "      <td>1003.000000</td>\n",
       "      <td>1006.000000</td>\n",
       "    </tr>\n",
       "    <tr>\n",
       "      <th>mean</th>\n",
       "      <td>0.338966</td>\n",
       "      <td>0.329026</td>\n",
       "      <td>0.332008</td>\n",
       "      <td>5.469185</td>\n",
       "      <td>15.479682</td>\n",
       "      <td>322.734689</td>\n",
       "      <td>7.056163</td>\n",
       "    </tr>\n",
       "    <tr>\n",
       "      <th>std</th>\n",
       "      <td>0.473594</td>\n",
       "      <td>0.470093</td>\n",
       "      <td>0.471168</td>\n",
       "      <td>3.014153</td>\n",
       "      <td>11.728320</td>\n",
       "      <td>245.865964</td>\n",
       "      <td>3.318751</td>\n",
       "    </tr>\n",
       "    <tr>\n",
       "      <th>min</th>\n",
       "      <td>0.000000</td>\n",
       "      <td>0.000000</td>\n",
       "      <td>0.000000</td>\n",
       "      <td>-8.000000</td>\n",
       "      <td>0.508500</td>\n",
       "      <td>10.678500</td>\n",
       "      <td>4.000000</td>\n",
       "    </tr>\n",
       "    <tr>\n",
       "      <th>25%</th>\n",
       "      <td>0.000000</td>\n",
       "      <td>0.000000</td>\n",
       "      <td>0.000000</td>\n",
       "      <td>3.000000</td>\n",
       "      <td>5.986500</td>\n",
       "      <td>123.789750</td>\n",
       "      <td>5.500000</td>\n",
       "    </tr>\n",
       "    <tr>\n",
       "      <th>50%</th>\n",
       "      <td>0.000000</td>\n",
       "      <td>0.000000</td>\n",
       "      <td>0.000000</td>\n",
       "      <td>5.000000</td>\n",
       "      <td>12.227500</td>\n",
       "      <td>254.016000</td>\n",
       "      <td>7.000000</td>\n",
       "    </tr>\n",
       "    <tr>\n",
       "      <th>75%</th>\n",
       "      <td>1.000000</td>\n",
       "      <td>1.000000</td>\n",
       "      <td>1.000000</td>\n",
       "      <td>8.000000</td>\n",
       "      <td>22.720500</td>\n",
       "      <td>471.009000</td>\n",
       "      <td>8.500000</td>\n",
       "    </tr>\n",
       "    <tr>\n",
       "      <th>max</th>\n",
       "      <td>1.000000</td>\n",
       "      <td>1.000000</td>\n",
       "      <td>1.000000</td>\n",
       "      <td>10.000000</td>\n",
       "      <td>49.650000</td>\n",
       "      <td>1042.650000</td>\n",
       "      <td>97.000000</td>\n",
       "    </tr>\n",
       "  </tbody>\n",
       "</table>\n",
       "</div>"
      ],
      "text/plain": [
       "            Yangon    Naypyitaw     Mandalay     Quantity      Tax 5%  \\\n",
       "count  1006.000000  1006.000000  1006.000000  1006.000000  997.000000   \n",
       "mean      0.338966     0.329026     0.332008     5.469185   15.479682   \n",
       "std       0.473594     0.470093     0.471168     3.014153   11.728320   \n",
       "min       0.000000     0.000000     0.000000    -8.000000    0.508500   \n",
       "25%       0.000000     0.000000     0.000000     3.000000    5.986500   \n",
       "50%       0.000000     0.000000     0.000000     5.000000   12.227500   \n",
       "75%       1.000000     1.000000     1.000000     8.000000   22.720500   \n",
       "max       1.000000     1.000000     1.000000    10.000000   49.650000   \n",
       "\n",
       "             Total       Rating  \n",
       "count  1003.000000  1006.000000  \n",
       "mean    322.734689     7.056163  \n",
       "std     245.865964     3.318751  \n",
       "min      10.678500     4.000000  \n",
       "25%     123.789750     5.500000  \n",
       "50%     254.016000     7.000000  \n",
       "75%     471.009000     8.500000  \n",
       "max    1042.650000    97.000000  "
      ]
     },
     "execution_count": 7,
     "metadata": {},
     "output_type": "execute_result"
    }
   ],
   "source": [
    "df.describe()"
   ]
  },
  {
   "cell_type": "code",
   "execution_count": 8,
   "id": "fd624cb2",
   "metadata": {},
   "outputs": [
    {
     "data": {
      "text/plain": [
       "6"
      ]
     },
     "execution_count": 8,
     "metadata": {},
     "output_type": "execute_result"
    }
   ],
   "source": [
    "df.duplicated().sum()"
   ]
  },
  {
   "cell_type": "code",
   "execution_count": 9,
   "id": "aff62b7b",
   "metadata": {},
   "outputs": [
    {
     "data": {
      "text/plain": [
       "Invoice ID       0\n",
       "Branch           0\n",
       "Yangon           0\n",
       "Naypyitaw        0\n",
       "Mandalay         0\n",
       "Customer type    0\n",
       "Gender           0\n",
       "Product line     0\n",
       "Unit price       0\n",
       "Quantity         0\n",
       "Tax 5%           9\n",
       "Total            3\n",
       "Date             0\n",
       "Time             0\n",
       "Payment          0\n",
       "Rating           0\n",
       "dtype: int64"
      ]
     },
     "execution_count": 9,
     "metadata": {},
     "output_type": "execute_result"
    }
   ],
   "source": [
    "df.isnull().sum()"
   ]
  },
  {
   "cell_type": "code",
   "execution_count": 10,
   "id": "8a4b7dc1",
   "metadata": {},
   "outputs": [
    {
     "data": {
      "text/plain": [
       "Normal     515\n",
       "Member     463\n",
       "-           27\n",
       "Memberr      1\n",
       "Name: Customer type, dtype: int64"
      ]
     },
     "execution_count": 10,
     "metadata": {},
     "output_type": "execute_result"
    }
   ],
   "source": [
    "df['Customer type'].value_counts()"
   ]
  },
  {
   "cell_type": "code",
   "execution_count": 11,
   "id": "055ff312",
   "metadata": {},
   "outputs": [
    {
     "data": {
      "text/plain": [
       " 10    120\n",
       " 1     111\n",
       " 4     109\n",
       " 7     102\n",
       " 5     102\n",
       " 6      98\n",
       " 9      94\n",
       " 2      92\n",
       " 3      91\n",
       " 8      83\n",
       "-8       2\n",
       "-1       1\n",
       "-7       1\n",
       "Name: Quantity, dtype: int64"
      ]
     },
     "execution_count": 11,
     "metadata": {},
     "output_type": "execute_result"
    }
   ],
   "source": [
    "df['Quantity'].value_counts()"
   ]
  },
  {
   "cell_type": "code",
   "execution_count": 12,
   "id": "2be147c7",
   "metadata": {},
   "outputs": [
    {
     "data": {
      "text/html": [
       "<div>\n",
       "<style scoped>\n",
       "    .dataframe tbody tr th:only-of-type {\n",
       "        vertical-align: middle;\n",
       "    }\n",
       "\n",
       "    .dataframe tbody tr th {\n",
       "        vertical-align: top;\n",
       "    }\n",
       "\n",
       "    .dataframe thead th {\n",
       "        text-align: right;\n",
       "    }\n",
       "</style>\n",
       "<table border=\"1\" class=\"dataframe\">\n",
       "  <thead>\n",
       "    <tr style=\"text-align: right;\">\n",
       "      <th></th>\n",
       "      <th>Invoice ID</th>\n",
       "      <th>Branch</th>\n",
       "      <th>Yangon</th>\n",
       "      <th>Naypyitaw</th>\n",
       "      <th>Mandalay</th>\n",
       "      <th>Customer type</th>\n",
       "      <th>Gender</th>\n",
       "      <th>Product line</th>\n",
       "      <th>Unit price</th>\n",
       "      <th>Quantity</th>\n",
       "      <th>Tax 5%</th>\n",
       "      <th>Total</th>\n",
       "      <th>Date</th>\n",
       "      <th>Time</th>\n",
       "      <th>Payment</th>\n",
       "      <th>Rating</th>\n",
       "    </tr>\n",
       "  </thead>\n",
       "  <tbody>\n",
       "    <tr>\n",
       "      <th>629</th>\n",
       "      <td>308-39-1707</td>\n",
       "      <td>A</td>\n",
       "      <td>1</td>\n",
       "      <td>0</td>\n",
       "      <td>0</td>\n",
       "      <td>Normal</td>\n",
       "      <td>Female</td>\n",
       "      <td>Fashion accessories</td>\n",
       "      <td>12.09 USD</td>\n",
       "      <td>-1</td>\n",
       "      <td>NaN</td>\n",
       "      <td>12.6945</td>\n",
       "      <td>1/26/2019</td>\n",
       "      <td>18:19</td>\n",
       "      <td>Credit card</td>\n",
       "      <td>8.2</td>\n",
       "    </tr>\n",
       "    <tr>\n",
       "      <th>830</th>\n",
       "      <td>237-44-6163</td>\n",
       "      <td>A</td>\n",
       "      <td>1</td>\n",
       "      <td>0</td>\n",
       "      <td>0</td>\n",
       "      <td>Normal</td>\n",
       "      <td>Male</td>\n",
       "      <td>Electronic accessories</td>\n",
       "      <td>10.56 USD</td>\n",
       "      <td>-8</td>\n",
       "      <td>NaN</td>\n",
       "      <td>88.7040</td>\n",
       "      <td>1/24/2019</td>\n",
       "      <td>17:43</td>\n",
       "      <td>Cash</td>\n",
       "      <td>7.6</td>\n",
       "    </tr>\n",
       "    <tr>\n",
       "      <th>881</th>\n",
       "      <td>115-38-7388</td>\n",
       "      <td>C</td>\n",
       "      <td>0</td>\n",
       "      <td>1</td>\n",
       "      <td>0</td>\n",
       "      <td>Member</td>\n",
       "      <td>Female</td>\n",
       "      <td>Fashion accessories</td>\n",
       "      <td>10.18 USD</td>\n",
       "      <td>-8</td>\n",
       "      <td>NaN</td>\n",
       "      <td>85.5120</td>\n",
       "      <td>3/30/2019</td>\n",
       "      <td>12:51</td>\n",
       "      <td>Credit card</td>\n",
       "      <td>9.5</td>\n",
       "    </tr>\n",
       "    <tr>\n",
       "      <th>903</th>\n",
       "      <td>865-41-9075</td>\n",
       "      <td>A</td>\n",
       "      <td>1</td>\n",
       "      <td>0</td>\n",
       "      <td>0</td>\n",
       "      <td>Normal</td>\n",
       "      <td>Male</td>\n",
       "      <td>Food and beverages</td>\n",
       "      <td>11.53 USD</td>\n",
       "      <td>-7</td>\n",
       "      <td>NaN</td>\n",
       "      <td>84.7455</td>\n",
       "      <td>1/28/2019</td>\n",
       "      <td>17:35</td>\n",
       "      <td>Cash</td>\n",
       "      <td>8.1</td>\n",
       "    </tr>\n",
       "  </tbody>\n",
       "</table>\n",
       "</div>"
      ],
      "text/plain": [
       "      Invoice ID Branch  Yangon  Naypyitaw  Mandalay Customer type  Gender  \\\n",
       "629  308-39-1707      A       1          0         0        Normal  Female   \n",
       "830  237-44-6163      A       1          0         0        Normal    Male   \n",
       "881  115-38-7388      C       0          1         0        Member  Female   \n",
       "903  865-41-9075      A       1          0         0        Normal    Male   \n",
       "\n",
       "               Product line Unit price  Quantity  Tax 5%    Total       Date  \\\n",
       "629     Fashion accessories  12.09 USD        -1     NaN  12.6945  1/26/2019   \n",
       "830  Electronic accessories  10.56 USD        -8     NaN  88.7040  1/24/2019   \n",
       "881     Fashion accessories  10.18 USD        -8     NaN  85.5120  3/30/2019   \n",
       "903      Food and beverages  11.53 USD        -7     NaN  84.7455  1/28/2019   \n",
       "\n",
       "      Time      Payment  Rating  \n",
       "629  18:19  Credit card     8.2  \n",
       "830  17:43         Cash     7.6  \n",
       "881  12:51  Credit card     9.5  \n",
       "903  17:35         Cash     8.1  "
      ]
     },
     "execution_count": 12,
     "metadata": {},
     "output_type": "execute_result"
    }
   ],
   "source": [
    "negative_values = df[df['Quantity'] < 0]\n",
    "negative_values"
   ]
  },
  {
   "cell_type": "code",
   "execution_count": null,
   "id": "1f4c08d9",
   "metadata": {},
   "outputs": [],
   "source": []
  },
  {
   "cell_type": "code",
   "execution_count": null,
   "id": "db2ec2c9",
   "metadata": {},
   "outputs": [],
   "source": []
  },
  {
   "cell_type": "code",
   "execution_count": null,
   "id": "0e637798",
   "metadata": {},
   "outputs": [],
   "source": []
  },
  {
   "cell_type": "markdown",
   "id": "3b88db23",
   "metadata": {},
   "source": [
    "#### 1- Completeness :\n",
    "- Remove USD from unit price columns\n",
    "- Remove (pm)and (-) from Time columns\n",
    "- Replace the empty values in the \"Total\" column by multiplying \"Quantity\" by \"Unit Price\" and adding \"5% Tax\"\n",
    "- Replace empty values in the \"5% Tax\" column\n",
    "- Replace (-) with the most common value."
   ]
  },
  {
   "cell_type": "markdown",
   "id": "101a7ede",
   "metadata": {},
   "source": [
    "#### 2- Validity :\n",
    "- Change column names  => 'Invoice_ID' , 'Customer_type' , 'Product_line' , 'Unit_price' , 'Tax_5%' \n",
    "- Replace column type Unit price from object to int\n",
    "- Replace column Date from int to date\n"
   ]
  },
  {
   "cell_type": "markdown",
   "id": "7c2ff2e7",
   "metadata": {},
   "source": [
    "#### 3- accuracy :\n",
    "- nothing outlet in data"
   ]
  },
  {
   "cell_type": "markdown",
   "id": "e7f5784a",
   "metadata": {},
   "source": [
    "#### 4- Consistency :\n",
    "- remove duplicates"
   ]
  },
  {
   "cell_type": "markdown",
   "id": "750aecdd",
   "metadata": {},
   "source": [
    "<a id='Cleaning'></a>\n",
    "## 3- Data Cleaning"
   ]
  },
  {
   "cell_type": "code",
   "execution_count": 13,
   "id": "6dd2c4b2",
   "metadata": {},
   "outputs": [
    {
     "data": {
      "text/html": [
       "<div>\n",
       "<style scoped>\n",
       "    .dataframe tbody tr th:only-of-type {\n",
       "        vertical-align: middle;\n",
       "    }\n",
       "\n",
       "    .dataframe tbody tr th {\n",
       "        vertical-align: top;\n",
       "    }\n",
       "\n",
       "    .dataframe thead th {\n",
       "        text-align: right;\n",
       "    }\n",
       "</style>\n",
       "<table border=\"1\" class=\"dataframe\">\n",
       "  <thead>\n",
       "    <tr style=\"text-align: right;\">\n",
       "      <th></th>\n",
       "      <th>Invoice ID</th>\n",
       "      <th>Branch</th>\n",
       "      <th>Yangon</th>\n",
       "      <th>Naypyitaw</th>\n",
       "      <th>Mandalay</th>\n",
       "      <th>Customer type</th>\n",
       "      <th>Gender</th>\n",
       "      <th>Product line</th>\n",
       "      <th>Unit price</th>\n",
       "      <th>Quantity</th>\n",
       "      <th>Tax 5%</th>\n",
       "      <th>Total</th>\n",
       "      <th>Date</th>\n",
       "      <th>Time</th>\n",
       "      <th>Payment</th>\n",
       "      <th>Rating</th>\n",
       "    </tr>\n",
       "  </thead>\n",
       "  <tbody>\n",
       "    <tr>\n",
       "      <th>0</th>\n",
       "      <td>750-67-8428</td>\n",
       "      <td>A</td>\n",
       "      <td>1</td>\n",
       "      <td>0</td>\n",
       "      <td>0</td>\n",
       "      <td>Normal</td>\n",
       "      <td>Male</td>\n",
       "      <td>Health and beauty</td>\n",
       "      <td>74.69</td>\n",
       "      <td>7</td>\n",
       "      <td>26.1415</td>\n",
       "      <td>NaN</td>\n",
       "      <td>1/5/2019</td>\n",
       "      <td>13:08</td>\n",
       "      <td>Ewallet</td>\n",
       "      <td>9.1</td>\n",
       "    </tr>\n",
       "    <tr>\n",
       "      <th>1</th>\n",
       "      <td>226-31-3081</td>\n",
       "      <td>C</td>\n",
       "      <td>0</td>\n",
       "      <td>1</td>\n",
       "      <td>0</td>\n",
       "      <td>Normal</td>\n",
       "      <td>Male</td>\n",
       "      <td>Electronic accessories</td>\n",
       "      <td>15.28</td>\n",
       "      <td>5</td>\n",
       "      <td>3.8200</td>\n",
       "      <td>80.2200</td>\n",
       "      <td>3/8/2019</td>\n",
       "      <td>10:29</td>\n",
       "      <td>Cash</td>\n",
       "      <td>9.6</td>\n",
       "    </tr>\n",
       "    <tr>\n",
       "      <th>2</th>\n",
       "      <td>631-41-3108</td>\n",
       "      <td>A</td>\n",
       "      <td>1</td>\n",
       "      <td>0</td>\n",
       "      <td>0</td>\n",
       "      <td>Normal</td>\n",
       "      <td>Male</td>\n",
       "      <td>Home and lifestyle</td>\n",
       "      <td>46.33</td>\n",
       "      <td>7</td>\n",
       "      <td>16.2155</td>\n",
       "      <td>340.5255</td>\n",
       "      <td>3/3/2019</td>\n",
       "      <td>13:23</td>\n",
       "      <td>Credit card</td>\n",
       "      <td>7.4</td>\n",
       "    </tr>\n",
       "    <tr>\n",
       "      <th>3</th>\n",
       "      <td>123-19-1176</td>\n",
       "      <td>A</td>\n",
       "      <td>1</td>\n",
       "      <td>0</td>\n",
       "      <td>0</td>\n",
       "      <td>Normal</td>\n",
       "      <td>Male</td>\n",
       "      <td>Health and beauty</td>\n",
       "      <td>58.22</td>\n",
       "      <td>8</td>\n",
       "      <td>NaN</td>\n",
       "      <td>489.0480</td>\n",
       "      <td>1/27/2019</td>\n",
       "      <td>8 - 30 PM</td>\n",
       "      <td>Ewallet</td>\n",
       "      <td>8.4</td>\n",
       "    </tr>\n",
       "    <tr>\n",
       "      <th>4</th>\n",
       "      <td>373-73-7910</td>\n",
       "      <td>A</td>\n",
       "      <td>1</td>\n",
       "      <td>0</td>\n",
       "      <td>0</td>\n",
       "      <td>Normal</td>\n",
       "      <td>Male</td>\n",
       "      <td>Sports and travel</td>\n",
       "      <td>86.31</td>\n",
       "      <td>7</td>\n",
       "      <td>30.2085</td>\n",
       "      <td>634.3785</td>\n",
       "      <td>2/8/2019</td>\n",
       "      <td>10:37</td>\n",
       "      <td>Ewallet</td>\n",
       "      <td>5.3</td>\n",
       "    </tr>\n",
       "  </tbody>\n",
       "</table>\n",
       "</div>"
      ],
      "text/plain": [
       "    Invoice ID Branch  Yangon  Naypyitaw  Mandalay Customer type Gender  \\\n",
       "0  750-67-8428      A       1          0         0        Normal   Male   \n",
       "1  226-31-3081      C       0          1         0        Normal   Male   \n",
       "2  631-41-3108      A       1          0         0        Normal   Male   \n",
       "3  123-19-1176      A       1          0         0        Normal   Male   \n",
       "4  373-73-7910      A       1          0         0        Normal   Male   \n",
       "\n",
       "             Product line Unit price  Quantity   Tax 5%     Total       Date  \\\n",
       "0       Health and beauty      74.69         7  26.1415       NaN   1/5/2019   \n",
       "1  Electronic accessories      15.28         5   3.8200   80.2200   3/8/2019   \n",
       "2      Home and lifestyle      46.33         7  16.2155  340.5255   3/3/2019   \n",
       "3       Health and beauty      58.22         8      NaN  489.0480  1/27/2019   \n",
       "4       Sports and travel      86.31         7  30.2085  634.3785   2/8/2019   \n",
       "\n",
       "        Time      Payment  Rating  \n",
       "0      13:08      Ewallet     9.1  \n",
       "1      10:29         Cash     9.6  \n",
       "2      13:23  Credit card     7.4  \n",
       "3  8 - 30 PM      Ewallet     8.4  \n",
       "4      10:37      Ewallet     5.3  "
      ]
     },
     "execution_count": 13,
     "metadata": {},
     "output_type": "execute_result"
    }
   ],
   "source": [
    "#copy from the dataframe\n",
    "df_clean = df.copy()\n",
    "df_clean.head()"
   ]
  },
  {
   "cell_type": "markdown",
   "id": "2d1d1e56",
   "metadata": {},
   "source": [
    "### 3-1 Fixing Tidiness issues"
   ]
  },
  {
   "cell_type": "markdown",
   "id": "82d3a468",
   "metadata": {},
   "source": [
    "#### A- Define :\n",
    "- 'Yangon', 'Naypyitaw', 'Mandalay' convertir les colonnes"
   ]
  },
  {
   "cell_type": "markdown",
   "id": "65a7136e",
   "metadata": {},
   "source": [
    "#### B- Code :"
   ]
  },
  {
   "cell_type": "code",
   "execution_count": 14,
   "id": "feeb3b1d",
   "metadata": {},
   "outputs": [],
   "source": [
    "# Reshape DataFrame from wide to long format for sales by city  \n",
    "df_clean = pd.melt(df_clean , \n",
    "                    id_vars=['Invoice ID', 'Branch', 'Customer type', 'Gender', 'Product line', 'Unit price', 'Quantity', 'Tax 5%', 'Total', 'Date', 'Time', 'Payment', 'Rating'], \n",
    "                    value_vars=['Yangon', 'Naypyitaw', 'Mandalay'], \n",
    "                    var_name='City',\n",
    "                    value_name='Sales')  \n",
    "#  Filter the \"df\" to keep only the rows where the \"Sales\" column is = 1\n",
    "df_clean = df_clean [df_clean ['Sales'] == 1]"
   ]
  },
  {
   "cell_type": "markdown",
   "id": "e5ef5167",
   "metadata": {},
   "source": [
    "#### C-Test :"
   ]
  },
  {
   "cell_type": "code",
   "execution_count": 15,
   "id": "42bc9a7a",
   "metadata": {},
   "outputs": [
    {
     "data": {
      "text/html": [
       "<div>\n",
       "<style scoped>\n",
       "    .dataframe tbody tr th:only-of-type {\n",
       "        vertical-align: middle;\n",
       "    }\n",
       "\n",
       "    .dataframe tbody tr th {\n",
       "        vertical-align: top;\n",
       "    }\n",
       "\n",
       "    .dataframe thead th {\n",
       "        text-align: right;\n",
       "    }\n",
       "</style>\n",
       "<table border=\"1\" class=\"dataframe\">\n",
       "  <thead>\n",
       "    <tr style=\"text-align: right;\">\n",
       "      <th></th>\n",
       "      <th>Invoice ID</th>\n",
       "      <th>Branch</th>\n",
       "      <th>Customer type</th>\n",
       "      <th>Gender</th>\n",
       "      <th>Product line</th>\n",
       "      <th>Unit price</th>\n",
       "      <th>Quantity</th>\n",
       "      <th>Tax 5%</th>\n",
       "      <th>Total</th>\n",
       "      <th>Date</th>\n",
       "      <th>Time</th>\n",
       "      <th>Payment</th>\n",
       "      <th>Rating</th>\n",
       "      <th>City</th>\n",
       "      <th>Sales</th>\n",
       "    </tr>\n",
       "  </thead>\n",
       "  <tbody>\n",
       "    <tr>\n",
       "      <th>2439</th>\n",
       "      <td>650-98-6268</td>\n",
       "      <td>B</td>\n",
       "      <td>Member</td>\n",
       "      <td>Female</td>\n",
       "      <td>Food and beverages</td>\n",
       "      <td>20.87</td>\n",
       "      <td>3</td>\n",
       "      <td>3.1305</td>\n",
       "      <td>65.7405</td>\n",
       "      <td>3/20/2019</td>\n",
       "      <td>13:53</td>\n",
       "      <td>Credit card</td>\n",
       "      <td>8.0</td>\n",
       "      <td>Mandalay</td>\n",
       "      <td>1</td>\n",
       "    </tr>\n",
       "    <tr>\n",
       "      <th>168</th>\n",
       "      <td>796-32-9050</td>\n",
       "      <td>A</td>\n",
       "      <td>Normal</td>\n",
       "      <td>Male</td>\n",
       "      <td>Food and beverages</td>\n",
       "      <td>51.28</td>\n",
       "      <td>6</td>\n",
       "      <td>15.3840</td>\n",
       "      <td>323.0640</td>\n",
       "      <td>1/19/2019</td>\n",
       "      <td>16:31</td>\n",
       "      <td>Cash</td>\n",
       "      <td>6.5</td>\n",
       "      <td>Yangon</td>\n",
       "      <td>1</td>\n",
       "    </tr>\n",
       "    <tr>\n",
       "      <th>1079</th>\n",
       "      <td>841-35-6630</td>\n",
       "      <td>C</td>\n",
       "      <td>Normal</td>\n",
       "      <td>Female</td>\n",
       "      <td>Electronic accessories</td>\n",
       "      <td>75.91</td>\n",
       "      <td>6</td>\n",
       "      <td>22.7730</td>\n",
       "      <td>478.2330</td>\n",
       "      <td>3/9/2019</td>\n",
       "      <td>18:21</td>\n",
       "      <td>Cash</td>\n",
       "      <td>8.7</td>\n",
       "      <td>Naypyitaw</td>\n",
       "      <td>1</td>\n",
       "    </tr>\n",
       "    <tr>\n",
       "      <th>1667</th>\n",
       "      <td>842-29-4695</td>\n",
       "      <td>C</td>\n",
       "      <td>Member</td>\n",
       "      <td>Male</td>\n",
       "      <td>Sports and travel</td>\n",
       "      <td>17.14</td>\n",
       "      <td>7</td>\n",
       "      <td>5.9990</td>\n",
       "      <td>125.9790</td>\n",
       "      <td>1/16/2019</td>\n",
       "      <td>12:07</td>\n",
       "      <td>Credit card</td>\n",
       "      <td>7.9</td>\n",
       "      <td>Naypyitaw</td>\n",
       "      <td>1</td>\n",
       "    </tr>\n",
       "    <tr>\n",
       "      <th>182</th>\n",
       "      <td>851-28-6367</td>\n",
       "      <td>A</td>\n",
       "      <td>Member</td>\n",
       "      <td>Male</td>\n",
       "      <td>Sports and travel</td>\n",
       "      <td>15.5</td>\n",
       "      <td>10</td>\n",
       "      <td>7.7500</td>\n",
       "      <td>162.7500</td>\n",
       "      <td>3/23/2019</td>\n",
       "      <td>10:55</td>\n",
       "      <td>Ewallet</td>\n",
       "      <td>8.0</td>\n",
       "      <td>Yangon</td>\n",
       "      <td>1</td>\n",
       "    </tr>\n",
       "  </tbody>\n",
       "</table>\n",
       "</div>"
      ],
      "text/plain": [
       "       Invoice ID Branch Customer type  Gender            Product line  \\\n",
       "2439  650-98-6268      B        Member  Female      Food and beverages   \n",
       "168   796-32-9050      A        Normal    Male      Food and beverages   \n",
       "1079  841-35-6630      C        Normal  Female  Electronic accessories   \n",
       "1667  842-29-4695      C        Member    Male       Sports and travel   \n",
       "182   851-28-6367      A        Member    Male       Sports and travel   \n",
       "\n",
       "     Unit price  Quantity   Tax 5%     Total       Date   Time      Payment  \\\n",
       "2439      20.87         3   3.1305   65.7405  3/20/2019  13:53  Credit card   \n",
       "168       51.28         6  15.3840  323.0640  1/19/2019  16:31         Cash   \n",
       "1079      75.91         6  22.7730  478.2330   3/9/2019  18:21         Cash   \n",
       "1667      17.14         7   5.9990  125.9790  1/16/2019  12:07  Credit card   \n",
       "182        15.5        10   7.7500  162.7500  3/23/2019  10:55      Ewallet   \n",
       "\n",
       "      Rating       City  Sales  \n",
       "2439     8.0   Mandalay      1  \n",
       "168      6.5     Yangon      1  \n",
       "1079     8.7  Naypyitaw      1  \n",
       "1667     7.9  Naypyitaw      1  \n",
       "182      8.0     Yangon      1  "
      ]
     },
     "execution_count": 15,
     "metadata": {},
     "output_type": "execute_result"
    }
   ],
   "source": [
    "df_clean.sample(5)"
   ]
  },
  {
   "cell_type": "code",
   "execution_count": 16,
   "id": "bbd6572d",
   "metadata": {},
   "outputs": [
    {
     "data": {
      "text/plain": [
       "Yangon       341\n",
       "Mandalay     334\n",
       "Naypyitaw    331\n",
       "Name: City, dtype: int64"
      ]
     },
     "execution_count": 16,
     "metadata": {},
     "output_type": "execute_result"
    }
   ],
   "source": [
    "df_clean['City'].value_counts()"
   ]
  },
  {
   "cell_type": "code",
   "execution_count": 17,
   "id": "57eee579",
   "metadata": {},
   "outputs": [],
   "source": [
    "# Remove columns sales\n",
    "df_clean= df_clean.drop(columns=['Sales'])"
   ]
  },
  {
   "cell_type": "markdown",
   "id": "3aa3bc7d",
   "metadata": {},
   "source": [
    "### 3-2 Fixing Quality Issues"
   ]
  },
  {
   "cell_type": "markdown",
   "id": "c574b50e",
   "metadata": {},
   "source": [
    "#### A- Define :\n",
    "- Remove duplicates"
   ]
  },
  {
   "cell_type": "markdown",
   "id": "7999a7f5",
   "metadata": {},
   "source": [
    "#### B- Code :"
   ]
  },
  {
   "cell_type": "code",
   "execution_count": 18,
   "id": "80a627a0",
   "metadata": {},
   "outputs": [],
   "source": [
    "df_clean = df_clean.drop_duplicates()"
   ]
  },
  {
   "cell_type": "markdown",
   "id": "486055fe",
   "metadata": {},
   "source": [
    "#### C-Test  :"
   ]
  },
  {
   "cell_type": "code",
   "execution_count": 19,
   "id": "63f81f49",
   "metadata": {},
   "outputs": [
    {
     "data": {
      "text/plain": [
       "0"
      ]
     },
     "execution_count": 19,
     "metadata": {},
     "output_type": "execute_result"
    }
   ],
   "source": [
    "df_clean.duplicated().sum()"
   ]
  },
  {
   "cell_type": "code",
   "execution_count": null,
   "id": "345fd67c",
   "metadata": {},
   "outputs": [],
   "source": []
  },
  {
   "cell_type": "markdown",
   "id": "0c438fba",
   "metadata": {},
   "source": [
    "#### A- Define :\n",
    "- Change column names"
   ]
  },
  {
   "cell_type": "markdown",
   "id": "0106b389",
   "metadata": {},
   "source": [
    "#### B- Code :"
   ]
  },
  {
   "cell_type": "code",
   "execution_count": 20,
   "id": "11255f72",
   "metadata": {},
   "outputs": [],
   "source": [
    "df_clean = df_clean.rename(columns={'Invoice ID': 'Invoice_ID', 'Customer type': 'Customer_type', 'Product line': 'Product_line', 'Unit price': 'Unit_price', 'Tax 5%': 'Tax_5%'})"
   ]
  },
  {
   "cell_type": "markdown",
   "id": "11ddc6ab",
   "metadata": {},
   "source": [
    "#### C-Test :"
   ]
  },
  {
   "cell_type": "code",
   "execution_count": 21,
   "id": "ebb4849e",
   "metadata": {},
   "outputs": [
    {
     "data": {
      "text/html": [
       "<div>\n",
       "<style scoped>\n",
       "    .dataframe tbody tr th:only-of-type {\n",
       "        vertical-align: middle;\n",
       "    }\n",
       "\n",
       "    .dataframe tbody tr th {\n",
       "        vertical-align: top;\n",
       "    }\n",
       "\n",
       "    .dataframe thead th {\n",
       "        text-align: right;\n",
       "    }\n",
       "</style>\n",
       "<table border=\"1\" class=\"dataframe\">\n",
       "  <thead>\n",
       "    <tr style=\"text-align: right;\">\n",
       "      <th></th>\n",
       "      <th>Invoice_ID</th>\n",
       "      <th>Branch</th>\n",
       "      <th>Customer_type</th>\n",
       "      <th>Gender</th>\n",
       "      <th>Product_line</th>\n",
       "      <th>Unit_price</th>\n",
       "      <th>Quantity</th>\n",
       "      <th>Tax_5%</th>\n",
       "      <th>Total</th>\n",
       "      <th>Date</th>\n",
       "      <th>Time</th>\n",
       "      <th>Payment</th>\n",
       "      <th>Rating</th>\n",
       "      <th>City</th>\n",
       "    </tr>\n",
       "  </thead>\n",
       "  <tbody>\n",
       "    <tr>\n",
       "      <th>0</th>\n",
       "      <td>750-67-8428</td>\n",
       "      <td>A</td>\n",
       "      <td>Normal</td>\n",
       "      <td>Male</td>\n",
       "      <td>Health and beauty</td>\n",
       "      <td>74.69</td>\n",
       "      <td>7</td>\n",
       "      <td>26.1415</td>\n",
       "      <td>NaN</td>\n",
       "      <td>1/5/2019</td>\n",
       "      <td>13:08</td>\n",
       "      <td>Ewallet</td>\n",
       "      <td>9.1</td>\n",
       "      <td>Yangon</td>\n",
       "    </tr>\n",
       "    <tr>\n",
       "      <th>2</th>\n",
       "      <td>631-41-3108</td>\n",
       "      <td>A</td>\n",
       "      <td>Normal</td>\n",
       "      <td>Male</td>\n",
       "      <td>Home and lifestyle</td>\n",
       "      <td>46.33</td>\n",
       "      <td>7</td>\n",
       "      <td>16.2155</td>\n",
       "      <td>340.5255</td>\n",
       "      <td>3/3/2019</td>\n",
       "      <td>13:23</td>\n",
       "      <td>Credit card</td>\n",
       "      <td>7.4</td>\n",
       "      <td>Yangon</td>\n",
       "    </tr>\n",
       "    <tr>\n",
       "      <th>3</th>\n",
       "      <td>123-19-1176</td>\n",
       "      <td>A</td>\n",
       "      <td>Normal</td>\n",
       "      <td>Male</td>\n",
       "      <td>Health and beauty</td>\n",
       "      <td>58.22</td>\n",
       "      <td>8</td>\n",
       "      <td>NaN</td>\n",
       "      <td>489.0480</td>\n",
       "      <td>1/27/2019</td>\n",
       "      <td>8 - 30 PM</td>\n",
       "      <td>Ewallet</td>\n",
       "      <td>8.4</td>\n",
       "      <td>Yangon</td>\n",
       "    </tr>\n",
       "    <tr>\n",
       "      <th>4</th>\n",
       "      <td>373-73-7910</td>\n",
       "      <td>A</td>\n",
       "      <td>Normal</td>\n",
       "      <td>Male</td>\n",
       "      <td>Sports and travel</td>\n",
       "      <td>86.31</td>\n",
       "      <td>7</td>\n",
       "      <td>30.2085</td>\n",
       "      <td>634.3785</td>\n",
       "      <td>2/8/2019</td>\n",
       "      <td>10:37</td>\n",
       "      <td>Ewallet</td>\n",
       "      <td>5.3</td>\n",
       "      <td>Yangon</td>\n",
       "    </tr>\n",
       "    <tr>\n",
       "      <th>6</th>\n",
       "      <td>355-53-5943</td>\n",
       "      <td>A</td>\n",
       "      <td>Normal</td>\n",
       "      <td>Male</td>\n",
       "      <td>Electronic accessories</td>\n",
       "      <td>68.84</td>\n",
       "      <td>6</td>\n",
       "      <td>20.6520</td>\n",
       "      <td>433.6920</td>\n",
       "      <td>2/25/2019</td>\n",
       "      <td>14:36</td>\n",
       "      <td>Ewallet</td>\n",
       "      <td>5.8</td>\n",
       "      <td>Yangon</td>\n",
       "    </tr>\n",
       "  </tbody>\n",
       "</table>\n",
       "</div>"
      ],
      "text/plain": [
       "    Invoice_ID Branch Customer_type Gender            Product_line Unit_price  \\\n",
       "0  750-67-8428      A        Normal   Male       Health and beauty      74.69   \n",
       "2  631-41-3108      A        Normal   Male      Home and lifestyle      46.33   \n",
       "3  123-19-1176      A        Normal   Male       Health and beauty      58.22   \n",
       "4  373-73-7910      A        Normal   Male       Sports and travel      86.31   \n",
       "6  355-53-5943      A        Normal   Male  Electronic accessories      68.84   \n",
       "\n",
       "   Quantity   Tax_5%     Total       Date       Time      Payment  Rating  \\\n",
       "0         7  26.1415       NaN   1/5/2019      13:08      Ewallet     9.1   \n",
       "2         7  16.2155  340.5255   3/3/2019      13:23  Credit card     7.4   \n",
       "3         8      NaN  489.0480  1/27/2019  8 - 30 PM      Ewallet     8.4   \n",
       "4         7  30.2085  634.3785   2/8/2019      10:37      Ewallet     5.3   \n",
       "6         6  20.6520  433.6920  2/25/2019      14:36      Ewallet     5.8   \n",
       "\n",
       "     City  \n",
       "0  Yangon  \n",
       "2  Yangon  \n",
       "3  Yangon  \n",
       "4  Yangon  \n",
       "6  Yangon  "
      ]
     },
     "execution_count": 21,
     "metadata": {},
     "output_type": "execute_result"
    }
   ],
   "source": [
    "df_clean.head(5)"
   ]
  },
  {
   "cell_type": "code",
   "execution_count": null,
   "id": "e28e3f4f",
   "metadata": {},
   "outputs": [],
   "source": []
  },
  {
   "cell_type": "markdown",
   "id": "1a395c1c",
   "metadata": {},
   "source": [
    "#### A- Define :\n",
    "- Remove USD 'from unit' price columns"
   ]
  },
  {
   "cell_type": "markdown",
   "id": "5e17a846",
   "metadata": {},
   "source": [
    "#### B- Code :"
   ]
  },
  {
   "cell_type": "code",
   "execution_count": 22,
   "id": "9daefc91",
   "metadata": {},
   "outputs": [
    {
     "data": {
      "text/plain": [
       "5"
      ]
     },
     "execution_count": 22,
     "metadata": {},
     "output_type": "execute_result"
    }
   ],
   "source": [
    "# count USD\n",
    "contains_usd = df_clean['Unit_price'].str.contains('USD', regex=False).sum()\n",
    "contains_usd "
   ]
  },
  {
   "cell_type": "code",
   "execution_count": 23,
   "id": "be61ef99",
   "metadata": {},
   "outputs": [],
   "source": [
    "# Remove USD\n",
    "df_clean['Unit_price'] = df_clean['Unit_price'].astype(str).str.replace('USD', '', regex=False).str.strip()"
   ]
  },
  {
   "cell_type": "markdown",
   "id": "2eb1c142",
   "metadata": {},
   "source": [
    "#### C-Test :"
   ]
  },
  {
   "cell_type": "code",
   "execution_count": 26,
   "id": "f5c6390e",
   "metadata": {},
   "outputs": [
    {
     "name": "stdout",
     "output_type": "stream",
     "text": [
      "There is no USD\n"
     ]
    }
   ],
   "source": [
    "# Check if there are any values containing \"USD\"  \n",
    "contains_usd = df_clean['Unit_price'].str.contains('USD').any()  \n",
    "if contains_usd:  \n",
    "    print(\"There is still USD\")  \n",
    "else:  \n",
    "    print(\"There is no USD\")"
   ]
  },
  {
   "cell_type": "markdown",
   "id": "234d1f71",
   "metadata": {},
   "source": [
    "#### A- Define :\n",
    "- Replace column type Unit price from object to int"
   ]
  },
  {
   "cell_type": "markdown",
   "id": "184d5cd5",
   "metadata": {},
   "source": [
    "#### B- Code :"
   ]
  },
  {
   "cell_type": "code",
   "execution_count": 27,
   "id": "2d941a79",
   "metadata": {},
   "outputs": [],
   "source": [
    "# Replace type\n",
    "df_clean['Unit_price'] = pd.to_numeric(df_clean['Unit_price'])"
   ]
  },
  {
   "cell_type": "markdown",
   "id": "fbf35b0f",
   "metadata": {},
   "source": [
    "#### C-Test :"
   ]
  },
  {
   "cell_type": "code",
   "execution_count": 28,
   "id": "81441231",
   "metadata": {},
   "outputs": [
    {
     "name": "stdout",
     "output_type": "stream",
     "text": [
      "<class 'pandas.core.series.Series'>\n",
      "Int64Index: 1000 entries, 0 to 3008\n",
      "Series name: Unit_price\n",
      "Non-Null Count  Dtype  \n",
      "--------------  -----  \n",
      "1000 non-null   float64\n",
      "dtypes: float64(1)\n",
      "memory usage: 15.6 KB\n"
     ]
    }
   ],
   "source": [
    "df_clean['Unit_price'].info()"
   ]
  },
  {
   "cell_type": "markdown",
   "id": "eced87b1",
   "metadata": {},
   "source": [
    "#### A- Define :\n",
    "- Replace column Date from int to datetime"
   ]
  },
  {
   "cell_type": "markdown",
   "id": "6258c9ff",
   "metadata": {},
   "source": [
    "#### B- Code :"
   ]
  },
  {
   "cell_type": "code",
   "execution_count": 29,
   "id": "6f329b38",
   "metadata": {},
   "outputs": [],
   "source": [
    "# Replace type\n",
    "df_clean['Date'] = pd.to_datetime(df_clean['Date'])"
   ]
  },
  {
   "cell_type": "markdown",
   "id": "cf57b8f8",
   "metadata": {},
   "source": [
    "#### C-Test :"
   ]
  },
  {
   "cell_type": "code",
   "execution_count": 30,
   "id": "71c13f5d",
   "metadata": {},
   "outputs": [
    {
     "name": "stdout",
     "output_type": "stream",
     "text": [
      "<class 'pandas.core.series.Series'>\n",
      "Int64Index: 1000 entries, 0 to 3008\n",
      "Series name: Date\n",
      "Non-Null Count  Dtype         \n",
      "--------------  -----         \n",
      "1000 non-null   datetime64[ns]\n",
      "dtypes: datetime64[ns](1)\n",
      "memory usage: 15.6 KB\n"
     ]
    }
   ],
   "source": [
    "df_clean['Date'].info()"
   ]
  },
  {
   "cell_type": "markdown",
   "id": "ff2b739d",
   "metadata": {},
   "source": [
    "#### A- Define :\n",
    "- Remove (pm)and (-) from Time columns"
   ]
  },
  {
   "cell_type": "markdown",
   "id": "74056058",
   "metadata": {},
   "source": [
    "#### B- Code :"
   ]
  },
  {
   "cell_type": "code",
   "execution_count": 31,
   "id": "782e9bc0",
   "metadata": {},
   "outputs": [],
   "source": [
    "# Replace --\n",
    "df_clean['Time'] = df_clean['Time'].replace({' - ': ':'}, regex=True) "
   ]
  },
  {
   "cell_type": "code",
   "execution_count": 32,
   "id": "3a12efda",
   "metadata": {},
   "outputs": [],
   "source": [
    "# Remove Pm\n",
    "df_clean['Time'] = df_clean['Time'].str.replace('PM', '', regex=False).str.replace('AM', '', regex=False).str.strip()"
   ]
  },
  {
   "cell_type": "markdown",
   "id": "8b473d77",
   "metadata": {},
   "source": [
    "#### C-Test :"
   ]
  },
  {
   "cell_type": "code",
   "execution_count": 33,
   "id": "9468a340",
   "metadata": {},
   "outputs": [
    {
     "data": {
      "text/plain": [
       "0"
      ]
     },
     "execution_count": 33,
     "metadata": {},
     "output_type": "execute_result"
    }
   ],
   "source": [
    "# Count - \n",
    "contains_dash = df_clean['Time'].str.contains('-').any()  \n",
    "contains_dash.sum()"
   ]
  },
  {
   "cell_type": "code",
   "execution_count": 34,
   "id": "473945bf",
   "metadata": {},
   "outputs": [
    {
     "data": {
      "text/plain": [
       "0"
      ]
     },
     "execution_count": 34,
     "metadata": {},
     "output_type": "execute_result"
    }
   ],
   "source": [
    "# count Pm\n",
    "contains_PM = df_clean['Time'].str.contains('PM').any()  \n",
    "contains_PM.sum()"
   ]
  },
  {
   "cell_type": "markdown",
   "id": "6df8531c",
   "metadata": {},
   "source": [
    "#### A- Define :\n",
    "- Replace null values in the \"Total\" column \n"
   ]
  },
  {
   "cell_type": "markdown",
   "id": "17961ac6",
   "metadata": {},
   "source": [
    "#### B- Code :"
   ]
  },
  {
   "cell_type": "code",
   "execution_count": 35,
   "id": "45dabd05",
   "metadata": {},
   "outputs": [],
   "source": [
    "# Replace null \n",
    "df_clean['Total'] = df_clean['Total'].fillna(df_clean['Quantity'] * df_clean['Unit_price'] + df_clean['Tax_5%'])"
   ]
  },
  {
   "cell_type": "markdown",
   "id": "dda3e1ee",
   "metadata": {},
   "source": [
    "#### C-Test :"
   ]
  },
  {
   "cell_type": "code",
   "execution_count": 36,
   "id": "1f3932c4",
   "metadata": {},
   "outputs": [
    {
     "data": {
      "text/plain": [
       "0"
      ]
     },
     "execution_count": 36,
     "metadata": {},
     "output_type": "execute_result"
    }
   ],
   "source": [
    "df_clean['Total'].isnull().sum()"
   ]
  },
  {
   "cell_type": "markdown",
   "id": "042b2aba",
   "metadata": {},
   "source": [
    "#### A- Define :\n",
    "- Replace null values in the \"5% Tax\" column"
   ]
  },
  {
   "cell_type": "markdown",
   "id": "f386fe0d",
   "metadata": {},
   "source": [
    "#### B- Code :"
   ]
  },
  {
   "cell_type": "code",
   "execution_count": 37,
   "id": "b6500aa0",
   "metadata": {},
   "outputs": [],
   "source": [
    "# Replace null \n",
    "df_clean['Tax_5%'] = df_clean['Tax_5%'].fillna(df_clean['Unit_price'] * df_clean['Quantity'] * 0.05)"
   ]
  },
  {
   "cell_type": "markdown",
   "id": "78c4db15",
   "metadata": {},
   "source": [
    "#### C-Test :"
   ]
  },
  {
   "cell_type": "code",
   "execution_count": 38,
   "id": "91e2b5d8",
   "metadata": {},
   "outputs": [
    {
     "data": {
      "text/plain": [
       "0"
      ]
     },
     "execution_count": 38,
     "metadata": {},
     "output_type": "execute_result"
    }
   ],
   "source": [
    "df_clean['Tax_5%'].isnull().sum()"
   ]
  },
  {
   "cell_type": "markdown",
   "id": "5c487a19",
   "metadata": {},
   "source": [
    "#### A- Define :\n",
    "- Replace (-) with the most common value."
   ]
  },
  {
   "cell_type": "markdown",
   "id": "5742648c",
   "metadata": {},
   "source": [
    "#### B- Code :"
   ]
  },
  {
   "cell_type": "code",
   "execution_count": 39,
   "id": "4e5db5f0",
   "metadata": {},
   "outputs": [],
   "source": [
    "# Replace (-)\n",
    "df_clean['Customer_type'] = df_clean['Customer_type'].replace('-', np.nan)"
   ]
  },
  {
   "cell_type": "code",
   "execution_count": 40,
   "id": "e2f73027",
   "metadata": {},
   "outputs": [
    {
     "data": {
      "text/plain": [
       "'Normal'"
      ]
     },
     "execution_count": 40,
     "metadata": {},
     "output_type": "execute_result"
    }
   ],
   "source": [
    "# Most repeated\n",
    "most = df_clean['Customer_type'].mode()[0]\n",
    "most"
   ]
  },
  {
   "cell_type": "code",
   "execution_count": 41,
   "id": "70cb1ad5",
   "metadata": {},
   "outputs": [],
   "source": [
    "df_clean['Customer_type'] = df_clean['Customer_type'].fillna(most)"
   ]
  },
  {
   "cell_type": "code",
   "execution_count": 42,
   "id": "a0fec769",
   "metadata": {},
   "outputs": [],
   "source": [
    "# Replace Memberr\n",
    "df_clean['Customer_type'] = df_clean['Customer_type'].replace('Memberr', 'Member')"
   ]
  },
  {
   "cell_type": "markdown",
   "id": "5fca0030",
   "metadata": {},
   "source": [
    "#### C-Test :"
   ]
  },
  {
   "cell_type": "code",
   "execution_count": 43,
   "id": "7ce7cfbc",
   "metadata": {},
   "outputs": [
    {
     "data": {
      "text/plain": [
       "Normal    540\n",
       "Member    460\n",
       "Name: Customer_type, dtype: int64"
      ]
     },
     "execution_count": 43,
     "metadata": {},
     "output_type": "execute_result"
    }
   ],
   "source": [
    "df_clean['Customer_type'].value_counts()"
   ]
  },
  {
   "cell_type": "markdown",
   "id": "e0a512c6",
   "metadata": {},
   "source": [
    "#### A- Define :\n",
    "- Replace negative values"
   ]
  },
  {
   "cell_type": "markdown",
   "id": "28ed19b0",
   "metadata": {},
   "source": [
    "#### B- Code :"
   ]
  },
  {
   "cell_type": "code",
   "execution_count": 44,
   "id": "080600bd",
   "metadata": {},
   "outputs": [],
   "source": [
    "df_clean['Quantity'] = df_clean['Quantity'].abs()"
   ]
  },
  {
   "cell_type": "markdown",
   "id": "ddde12e0",
   "metadata": {},
   "source": [
    "#### C-Test :"
   ]
  },
  {
   "cell_type": "code",
   "execution_count": 46,
   "id": "47b3c9d6",
   "metadata": {},
   "outputs": [
    {
     "data": {
      "text/plain": [
       "0"
      ]
     },
     "execution_count": 46,
     "metadata": {},
     "output_type": "execute_result"
    }
   ],
   "source": [
    "# count negative\n",
    "negative_values2 = df_clean['Quantity'] < 0\n",
    "negative_values2.sum()"
   ]
  },
  {
   "cell_type": "code",
   "execution_count": null,
   "id": "b5c2d1c8",
   "metadata": {},
   "outputs": [],
   "source": []
  },
  {
   "cell_type": "code",
   "execution_count": null,
   "id": "dd2df491",
   "metadata": {},
   "outputs": [],
   "source": []
  },
  {
   "cell_type": "code",
   "execution_count": null,
   "id": "553c6ab1",
   "metadata": {},
   "outputs": [],
   "source": []
  },
  {
   "cell_type": "code",
   "execution_count": null,
   "id": "23e5d6ac",
   "metadata": {},
   "outputs": [],
   "source": []
  },
  {
   "cell_type": "code",
   "execution_count": 45,
   "id": "24072412",
   "metadata": {},
   "outputs": [
    {
     "data": {
      "text/plain": [
       "0"
      ]
     },
     "execution_count": 45,
     "metadata": {},
     "output_type": "execute_result"
    }
   ],
   "source": []
  },
  {
   "cell_type": "code",
   "execution_count": 47,
   "id": "3fe7d646",
   "metadata": {},
   "outputs": [],
   "source": [
    "# Profit margin (25%)\n",
    "profit_margin = 0.25 \n",
    "\n",
    "# Cost of Goods Sold\n",
    "df_clean['COGS'] = df_clean['Total'] / (1 + profit_margin)"
   ]
  },
  {
   "cell_type": "code",
   "execution_count": 48,
   "id": "ef156deb",
   "metadata": {},
   "outputs": [],
   "source": [
    "# Calculate Profit margin \n",
    "df_clean['Profit'] = df_clean['Total'] - df_clean['COGS'].round(1)"
   ]
  },
  {
   "cell_type": "code",
   "execution_count": 49,
   "id": "3a4cbe46",
   "metadata": {},
   "outputs": [
    {
     "data": {
      "text/html": [
       "<div>\n",
       "<style scoped>\n",
       "    .dataframe tbody tr th:only-of-type {\n",
       "        vertical-align: middle;\n",
       "    }\n",
       "\n",
       "    .dataframe tbody tr th {\n",
       "        vertical-align: top;\n",
       "    }\n",
       "\n",
       "    .dataframe thead th {\n",
       "        text-align: right;\n",
       "    }\n",
       "</style>\n",
       "<table border=\"1\" class=\"dataframe\">\n",
       "  <thead>\n",
       "    <tr style=\"text-align: right;\">\n",
       "      <th></th>\n",
       "      <th>Invoice_ID</th>\n",
       "      <th>Branch</th>\n",
       "      <th>Customer_type</th>\n",
       "      <th>Gender</th>\n",
       "      <th>Product_line</th>\n",
       "      <th>Unit_price</th>\n",
       "      <th>Quantity</th>\n",
       "      <th>Tax_5%</th>\n",
       "      <th>Total</th>\n",
       "      <th>Date</th>\n",
       "      <th>Time</th>\n",
       "      <th>Payment</th>\n",
       "      <th>Rating</th>\n",
       "      <th>City</th>\n",
       "      <th>COGS</th>\n",
       "      <th>Profit</th>\n",
       "    </tr>\n",
       "  </thead>\n",
       "  <tbody>\n",
       "    <tr>\n",
       "      <th>0</th>\n",
       "      <td>750-67-8428</td>\n",
       "      <td>A</td>\n",
       "      <td>Normal</td>\n",
       "      <td>Male</td>\n",
       "      <td>Health and beauty</td>\n",
       "      <td>74.69</td>\n",
       "      <td>7</td>\n",
       "      <td>26.1415</td>\n",
       "      <td>548.9715</td>\n",
       "      <td>2019-01-05</td>\n",
       "      <td>13:08</td>\n",
       "      <td>Ewallet</td>\n",
       "      <td>9.1</td>\n",
       "      <td>Yangon</td>\n",
       "      <td>439.1772</td>\n",
       "      <td>109.7715</td>\n",
       "    </tr>\n",
       "    <tr>\n",
       "      <th>2</th>\n",
       "      <td>631-41-3108</td>\n",
       "      <td>A</td>\n",
       "      <td>Normal</td>\n",
       "      <td>Male</td>\n",
       "      <td>Home and lifestyle</td>\n",
       "      <td>46.33</td>\n",
       "      <td>7</td>\n",
       "      <td>16.2155</td>\n",
       "      <td>340.5255</td>\n",
       "      <td>2019-03-03</td>\n",
       "      <td>13:23</td>\n",
       "      <td>Credit card</td>\n",
       "      <td>7.4</td>\n",
       "      <td>Yangon</td>\n",
       "      <td>272.4204</td>\n",
       "      <td>68.1255</td>\n",
       "    </tr>\n",
       "    <tr>\n",
       "      <th>3</th>\n",
       "      <td>123-19-1176</td>\n",
       "      <td>A</td>\n",
       "      <td>Normal</td>\n",
       "      <td>Male</td>\n",
       "      <td>Health and beauty</td>\n",
       "      <td>58.22</td>\n",
       "      <td>8</td>\n",
       "      <td>23.2880</td>\n",
       "      <td>489.0480</td>\n",
       "      <td>2019-01-27</td>\n",
       "      <td>8:30</td>\n",
       "      <td>Ewallet</td>\n",
       "      <td>8.4</td>\n",
       "      <td>Yangon</td>\n",
       "      <td>391.2384</td>\n",
       "      <td>97.8480</td>\n",
       "    </tr>\n",
       "    <tr>\n",
       "      <th>4</th>\n",
       "      <td>373-73-7910</td>\n",
       "      <td>A</td>\n",
       "      <td>Normal</td>\n",
       "      <td>Male</td>\n",
       "      <td>Sports and travel</td>\n",
       "      <td>86.31</td>\n",
       "      <td>7</td>\n",
       "      <td>30.2085</td>\n",
       "      <td>634.3785</td>\n",
       "      <td>2019-02-08</td>\n",
       "      <td>10:37</td>\n",
       "      <td>Ewallet</td>\n",
       "      <td>5.3</td>\n",
       "      <td>Yangon</td>\n",
       "      <td>507.5028</td>\n",
       "      <td>126.8785</td>\n",
       "    </tr>\n",
       "    <tr>\n",
       "      <th>6</th>\n",
       "      <td>355-53-5943</td>\n",
       "      <td>A</td>\n",
       "      <td>Normal</td>\n",
       "      <td>Male</td>\n",
       "      <td>Electronic accessories</td>\n",
       "      <td>68.84</td>\n",
       "      <td>6</td>\n",
       "      <td>20.6520</td>\n",
       "      <td>433.6920</td>\n",
       "      <td>2019-02-25</td>\n",
       "      <td>14:36</td>\n",
       "      <td>Ewallet</td>\n",
       "      <td>5.8</td>\n",
       "      <td>Yangon</td>\n",
       "      <td>346.9536</td>\n",
       "      <td>86.6920</td>\n",
       "    </tr>\n",
       "  </tbody>\n",
       "</table>\n",
       "</div>"
      ],
      "text/plain": [
       "    Invoice_ID Branch Customer_type Gender            Product_line  \\\n",
       "0  750-67-8428      A        Normal   Male       Health and beauty   \n",
       "2  631-41-3108      A        Normal   Male      Home and lifestyle   \n",
       "3  123-19-1176      A        Normal   Male       Health and beauty   \n",
       "4  373-73-7910      A        Normal   Male       Sports and travel   \n",
       "6  355-53-5943      A        Normal   Male  Electronic accessories   \n",
       "\n",
       "   Unit_price  Quantity   Tax_5%     Total       Date   Time      Payment  \\\n",
       "0       74.69         7  26.1415  548.9715 2019-01-05  13:08      Ewallet   \n",
       "2       46.33         7  16.2155  340.5255 2019-03-03  13:23  Credit card   \n",
       "3       58.22         8  23.2880  489.0480 2019-01-27   8:30      Ewallet   \n",
       "4       86.31         7  30.2085  634.3785 2019-02-08  10:37      Ewallet   \n",
       "6       68.84         6  20.6520  433.6920 2019-02-25  14:36      Ewallet   \n",
       "\n",
       "   Rating    City      COGS    Profit  \n",
       "0     9.1  Yangon  439.1772  109.7715  \n",
       "2     7.4  Yangon  272.4204   68.1255  \n",
       "3     8.4  Yangon  391.2384   97.8480  \n",
       "4     5.3  Yangon  507.5028  126.8785  \n",
       "6     5.8  Yangon  346.9536   86.6920  "
      ]
     },
     "execution_count": 49,
     "metadata": {},
     "output_type": "execute_result"
    }
   ],
   "source": [
    "df_clean.head()"
   ]
  },
  {
   "cell_type": "markdown",
   "id": "4fd663be",
   "metadata": {},
   "source": [
    "<a id='Assessing2'></a>\n",
    "## 4- Data Assessing After Cleaning"
   ]
  },
  {
   "cell_type": "code",
   "execution_count": 50,
   "id": "6ed3bd88",
   "metadata": {},
   "outputs": [
    {
     "data": {
      "text/html": [
       "<div>\n",
       "<style scoped>\n",
       "    .dataframe tbody tr th:only-of-type {\n",
       "        vertical-align: middle;\n",
       "    }\n",
       "\n",
       "    .dataframe tbody tr th {\n",
       "        vertical-align: top;\n",
       "    }\n",
       "\n",
       "    .dataframe thead th {\n",
       "        text-align: right;\n",
       "    }\n",
       "</style>\n",
       "<table border=\"1\" class=\"dataframe\">\n",
       "  <thead>\n",
       "    <tr style=\"text-align: right;\">\n",
       "      <th></th>\n",
       "      <th>Invoice_ID</th>\n",
       "      <th>Branch</th>\n",
       "      <th>Customer_type</th>\n",
       "      <th>Gender</th>\n",
       "      <th>Product_line</th>\n",
       "      <th>Unit_price</th>\n",
       "      <th>Quantity</th>\n",
       "      <th>Tax_5%</th>\n",
       "      <th>Total</th>\n",
       "      <th>Date</th>\n",
       "      <th>Time</th>\n",
       "      <th>Payment</th>\n",
       "      <th>Rating</th>\n",
       "      <th>City</th>\n",
       "      <th>COGS</th>\n",
       "      <th>Profit</th>\n",
       "    </tr>\n",
       "  </thead>\n",
       "  <tbody>\n",
       "    <tr>\n",
       "      <th>2108</th>\n",
       "      <td>766-85-7061</td>\n",
       "      <td>B</td>\n",
       "      <td>Normal</td>\n",
       "      <td>Male</td>\n",
       "      <td>Health and beauty</td>\n",
       "      <td>87.87</td>\n",
       "      <td>10</td>\n",
       "      <td>43.9350</td>\n",
       "      <td>922.6350</td>\n",
       "      <td>2019-03-29</td>\n",
       "      <td>10:25</td>\n",
       "      <td>Ewallet</td>\n",
       "      <td>5.1</td>\n",
       "      <td>Mandalay</td>\n",
       "      <td>738.1080</td>\n",
       "      <td>184.5350</td>\n",
       "    </tr>\n",
       "    <tr>\n",
       "      <th>1873</th>\n",
       "      <td>101-81-4070</td>\n",
       "      <td>C</td>\n",
       "      <td>Member</td>\n",
       "      <td>Female</td>\n",
       "      <td>Health and beauty</td>\n",
       "      <td>62.82</td>\n",
       "      <td>2</td>\n",
       "      <td>6.2820</td>\n",
       "      <td>131.9220</td>\n",
       "      <td>2019-01-17</td>\n",
       "      <td>12:36</td>\n",
       "      <td>Ewallet</td>\n",
       "      <td>4.9</td>\n",
       "      <td>Naypyitaw</td>\n",
       "      <td>105.5376</td>\n",
       "      <td>26.4220</td>\n",
       "    </tr>\n",
       "    <tr>\n",
       "      <th>2905</th>\n",
       "      <td>715-20-1673</td>\n",
       "      <td>B</td>\n",
       "      <td>Normal</td>\n",
       "      <td>Male</td>\n",
       "      <td>Electronic accessories</td>\n",
       "      <td>28.38</td>\n",
       "      <td>5</td>\n",
       "      <td>7.0950</td>\n",
       "      <td>148.9950</td>\n",
       "      <td>2019-03-06</td>\n",
       "      <td>20:57</td>\n",
       "      <td>Cash</td>\n",
       "      <td>9.4</td>\n",
       "      <td>Mandalay</td>\n",
       "      <td>119.1960</td>\n",
       "      <td>29.7950</td>\n",
       "    </tr>\n",
       "    <tr>\n",
       "      <th>1652</th>\n",
       "      <td>778-89-7974</td>\n",
       "      <td>C</td>\n",
       "      <td>Normal</td>\n",
       "      <td>Male</td>\n",
       "      <td>Health and beauty</td>\n",
       "      <td>70.21</td>\n",
       "      <td>6</td>\n",
       "      <td>21.0630</td>\n",
       "      <td>442.3230</td>\n",
       "      <td>2019-03-30</td>\n",
       "      <td>14:58</td>\n",
       "      <td>Cash</td>\n",
       "      <td>7.4</td>\n",
       "      <td>Naypyitaw</td>\n",
       "      <td>353.8584</td>\n",
       "      <td>88.4230</td>\n",
       "    </tr>\n",
       "    <tr>\n",
       "      <th>645</th>\n",
       "      <td>706-36-6154</td>\n",
       "      <td>A</td>\n",
       "      <td>Member</td>\n",
       "      <td>Male</td>\n",
       "      <td>Home and lifestyle</td>\n",
       "      <td>19.36</td>\n",
       "      <td>9</td>\n",
       "      <td>8.7120</td>\n",
       "      <td>182.9520</td>\n",
       "      <td>2019-01-18</td>\n",
       "      <td>18:43</td>\n",
       "      <td>Ewallet</td>\n",
       "      <td>8.7</td>\n",
       "      <td>Yangon</td>\n",
       "      <td>146.3616</td>\n",
       "      <td>36.5520</td>\n",
       "    </tr>\n",
       "    <tr>\n",
       "      <th>1085</th>\n",
       "      <td>756-01-7507</td>\n",
       "      <td>C</td>\n",
       "      <td>Normal</td>\n",
       "      <td>Female</td>\n",
       "      <td>Health and beauty</td>\n",
       "      <td>20.38</td>\n",
       "      <td>5</td>\n",
       "      <td>5.0950</td>\n",
       "      <td>106.9950</td>\n",
       "      <td>2019-01-22</td>\n",
       "      <td>18:56</td>\n",
       "      <td>Cash</td>\n",
       "      <td>6.0</td>\n",
       "      <td>Naypyitaw</td>\n",
       "      <td>85.5960</td>\n",
       "      <td>21.3950</td>\n",
       "    </tr>\n",
       "    <tr>\n",
       "      <th>184</th>\n",
       "      <td>586-25-0848</td>\n",
       "      <td>A</td>\n",
       "      <td>Normal</td>\n",
       "      <td>Female</td>\n",
       "      <td>Sports and travel</td>\n",
       "      <td>12.34</td>\n",
       "      <td>7</td>\n",
       "      <td>4.3190</td>\n",
       "      <td>90.6990</td>\n",
       "      <td>2019-03-04</td>\n",
       "      <td>11:19</td>\n",
       "      <td>Credit card</td>\n",
       "      <td>6.7</td>\n",
       "      <td>Yangon</td>\n",
       "      <td>72.5592</td>\n",
       "      <td>18.0990</td>\n",
       "    </tr>\n",
       "    <tr>\n",
       "      <th>2588</th>\n",
       "      <td>458-61-0011</td>\n",
       "      <td>B</td>\n",
       "      <td>Normal</td>\n",
       "      <td>Male</td>\n",
       "      <td>Food and beverages</td>\n",
       "      <td>60.30</td>\n",
       "      <td>4</td>\n",
       "      <td>12.0600</td>\n",
       "      <td>253.2600</td>\n",
       "      <td>2019-02-20</td>\n",
       "      <td>18:43</td>\n",
       "      <td>Cash</td>\n",
       "      <td>5.8</td>\n",
       "      <td>Mandalay</td>\n",
       "      <td>202.6080</td>\n",
       "      <td>50.6600</td>\n",
       "    </tr>\n",
       "    <tr>\n",
       "      <th>631</th>\n",
       "      <td>655-07-2265</td>\n",
       "      <td>A</td>\n",
       "      <td>Normal</td>\n",
       "      <td>Male</td>\n",
       "      <td>Electronic accessories</td>\n",
       "      <td>78.31</td>\n",
       "      <td>3</td>\n",
       "      <td>11.7465</td>\n",
       "      <td>246.6765</td>\n",
       "      <td>2019-03-05</td>\n",
       "      <td>16:38</td>\n",
       "      <td>Ewallet</td>\n",
       "      <td>5.4</td>\n",
       "      <td>Yangon</td>\n",
       "      <td>197.3412</td>\n",
       "      <td>49.3765</td>\n",
       "    </tr>\n",
       "    <tr>\n",
       "      <th>1586</th>\n",
       "      <td>390-31-6381</td>\n",
       "      <td>C</td>\n",
       "      <td>Normal</td>\n",
       "      <td>Male</td>\n",
       "      <td>Food and beverages</td>\n",
       "      <td>27.22</td>\n",
       "      <td>3</td>\n",
       "      <td>4.0830</td>\n",
       "      <td>85.7430</td>\n",
       "      <td>2019-01-07</td>\n",
       "      <td>12:37</td>\n",
       "      <td>Cash</td>\n",
       "      <td>7.3</td>\n",
       "      <td>Naypyitaw</td>\n",
       "      <td>68.5944</td>\n",
       "      <td>17.1430</td>\n",
       "    </tr>\n",
       "  </tbody>\n",
       "</table>\n",
       "</div>"
      ],
      "text/plain": [
       "       Invoice_ID Branch Customer_type  Gender            Product_line  \\\n",
       "2108  766-85-7061      B        Normal    Male       Health and beauty   \n",
       "1873  101-81-4070      C        Member  Female       Health and beauty   \n",
       "2905  715-20-1673      B        Normal    Male  Electronic accessories   \n",
       "1652  778-89-7974      C        Normal    Male       Health and beauty   \n",
       "645   706-36-6154      A        Member    Male      Home and lifestyle   \n",
       "1085  756-01-7507      C        Normal  Female       Health and beauty   \n",
       "184   586-25-0848      A        Normal  Female       Sports and travel   \n",
       "2588  458-61-0011      B        Normal    Male      Food and beverages   \n",
       "631   655-07-2265      A        Normal    Male  Electronic accessories   \n",
       "1586  390-31-6381      C        Normal    Male      Food and beverages   \n",
       "\n",
       "      Unit_price  Quantity   Tax_5%     Total       Date   Time      Payment  \\\n",
       "2108       87.87        10  43.9350  922.6350 2019-03-29  10:25      Ewallet   \n",
       "1873       62.82         2   6.2820  131.9220 2019-01-17  12:36      Ewallet   \n",
       "2905       28.38         5   7.0950  148.9950 2019-03-06  20:57         Cash   \n",
       "1652       70.21         6  21.0630  442.3230 2019-03-30  14:58         Cash   \n",
       "645        19.36         9   8.7120  182.9520 2019-01-18  18:43      Ewallet   \n",
       "1085       20.38         5   5.0950  106.9950 2019-01-22  18:56         Cash   \n",
       "184        12.34         7   4.3190   90.6990 2019-03-04  11:19  Credit card   \n",
       "2588       60.30         4  12.0600  253.2600 2019-02-20  18:43         Cash   \n",
       "631        78.31         3  11.7465  246.6765 2019-03-05  16:38      Ewallet   \n",
       "1586       27.22         3   4.0830   85.7430 2019-01-07  12:37         Cash   \n",
       "\n",
       "      Rating       City      COGS    Profit  \n",
       "2108     5.1   Mandalay  738.1080  184.5350  \n",
       "1873     4.9  Naypyitaw  105.5376   26.4220  \n",
       "2905     9.4   Mandalay  119.1960   29.7950  \n",
       "1652     7.4  Naypyitaw  353.8584   88.4230  \n",
       "645      8.7     Yangon  146.3616   36.5520  \n",
       "1085     6.0  Naypyitaw   85.5960   21.3950  \n",
       "184      6.7     Yangon   72.5592   18.0990  \n",
       "2588     5.8   Mandalay  202.6080   50.6600  \n",
       "631      5.4     Yangon  197.3412   49.3765  \n",
       "1586     7.3  Naypyitaw   68.5944   17.1430  "
      ]
     },
     "execution_count": 50,
     "metadata": {},
     "output_type": "execute_result"
    }
   ],
   "source": [
    "df_clean.sample(10)"
   ]
  },
  {
   "cell_type": "code",
   "execution_count": 51,
   "id": "c37481b7",
   "metadata": {},
   "outputs": [
    {
     "data": {
      "text/plain": [
       "(1000, 16)"
      ]
     },
     "execution_count": 51,
     "metadata": {},
     "output_type": "execute_result"
    }
   ],
   "source": [
    "df_clean.shape"
   ]
  },
  {
   "cell_type": "code",
   "execution_count": 52,
   "id": "fddcddf7",
   "metadata": {},
   "outputs": [
    {
     "name": "stdout",
     "output_type": "stream",
     "text": [
      "<class 'pandas.core.frame.DataFrame'>\n",
      "Int64Index: 1000 entries, 0 to 3008\n",
      "Data columns (total 16 columns):\n",
      " #   Column         Non-Null Count  Dtype         \n",
      "---  ------         --------------  -----         \n",
      " 0   Invoice_ID     1000 non-null   object        \n",
      " 1   Branch         1000 non-null   object        \n",
      " 2   Customer_type  1000 non-null   object        \n",
      " 3   Gender         1000 non-null   object        \n",
      " 4   Product_line   1000 non-null   object        \n",
      " 5   Unit_price     1000 non-null   float64       \n",
      " 6   Quantity       1000 non-null   int64         \n",
      " 7   Tax_5%         1000 non-null   float64       \n",
      " 8   Total          1000 non-null   float64       \n",
      " 9   Date           1000 non-null   datetime64[ns]\n",
      " 10  Time           1000 non-null   object        \n",
      " 11  Payment        1000 non-null   object        \n",
      " 12  Rating         1000 non-null   float64       \n",
      " 13  City           1000 non-null   object        \n",
      " 14  COGS           1000 non-null   float64       \n",
      " 15  Profit         1000 non-null   float64       \n",
      "dtypes: datetime64[ns](1), float64(6), int64(1), object(8)\n",
      "memory usage: 132.8+ KB\n"
     ]
    }
   ],
   "source": [
    "df_clean.info()"
   ]
  },
  {
   "cell_type": "code",
   "execution_count": 53,
   "id": "16bdbedd",
   "metadata": {},
   "outputs": [
    {
     "data": {
      "text/html": [
       "<div>\n",
       "<style scoped>\n",
       "    .dataframe tbody tr th:only-of-type {\n",
       "        vertical-align: middle;\n",
       "    }\n",
       "\n",
       "    .dataframe tbody tr th {\n",
       "        vertical-align: top;\n",
       "    }\n",
       "\n",
       "    .dataframe thead th {\n",
       "        text-align: right;\n",
       "    }\n",
       "</style>\n",
       "<table border=\"1\" class=\"dataframe\">\n",
       "  <thead>\n",
       "    <tr style=\"text-align: right;\">\n",
       "      <th></th>\n",
       "      <th>Unit_price</th>\n",
       "      <th>Quantity</th>\n",
       "      <th>Tax_5%</th>\n",
       "      <th>Total</th>\n",
       "      <th>Rating</th>\n",
       "      <th>COGS</th>\n",
       "      <th>Profit</th>\n",
       "    </tr>\n",
       "  </thead>\n",
       "  <tbody>\n",
       "    <tr>\n",
       "      <th>count</th>\n",
       "      <td>1000.000000</td>\n",
       "      <td>1000.000000</td>\n",
       "      <td>1000.000000</td>\n",
       "      <td>1000.000000</td>\n",
       "      <td>1000.000000</td>\n",
       "      <td>1000.000000</td>\n",
       "      <td>1000.000000</td>\n",
       "    </tr>\n",
       "    <tr>\n",
       "      <th>mean</th>\n",
       "      <td>55.672130</td>\n",
       "      <td>5.510000</td>\n",
       "      <td>15.353497</td>\n",
       "      <td>322.966749</td>\n",
       "      <td>7.060000</td>\n",
       "      <td>258.373399</td>\n",
       "      <td>64.593849</td>\n",
       "    </tr>\n",
       "    <tr>\n",
       "      <th>std</th>\n",
       "      <td>26.494628</td>\n",
       "      <td>2.923431</td>\n",
       "      <td>11.742764</td>\n",
       "      <td>245.885335</td>\n",
       "      <td>3.324375</td>\n",
       "      <td>196.708268</td>\n",
       "      <td>49.175056</td>\n",
       "    </tr>\n",
       "    <tr>\n",
       "      <th>min</th>\n",
       "      <td>10.080000</td>\n",
       "      <td>1.000000</td>\n",
       "      <td>-4.224000</td>\n",
       "      <td>10.678500</td>\n",
       "      <td>4.000000</td>\n",
       "      <td>8.542800</td>\n",
       "      <td>2.178500</td>\n",
       "    </tr>\n",
       "    <tr>\n",
       "      <th>25%</th>\n",
       "      <td>32.875000</td>\n",
       "      <td>3.000000</td>\n",
       "      <td>5.924875</td>\n",
       "      <td>124.422375</td>\n",
       "      <td>5.500000</td>\n",
       "      <td>99.537900</td>\n",
       "      <td>24.922375</td>\n",
       "    </tr>\n",
       "    <tr>\n",
       "      <th>50%</th>\n",
       "      <td>55.230000</td>\n",
       "      <td>5.000000</td>\n",
       "      <td>12.088000</td>\n",
       "      <td>253.848000</td>\n",
       "      <td>7.000000</td>\n",
       "      <td>203.078400</td>\n",
       "      <td>50.798000</td>\n",
       "    </tr>\n",
       "    <tr>\n",
       "      <th>75%</th>\n",
       "      <td>77.935000</td>\n",
       "      <td>8.000000</td>\n",
       "      <td>22.445250</td>\n",
       "      <td>471.350250</td>\n",
       "      <td>8.500000</td>\n",
       "      <td>377.080200</td>\n",
       "      <td>94.300250</td>\n",
       "    </tr>\n",
       "    <tr>\n",
       "      <th>max</th>\n",
       "      <td>99.960000</td>\n",
       "      <td>10.000000</td>\n",
       "      <td>49.650000</td>\n",
       "      <td>1042.650000</td>\n",
       "      <td>97.000000</td>\n",
       "      <td>834.120000</td>\n",
       "      <td>208.550000</td>\n",
       "    </tr>\n",
       "  </tbody>\n",
       "</table>\n",
       "</div>"
      ],
      "text/plain": [
       "        Unit_price     Quantity       Tax_5%        Total       Rating  \\\n",
       "count  1000.000000  1000.000000  1000.000000  1000.000000  1000.000000   \n",
       "mean     55.672130     5.510000    15.353497   322.966749     7.060000   \n",
       "std      26.494628     2.923431    11.742764   245.885335     3.324375   \n",
       "min      10.080000     1.000000    -4.224000    10.678500     4.000000   \n",
       "25%      32.875000     3.000000     5.924875   124.422375     5.500000   \n",
       "50%      55.230000     5.000000    12.088000   253.848000     7.000000   \n",
       "75%      77.935000     8.000000    22.445250   471.350250     8.500000   \n",
       "max      99.960000    10.000000    49.650000  1042.650000    97.000000   \n",
       "\n",
       "              COGS       Profit  \n",
       "count  1000.000000  1000.000000  \n",
       "mean    258.373399    64.593849  \n",
       "std     196.708268    49.175056  \n",
       "min       8.542800     2.178500  \n",
       "25%      99.537900    24.922375  \n",
       "50%     203.078400    50.798000  \n",
       "75%     377.080200    94.300250  \n",
       "max     834.120000   208.550000  "
      ]
     },
     "execution_count": 53,
     "metadata": {},
     "output_type": "execute_result"
    }
   ],
   "source": [
    "df_clean.describe()"
   ]
  },
  {
   "cell_type": "code",
   "execution_count": 54,
   "id": "36ce4fad",
   "metadata": {},
   "outputs": [
    {
     "data": {
      "text/plain": [
       "Invoice_ID       0\n",
       "Branch           0\n",
       "Customer_type    0\n",
       "Gender           0\n",
       "Product_line     0\n",
       "Unit_price       0\n",
       "Quantity         0\n",
       "Tax_5%           0\n",
       "Total            0\n",
       "Date             0\n",
       "Time             0\n",
       "Payment          0\n",
       "Rating           0\n",
       "City             0\n",
       "COGS             0\n",
       "Profit           0\n",
       "dtype: int64"
      ]
     },
     "execution_count": 54,
     "metadata": {},
     "output_type": "execute_result"
    }
   ],
   "source": [
    "df_clean.isna().sum()"
   ]
  },
  {
   "cell_type": "code",
   "execution_count": 56,
   "id": "f140957f",
   "metadata": {},
   "outputs": [
    {
     "data": {
      "text/plain": [
       "0"
      ]
     },
     "execution_count": 56,
     "metadata": {},
     "output_type": "execute_result"
    }
   ],
   "source": [
    "df_clean.duplicated().sum()"
   ]
  },
  {
   "cell_type": "code",
   "execution_count": null,
   "id": "92737788",
   "metadata": {},
   "outputs": [],
   "source": []
  },
  {
   "cell_type": "code",
   "execution_count": null,
   "id": "dcca3c40",
   "metadata": {},
   "outputs": [],
   "source": []
  },
  {
   "cell_type": "code",
   "execution_count": null,
   "id": "c9cb9d92",
   "metadata": {},
   "outputs": [],
   "source": []
  },
  {
   "cell_type": "markdown",
   "id": "07d94011",
   "metadata": {},
   "source": [
    "<a id='Storing'></a>\n",
    "## 5- Data Storing"
   ]
  },
  {
   "cell_type": "code",
   "execution_count": 58,
   "id": "fa1d374c",
   "metadata": {},
   "outputs": [],
   "source": [
    "df_clean.to_csv('clean_Supermarket_Sales_data.csv')"
   ]
  },
  {
   "cell_type": "code",
   "execution_count": null,
   "id": "6d18a8fd",
   "metadata": {},
   "outputs": [],
   "source": []
  }
 ],
 "metadata": {
  "kernelspec": {
   "display_name": "Python 3 (ipykernel)",
   "language": "python",
   "name": "python3"
  },
  "language_info": {
   "codemirror_mode": {
    "name": "ipython",
    "version": 3
   },
   "file_extension": ".py",
   "mimetype": "text/x-python",
   "name": "python",
   "nbconvert_exporter": "python",
   "pygments_lexer": "ipython3",
   "version": "3.9.13"
  }
 },
 "nbformat": 4,
 "nbformat_minor": 5
}
