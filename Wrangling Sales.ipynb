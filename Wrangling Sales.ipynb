{
 "cells": [
  {
   "cell_type": "markdown",
   "id": "115a2b53",
   "metadata": {},
   "source": [
    "\n",
    "# Project : Sales Data Wrangling \n",
    "\n",
    "## Table of Contents\n",
    "<ul>\n",
    "<li><a href=\"#intro\">Introduction</a></li>\n",
    "<li><a href=\"#Gathering\">Data Gathering</a></li>\n",
    "<li><a href=\"#Assessing\">Data Assessing</a></li>\n",
    "<li><a href=\"#Cleaning\">Data Cleaning</a></li>    \n",
    "<li><a href=\"#eda\">Exploratory Data Analysis</a></li>\n",
    "<li><a href=\"#Storing\"> Data Storing</a></li>    \n",
    "<li><a href=\"#conclusions\">Conclusions</a></li>\n",
    "</ul>"
   ]
  },
  {
   "cell_type": "markdown",
   "id": "04600fcc",
   "metadata": {},
   "source": [
    "<a id='intro'></a>\n",
    "## Introduction\n",
    "\n",
    "### Dataset Description \n",
    "\n",
    "This dataset includes detailed sales information from multiple branches, with 16 columns and 1006 rows. The data contains details about invoices such as invoice number, branch where the sale occurred, customer type, product type, quantity sold, price per unit, taxes, total, payment method, and customer ratings. The goal of this data is to analyze sales, understand customer behavior, evaluate the financial performance of different branches, and explore factors affecting customer satisfaction.\n"
   ]
  },
  {
   "cell_type": "code",
   "execution_count": 1,
   "id": "56c6c026",
   "metadata": {},
   "outputs": [],
   "source": [
    "# import  the libraries that you will use\n",
    "import pandas as pd \n",
    "import numpy as np\n",
    "import matplotlib.pyplot as plt \n",
    "%matplotlib inline\n",
    "from datetime import time\n",
    "# show all columns\n",
    "pd.set_option('display.max_columns', None)"
   ]
  },
  {
   "cell_type": "markdown",
   "id": "5eeb1eea",
   "metadata": {},
   "source": [
    "<a id='Gathering'></a>\n",
    "\n",
    "## 1- Data Gathering"
   ]
  },
  {
   "cell_type": "code",
   "execution_count": 2,
   "id": "1365c47b",
   "metadata": {},
   "outputs": [
    {
     "data": {
      "text/html": [
       "<div>\n",
       "<style scoped>\n",
       "    .dataframe tbody tr th:only-of-type {\n",
       "        vertical-align: middle;\n",
       "    }\n",
       "\n",
       "    .dataframe tbody tr th {\n",
       "        vertical-align: top;\n",
       "    }\n",
       "\n",
       "    .dataframe thead th {\n",
       "        text-align: right;\n",
       "    }\n",
       "</style>\n",
       "<table border=\"1\" class=\"dataframe\">\n",
       "  <thead>\n",
       "    <tr style=\"text-align: right;\">\n",
       "      <th></th>\n",
       "      <th>Invoice ID</th>\n",
       "      <th>Branch</th>\n",
       "      <th>Yangon</th>\n",
       "      <th>Naypyitaw</th>\n",
       "      <th>Mandalay</th>\n",
       "      <th>Customer type</th>\n",
       "      <th>Gender</th>\n",
       "      <th>Product line</th>\n",
       "      <th>Unit price</th>\n",
       "      <th>Quantity</th>\n",
       "      <th>Tax 5%</th>\n",
       "      <th>Total</th>\n",
       "      <th>Date</th>\n",
       "      <th>Time</th>\n",
       "      <th>Payment</th>\n",
       "      <th>Rating</th>\n",
       "    </tr>\n",
       "  </thead>\n",
       "  <tbody>\n",
       "    <tr>\n",
       "      <th>0</th>\n",
       "      <td>750-67-8428</td>\n",
       "      <td>A</td>\n",
       "      <td>1</td>\n",
       "      <td>0</td>\n",
       "      <td>0</td>\n",
       "      <td>Normal</td>\n",
       "      <td>Male</td>\n",
       "      <td>Health and beauty</td>\n",
       "      <td>74.69</td>\n",
       "      <td>7</td>\n",
       "      <td>26.1415</td>\n",
       "      <td>NaN</td>\n",
       "      <td>1/5/2019</td>\n",
       "      <td>13:08</td>\n",
       "      <td>Ewallet</td>\n",
       "      <td>9.1</td>\n",
       "    </tr>\n",
       "    <tr>\n",
       "      <th>1</th>\n",
       "      <td>226-31-3081</td>\n",
       "      <td>C</td>\n",
       "      <td>0</td>\n",
       "      <td>1</td>\n",
       "      <td>0</td>\n",
       "      <td>Normal</td>\n",
       "      <td>Male</td>\n",
       "      <td>Electronic accessories</td>\n",
       "      <td>15.28</td>\n",
       "      <td>5</td>\n",
       "      <td>3.8200</td>\n",
       "      <td>80.2200</td>\n",
       "      <td>3/8/2019</td>\n",
       "      <td>10:29</td>\n",
       "      <td>Cash</td>\n",
       "      <td>9.6</td>\n",
       "    </tr>\n",
       "    <tr>\n",
       "      <th>2</th>\n",
       "      <td>631-41-3108</td>\n",
       "      <td>A</td>\n",
       "      <td>1</td>\n",
       "      <td>0</td>\n",
       "      <td>0</td>\n",
       "      <td>Normal</td>\n",
       "      <td>Male</td>\n",
       "      <td>Home and lifestyle</td>\n",
       "      <td>46.33</td>\n",
       "      <td>7</td>\n",
       "      <td>16.2155</td>\n",
       "      <td>340.5255</td>\n",
       "      <td>3/3/2019</td>\n",
       "      <td>13:23</td>\n",
       "      <td>Credit card</td>\n",
       "      <td>7.4</td>\n",
       "    </tr>\n",
       "    <tr>\n",
       "      <th>3</th>\n",
       "      <td>123-19-1176</td>\n",
       "      <td>A</td>\n",
       "      <td>1</td>\n",
       "      <td>0</td>\n",
       "      <td>0</td>\n",
       "      <td>Normal</td>\n",
       "      <td>Male</td>\n",
       "      <td>Health and beauty</td>\n",
       "      <td>58.22</td>\n",
       "      <td>8</td>\n",
       "      <td>NaN</td>\n",
       "      <td>489.0480</td>\n",
       "      <td>1/27/2019</td>\n",
       "      <td>8 - 30 PM</td>\n",
       "      <td>Ewallet</td>\n",
       "      <td>8.4</td>\n",
       "    </tr>\n",
       "    <tr>\n",
       "      <th>4</th>\n",
       "      <td>373-73-7910</td>\n",
       "      <td>A</td>\n",
       "      <td>1</td>\n",
       "      <td>0</td>\n",
       "      <td>0</td>\n",
       "      <td>Normal</td>\n",
       "      <td>Male</td>\n",
       "      <td>Sports and travel</td>\n",
       "      <td>86.31</td>\n",
       "      <td>7</td>\n",
       "      <td>30.2085</td>\n",
       "      <td>634.3785</td>\n",
       "      <td>2/8/2019</td>\n",
       "      <td>10:37</td>\n",
       "      <td>Ewallet</td>\n",
       "      <td>5.3</td>\n",
       "    </tr>\n",
       "  </tbody>\n",
       "</table>\n",
       "</div>"
      ],
      "text/plain": [
       "    Invoice ID Branch  Yangon  Naypyitaw  Mandalay Customer type Gender  \\\n",
       "0  750-67-8428      A       1          0         0        Normal   Male   \n",
       "1  226-31-3081      C       0          1         0        Normal   Male   \n",
       "2  631-41-3108      A       1          0         0        Normal   Male   \n",
       "3  123-19-1176      A       1          0         0        Normal   Male   \n",
       "4  373-73-7910      A       1          0         0        Normal   Male   \n",
       "\n",
       "             Product line Unit price  Quantity   Tax 5%     Total       Date  \\\n",
       "0       Health and beauty      74.69         7  26.1415       NaN   1/5/2019   \n",
       "1  Electronic accessories      15.28         5   3.8200   80.2200   3/8/2019   \n",
       "2      Home and lifestyle      46.33         7  16.2155  340.5255   3/3/2019   \n",
       "3       Health and beauty      58.22         8      NaN  489.0480  1/27/2019   \n",
       "4       Sports and travel      86.31         7  30.2085  634.3785   2/8/2019   \n",
       "\n",
       "        Time      Payment  Rating  \n",
       "0      13:08      Ewallet     9.1  \n",
       "1      10:29         Cash     9.6  \n",
       "2      13:23  Credit card     7.4  \n",
       "3  8 - 30 PM      Ewallet     8.4  \n",
       "4      10:37      Ewallet     5.3  "
      ]
     },
     "execution_count": 2,
     "metadata": {},
     "output_type": "execute_result"
    }
   ],
   "source": [
    "df = pd.read_csv(\"Capstone Data - Supermarket Sales.csv\")\n",
    "df.head(5)"
   ]
  },
  {
   "cell_type": "markdown",
   "id": "336d6ce3",
   "metadata": {},
   "source": [
    "<a id='Assessing'></a>\n",
    "## 2- Data Assessing"
   ]
  },
  {
   "cell_type": "markdown",
   "id": "24a423cc",
   "metadata": {},
   "source": [
    "### 2-1- Tidiness issues"
   ]
  },
  {
   "cell_type": "code",
   "execution_count": 3,
   "id": "0aa4c865",
   "metadata": {},
   "outputs": [
    {
     "data": {
      "text/html": [
       "<div>\n",
       "<style scoped>\n",
       "    .dataframe tbody tr th:only-of-type {\n",
       "        vertical-align: middle;\n",
       "    }\n",
       "\n",
       "    .dataframe tbody tr th {\n",
       "        vertical-align: top;\n",
       "    }\n",
       "\n",
       "    .dataframe thead th {\n",
       "        text-align: right;\n",
       "    }\n",
       "</style>\n",
       "<table border=\"1\" class=\"dataframe\">\n",
       "  <thead>\n",
       "    <tr style=\"text-align: right;\">\n",
       "      <th></th>\n",
       "      <th>Invoice ID</th>\n",
       "      <th>Branch</th>\n",
       "      <th>Yangon</th>\n",
       "      <th>Naypyitaw</th>\n",
       "      <th>Mandalay</th>\n",
       "      <th>Customer type</th>\n",
       "      <th>Gender</th>\n",
       "      <th>Product line</th>\n",
       "      <th>Unit price</th>\n",
       "      <th>Quantity</th>\n",
       "      <th>Tax 5%</th>\n",
       "      <th>Total</th>\n",
       "      <th>Date</th>\n",
       "      <th>Time</th>\n",
       "      <th>Payment</th>\n",
       "      <th>Rating</th>\n",
       "    </tr>\n",
       "  </thead>\n",
       "  <tbody>\n",
       "    <tr>\n",
       "      <th>100</th>\n",
       "      <td>163-56-7055</td>\n",
       "      <td>C</td>\n",
       "      <td>0</td>\n",
       "      <td>1</td>\n",
       "      <td>0</td>\n",
       "      <td>Member</td>\n",
       "      <td>Male</td>\n",
       "      <td>Fashion accessories</td>\n",
       "      <td>48.71</td>\n",
       "      <td>1</td>\n",
       "      <td>2.4355</td>\n",
       "      <td>51.1455</td>\n",
       "      <td>3/26/2019</td>\n",
       "      <td>19:20</td>\n",
       "      <td>Cash</td>\n",
       "      <td>4.1</td>\n",
       "    </tr>\n",
       "    <tr>\n",
       "      <th>99</th>\n",
       "      <td>733-01-9107</td>\n",
       "      <td>B</td>\n",
       "      <td>0</td>\n",
       "      <td>0</td>\n",
       "      <td>1</td>\n",
       "      <td>Normal</td>\n",
       "      <td>Male</td>\n",
       "      <td>Home and lifestyle</td>\n",
       "      <td>82.7</td>\n",
       "      <td>6</td>\n",
       "      <td>24.8100</td>\n",
       "      <td>521.0100</td>\n",
       "      <td>3/5/2019</td>\n",
       "      <td>18:14</td>\n",
       "      <td>Cash</td>\n",
       "      <td>7.4</td>\n",
       "    </tr>\n",
       "    <tr>\n",
       "      <th>215</th>\n",
       "      <td>802-43-8934</td>\n",
       "      <td>A</td>\n",
       "      <td>1</td>\n",
       "      <td>0</td>\n",
       "      <td>0</td>\n",
       "      <td>Normal</td>\n",
       "      <td>Male</td>\n",
       "      <td>Home and lifestyle</td>\n",
       "      <td>18.28</td>\n",
       "      <td>1</td>\n",
       "      <td>0.9140</td>\n",
       "      <td>19.1940</td>\n",
       "      <td>3/22/2019</td>\n",
       "      <td>15:05</td>\n",
       "      <td>Credit card</td>\n",
       "      <td>8.3</td>\n",
       "    </tr>\n",
       "    <tr>\n",
       "      <th>353</th>\n",
       "      <td>565-67-6697</td>\n",
       "      <td>B</td>\n",
       "      <td>0</td>\n",
       "      <td>0</td>\n",
       "      <td>1</td>\n",
       "      <td>Member</td>\n",
       "      <td>Male</td>\n",
       "      <td>Home and lifestyle</td>\n",
       "      <td>27</td>\n",
       "      <td>9</td>\n",
       "      <td>12.1500</td>\n",
       "      <td>255.1500</td>\n",
       "      <td>3/2/2019</td>\n",
       "      <td>14:16</td>\n",
       "      <td>Cash</td>\n",
       "      <td>4.8</td>\n",
       "    </tr>\n",
       "    <tr>\n",
       "      <th>809</th>\n",
       "      <td>189-55-2313</td>\n",
       "      <td>C</td>\n",
       "      <td>0</td>\n",
       "      <td>1</td>\n",
       "      <td>0</td>\n",
       "      <td>Normal</td>\n",
       "      <td>Female</td>\n",
       "      <td>Fashion accessories</td>\n",
       "      <td>62.18</td>\n",
       "      <td>10</td>\n",
       "      <td>31.0900</td>\n",
       "      <td>652.8900</td>\n",
       "      <td>1/31/2019</td>\n",
       "      <td>10:33</td>\n",
       "      <td>Ewallet</td>\n",
       "      <td>6.0</td>\n",
       "    </tr>\n",
       "  </tbody>\n",
       "</table>\n",
       "</div>"
      ],
      "text/plain": [
       "      Invoice ID Branch  Yangon  Naypyitaw  Mandalay Customer type  Gender  \\\n",
       "100  163-56-7055      C       0          1         0        Member    Male   \n",
       "99   733-01-9107      B       0          0         1        Normal    Male   \n",
       "215  802-43-8934      A       1          0         0        Normal    Male   \n",
       "353  565-67-6697      B       0          0         1        Member    Male   \n",
       "809  189-55-2313      C       0          1         0        Normal  Female   \n",
       "\n",
       "            Product line Unit price  Quantity   Tax 5%     Total       Date  \\\n",
       "100  Fashion accessories      48.71         1   2.4355   51.1455  3/26/2019   \n",
       "99    Home and lifestyle       82.7         6  24.8100  521.0100   3/5/2019   \n",
       "215   Home and lifestyle      18.28         1   0.9140   19.1940  3/22/2019   \n",
       "353   Home and lifestyle         27         9  12.1500  255.1500   3/2/2019   \n",
       "809  Fashion accessories      62.18        10  31.0900  652.8900  1/31/2019   \n",
       "\n",
       "      Time      Payment  Rating  \n",
       "100  19:20         Cash     4.1  \n",
       "99   18:14         Cash     7.4  \n",
       "215  15:05  Credit card     8.3  \n",
       "353  14:16         Cash     4.8  \n",
       "809  10:33      Ewallet     6.0  "
      ]
     },
     "execution_count": 3,
     "metadata": {},
     "output_type": "execute_result"
    }
   ],
   "source": [
    "df.sample(5)"
   ]
  },
  {
   "cell_type": "code",
   "execution_count": 4,
   "id": "9e940b50",
   "metadata": {},
   "outputs": [
    {
     "data": {
      "text/plain": [
       "(1006, 16)"
      ]
     },
     "execution_count": 4,
     "metadata": {},
     "output_type": "execute_result"
    }
   ],
   "source": [
    "df.shape"
   ]
  },
  {
   "cell_type": "code",
   "execution_count": null,
   "id": "d20ea938",
   "metadata": {},
   "outputs": [],
   "source": []
  },
  {
   "cell_type": "markdown",
   "id": "96e9aeee",
   "metadata": {},
   "source": [
    "#### Each variable forms a column and contains values\n",
    "- 'Yangon', 'Naypyitaw', 'Mandalay' convertir les colonnes\n"
   ]
  },
  {
   "cell_type": "markdown",
   "id": "1a285961",
   "metadata": {},
   "source": [
    "#### Each observation forms a row\n",
    "- nothing"
   ]
  },
  {
   "cell_type": "markdown",
   "id": "4fab6a7d",
   "metadata": {},
   "source": [
    "#### Each type of observational unit forms a table\n",
    "- nothing"
   ]
  },
  {
   "cell_type": "code",
   "execution_count": null,
   "id": "c96ef10b",
   "metadata": {},
   "outputs": [],
   "source": []
  },
  {
   "cell_type": "markdown",
   "id": "ff958c28",
   "metadata": {},
   "source": [
    "### 2-2- Quality issues"
   ]
  },
  {
   "cell_type": "code",
   "execution_count": 5,
   "id": "38b24c85",
   "metadata": {},
   "outputs": [
    {
     "data": {
      "text/html": [
       "<div>\n",
       "<style scoped>\n",
       "    .dataframe tbody tr th:only-of-type {\n",
       "        vertical-align: middle;\n",
       "    }\n",
       "\n",
       "    .dataframe tbody tr th {\n",
       "        vertical-align: top;\n",
       "    }\n",
       "\n",
       "    .dataframe thead th {\n",
       "        text-align: right;\n",
       "    }\n",
       "</style>\n",
       "<table border=\"1\" class=\"dataframe\">\n",
       "  <thead>\n",
       "    <tr style=\"text-align: right;\">\n",
       "      <th></th>\n",
       "      <th>Invoice ID</th>\n",
       "      <th>Branch</th>\n",
       "      <th>Yangon</th>\n",
       "      <th>Naypyitaw</th>\n",
       "      <th>Mandalay</th>\n",
       "      <th>Customer type</th>\n",
       "      <th>Gender</th>\n",
       "      <th>Product line</th>\n",
       "      <th>Unit price</th>\n",
       "      <th>Quantity</th>\n",
       "      <th>Tax 5%</th>\n",
       "      <th>Total</th>\n",
       "      <th>Date</th>\n",
       "      <th>Time</th>\n",
       "      <th>Payment</th>\n",
       "      <th>Rating</th>\n",
       "    </tr>\n",
       "  </thead>\n",
       "  <tbody>\n",
       "    <tr>\n",
       "      <th>691</th>\n",
       "      <td>266-20-6657</td>\n",
       "      <td>C</td>\n",
       "      <td>0</td>\n",
       "      <td>1</td>\n",
       "      <td>0</td>\n",
       "      <td>Member</td>\n",
       "      <td>Male</td>\n",
       "      <td>Food and beverages</td>\n",
       "      <td>55.04</td>\n",
       "      <td>7</td>\n",
       "      <td>19.2640</td>\n",
       "      <td>404.5440</td>\n",
       "      <td>3/12/2019</td>\n",
       "      <td>19:39</td>\n",
       "      <td>Ewallet</td>\n",
       "      <td>5.2</td>\n",
       "    </tr>\n",
       "    <tr>\n",
       "      <th>96</th>\n",
       "      <td>766-85-7061</td>\n",
       "      <td>B</td>\n",
       "      <td>0</td>\n",
       "      <td>0</td>\n",
       "      <td>1</td>\n",
       "      <td>Normal</td>\n",
       "      <td>Male</td>\n",
       "      <td>Health and beauty</td>\n",
       "      <td>87.87</td>\n",
       "      <td>10</td>\n",
       "      <td>43.9350</td>\n",
       "      <td>922.6350</td>\n",
       "      <td>3/29/2019</td>\n",
       "      <td>10:25</td>\n",
       "      <td>Ewallet</td>\n",
       "      <td>5.1</td>\n",
       "    </tr>\n",
       "    <tr>\n",
       "      <th>356</th>\n",
       "      <td>632-90-0281</td>\n",
       "      <td>C</td>\n",
       "      <td>0</td>\n",
       "      <td>1</td>\n",
       "      <td>0</td>\n",
       "      <td>Normal</td>\n",
       "      <td>Female</td>\n",
       "      <td>Fashion accessories</td>\n",
       "      <td>37.55</td>\n",
       "      <td>10</td>\n",
       "      <td>18.7750</td>\n",
       "      <td>394.2750</td>\n",
       "      <td>3/8/2019</td>\n",
       "      <td>20:01</td>\n",
       "      <td>Credit card</td>\n",
       "      <td>9.3</td>\n",
       "    </tr>\n",
       "    <tr>\n",
       "      <th>508</th>\n",
       "      <td>291-21-5991</td>\n",
       "      <td>B</td>\n",
       "      <td>0</td>\n",
       "      <td>0</td>\n",
       "      <td>1</td>\n",
       "      <td>Member</td>\n",
       "      <td>Male</td>\n",
       "      <td>Health and beauty</td>\n",
       "      <td>61.29</td>\n",
       "      <td>5</td>\n",
       "      <td>15.3225</td>\n",
       "      <td>321.7725</td>\n",
       "      <td>3/29/2019</td>\n",
       "      <td>14:28</td>\n",
       "      <td>Cash</td>\n",
       "      <td>7.0</td>\n",
       "    </tr>\n",
       "    <tr>\n",
       "      <th>429</th>\n",
       "      <td>325-77-6186</td>\n",
       "      <td>A</td>\n",
       "      <td>1</td>\n",
       "      <td>0</td>\n",
       "      <td>0</td>\n",
       "      <td>Member</td>\n",
       "      <td>Female</td>\n",
       "      <td>Home and lifestyle</td>\n",
       "      <td>90.65</td>\n",
       "      <td>10</td>\n",
       "      <td>45.3250</td>\n",
       "      <td>951.8250</td>\n",
       "      <td>3/8/2019</td>\n",
       "      <td>10:53</td>\n",
       "      <td>Ewallet</td>\n",
       "      <td>7.3</td>\n",
       "    </tr>\n",
       "    <tr>\n",
       "      <th>200</th>\n",
       "      <td>606-80-4905</td>\n",
       "      <td>C</td>\n",
       "      <td>0</td>\n",
       "      <td>1</td>\n",
       "      <td>0</td>\n",
       "      <td>Member</td>\n",
       "      <td>Female</td>\n",
       "      <td>Sports and travel</td>\n",
       "      <td>19.15</td>\n",
       "      <td>6</td>\n",
       "      <td>5.7450</td>\n",
       "      <td>120.6450</td>\n",
       "      <td>1/29/2019</td>\n",
       "      <td>10:01</td>\n",
       "      <td>Credit card</td>\n",
       "      <td>6.8</td>\n",
       "    </tr>\n",
       "    <tr>\n",
       "      <th>375</th>\n",
       "      <td>667-23-5919</td>\n",
       "      <td>A</td>\n",
       "      <td>1</td>\n",
       "      <td>0</td>\n",
       "      <td>0</td>\n",
       "      <td>Member</td>\n",
       "      <td>Female</td>\n",
       "      <td>Fashion accessories</td>\n",
       "      <td>96.7</td>\n",
       "      <td>5</td>\n",
       "      <td>24.1750</td>\n",
       "      <td>507.6750</td>\n",
       "      <td>1/14/2019</td>\n",
       "      <td>12:52</td>\n",
       "      <td>Ewallet</td>\n",
       "      <td>7.0</td>\n",
       "    </tr>\n",
       "    <tr>\n",
       "      <th>730</th>\n",
       "      <td>247-11-2470</td>\n",
       "      <td>A</td>\n",
       "      <td>1</td>\n",
       "      <td>0</td>\n",
       "      <td>0</td>\n",
       "      <td>Member</td>\n",
       "      <td>Female</td>\n",
       "      <td>Fashion accessories</td>\n",
       "      <td>22.32</td>\n",
       "      <td>4</td>\n",
       "      <td>4.4640</td>\n",
       "      <td>93.7440</td>\n",
       "      <td>3/1/2019</td>\n",
       "      <td>16:23</td>\n",
       "      <td>Credit card</td>\n",
       "      <td>4.4</td>\n",
       "    </tr>\n",
       "    <tr>\n",
       "      <th>80</th>\n",
       "      <td>870-72-4431</td>\n",
       "      <td>C</td>\n",
       "      <td>0</td>\n",
       "      <td>1</td>\n",
       "      <td>0</td>\n",
       "      <td>Normal</td>\n",
       "      <td>Female</td>\n",
       "      <td>Health and beauty</td>\n",
       "      <td>99.19</td>\n",
       "      <td>6</td>\n",
       "      <td>29.7570</td>\n",
       "      <td>624.8970</td>\n",
       "      <td>1/21/2019</td>\n",
       "      <td>14:42</td>\n",
       "      <td>Credit card</td>\n",
       "      <td>5.5</td>\n",
       "    </tr>\n",
       "    <tr>\n",
       "      <th>64</th>\n",
       "      <td>853-23-2453</td>\n",
       "      <td>B</td>\n",
       "      <td>0</td>\n",
       "      <td>0</td>\n",
       "      <td>1</td>\n",
       "      <td>-</td>\n",
       "      <td>Male</td>\n",
       "      <td>Health and beauty</td>\n",
       "      <td>75.74</td>\n",
       "      <td>4</td>\n",
       "      <td>15.1480</td>\n",
       "      <td>318.1080</td>\n",
       "      <td>2/14/2019</td>\n",
       "      <td>14:35</td>\n",
       "      <td>Cash</td>\n",
       "      <td>7.6</td>\n",
       "    </tr>\n",
       "  </tbody>\n",
       "</table>\n",
       "</div>"
      ],
      "text/plain": [
       "      Invoice ID Branch  Yangon  Naypyitaw  Mandalay Customer type  Gender  \\\n",
       "691  266-20-6657      C       0          1         0        Member    Male   \n",
       "96   766-85-7061      B       0          0         1        Normal    Male   \n",
       "356  632-90-0281      C       0          1         0        Normal  Female   \n",
       "508  291-21-5991      B       0          0         1        Member    Male   \n",
       "429  325-77-6186      A       1          0         0        Member  Female   \n",
       "200  606-80-4905      C       0          1         0        Member  Female   \n",
       "375  667-23-5919      A       1          0         0        Member  Female   \n",
       "730  247-11-2470      A       1          0         0        Member  Female   \n",
       "80   870-72-4431      C       0          1         0        Normal  Female   \n",
       "64   853-23-2453      B       0          0         1             -    Male   \n",
       "\n",
       "            Product line Unit price  Quantity   Tax 5%     Total       Date  \\\n",
       "691   Food and beverages      55.04         7  19.2640  404.5440  3/12/2019   \n",
       "96     Health and beauty      87.87        10  43.9350  922.6350  3/29/2019   \n",
       "356  Fashion accessories      37.55        10  18.7750  394.2750   3/8/2019   \n",
       "508    Health and beauty      61.29         5  15.3225  321.7725  3/29/2019   \n",
       "429   Home and lifestyle      90.65        10  45.3250  951.8250   3/8/2019   \n",
       "200    Sports and travel      19.15         6   5.7450  120.6450  1/29/2019   \n",
       "375  Fashion accessories       96.7         5  24.1750  507.6750  1/14/2019   \n",
       "730  Fashion accessories      22.32         4   4.4640   93.7440   3/1/2019   \n",
       "80     Health and beauty      99.19         6  29.7570  624.8970  1/21/2019   \n",
       "64     Health and beauty      75.74         4  15.1480  318.1080  2/14/2019   \n",
       "\n",
       "      Time      Payment  Rating  \n",
       "691  19:39      Ewallet     5.2  \n",
       "96   10:25      Ewallet     5.1  \n",
       "356  20:01  Credit card     9.3  \n",
       "508  14:28         Cash     7.0  \n",
       "429  10:53      Ewallet     7.3  \n",
       "200  10:01  Credit card     6.8  \n",
       "375  12:52      Ewallet     7.0  \n",
       "730  16:23  Credit card     4.4  \n",
       "80   14:42  Credit card     5.5  \n",
       "64   14:35         Cash     7.6  "
      ]
     },
     "execution_count": 5,
     "metadata": {},
     "output_type": "execute_result"
    }
   ],
   "source": [
    "df.sample(10)"
   ]
  },
  {
   "cell_type": "code",
   "execution_count": 6,
   "id": "c3bdc1bb",
   "metadata": {},
   "outputs": [
    {
     "name": "stdout",
     "output_type": "stream",
     "text": [
      "<class 'pandas.core.frame.DataFrame'>\n",
      "RangeIndex: 1006 entries, 0 to 1005\n",
      "Data columns (total 16 columns):\n",
      " #   Column         Non-Null Count  Dtype  \n",
      "---  ------         --------------  -----  \n",
      " 0   Invoice ID     1006 non-null   object \n",
      " 1   Branch         1006 non-null   object \n",
      " 2   Yangon         1006 non-null   int64  \n",
      " 3   Naypyitaw      1006 non-null   int64  \n",
      " 4   Mandalay       1006 non-null   int64  \n",
      " 5   Customer type  1006 non-null   object \n",
      " 6   Gender         1006 non-null   object \n",
      " 7   Product line   1006 non-null   object \n",
      " 8   Unit price     1006 non-null   object \n",
      " 9   Quantity       1006 non-null   int64  \n",
      " 10  Tax 5%         997 non-null    float64\n",
      " 11  Total          1003 non-null   float64\n",
      " 12  Date           1006 non-null   object \n",
      " 13  Time           1006 non-null   object \n",
      " 14  Payment        1006 non-null   object \n",
      " 15  Rating         1006 non-null   float64\n",
      "dtypes: float64(3), int64(4), object(9)\n",
      "memory usage: 125.9+ KB\n"
     ]
    }
   ],
   "source": [
    "df.info()"
   ]
  },
  {
   "cell_type": "code",
   "execution_count": 7,
   "id": "a1a69dac",
   "metadata": {},
   "outputs": [
    {
     "data": {
      "text/html": [
       "<div>\n",
       "<style scoped>\n",
       "    .dataframe tbody tr th:only-of-type {\n",
       "        vertical-align: middle;\n",
       "    }\n",
       "\n",
       "    .dataframe tbody tr th {\n",
       "        vertical-align: top;\n",
       "    }\n",
       "\n",
       "    .dataframe thead th {\n",
       "        text-align: right;\n",
       "    }\n",
       "</style>\n",
       "<table border=\"1\" class=\"dataframe\">\n",
       "  <thead>\n",
       "    <tr style=\"text-align: right;\">\n",
       "      <th></th>\n",
       "      <th>Yangon</th>\n",
       "      <th>Naypyitaw</th>\n",
       "      <th>Mandalay</th>\n",
       "      <th>Quantity</th>\n",
       "      <th>Tax 5%</th>\n",
       "      <th>Total</th>\n",
       "      <th>Rating</th>\n",
       "    </tr>\n",
       "  </thead>\n",
       "  <tbody>\n",
       "    <tr>\n",
       "      <th>count</th>\n",
       "      <td>1006.000000</td>\n",
       "      <td>1006.000000</td>\n",
       "      <td>1006.000000</td>\n",
       "      <td>1006.000000</td>\n",
       "      <td>997.000000</td>\n",
       "      <td>1003.000000</td>\n",
       "      <td>1006.000000</td>\n",
       "    </tr>\n",
       "    <tr>\n",
       "      <th>mean</th>\n",
       "      <td>0.338966</td>\n",
       "      <td>0.329026</td>\n",
       "      <td>0.332008</td>\n",
       "      <td>5.469185</td>\n",
       "      <td>15.479682</td>\n",
       "      <td>322.734689</td>\n",
       "      <td>7.056163</td>\n",
       "    </tr>\n",
       "    <tr>\n",
       "      <th>std</th>\n",
       "      <td>0.473594</td>\n",
       "      <td>0.470093</td>\n",
       "      <td>0.471168</td>\n",
       "      <td>3.014153</td>\n",
       "      <td>11.728320</td>\n",
       "      <td>245.865964</td>\n",
       "      <td>3.318751</td>\n",
       "    </tr>\n",
       "    <tr>\n",
       "      <th>min</th>\n",
       "      <td>0.000000</td>\n",
       "      <td>0.000000</td>\n",
       "      <td>0.000000</td>\n",
       "      <td>-8.000000</td>\n",
       "      <td>0.508500</td>\n",
       "      <td>10.678500</td>\n",
       "      <td>4.000000</td>\n",
       "    </tr>\n",
       "    <tr>\n",
       "      <th>25%</th>\n",
       "      <td>0.000000</td>\n",
       "      <td>0.000000</td>\n",
       "      <td>0.000000</td>\n",
       "      <td>3.000000</td>\n",
       "      <td>5.986500</td>\n",
       "      <td>123.789750</td>\n",
       "      <td>5.500000</td>\n",
       "    </tr>\n",
       "    <tr>\n",
       "      <th>50%</th>\n",
       "      <td>0.000000</td>\n",
       "      <td>0.000000</td>\n",
       "      <td>0.000000</td>\n",
       "      <td>5.000000</td>\n",
       "      <td>12.227500</td>\n",
       "      <td>254.016000</td>\n",
       "      <td>7.000000</td>\n",
       "    </tr>\n",
       "    <tr>\n",
       "      <th>75%</th>\n",
       "      <td>1.000000</td>\n",
       "      <td>1.000000</td>\n",
       "      <td>1.000000</td>\n",
       "      <td>8.000000</td>\n",
       "      <td>22.720500</td>\n",
       "      <td>471.009000</td>\n",
       "      <td>8.500000</td>\n",
       "    </tr>\n",
       "    <tr>\n",
       "      <th>max</th>\n",
       "      <td>1.000000</td>\n",
       "      <td>1.000000</td>\n",
       "      <td>1.000000</td>\n",
       "      <td>10.000000</td>\n",
       "      <td>49.650000</td>\n",
       "      <td>1042.650000</td>\n",
       "      <td>97.000000</td>\n",
       "    </tr>\n",
       "  </tbody>\n",
       "</table>\n",
       "</div>"
      ],
      "text/plain": [
       "            Yangon    Naypyitaw     Mandalay     Quantity      Tax 5%  \\\n",
       "count  1006.000000  1006.000000  1006.000000  1006.000000  997.000000   \n",
       "mean      0.338966     0.329026     0.332008     5.469185   15.479682   \n",
       "std       0.473594     0.470093     0.471168     3.014153   11.728320   \n",
       "min       0.000000     0.000000     0.000000    -8.000000    0.508500   \n",
       "25%       0.000000     0.000000     0.000000     3.000000    5.986500   \n",
       "50%       0.000000     0.000000     0.000000     5.000000   12.227500   \n",
       "75%       1.000000     1.000000     1.000000     8.000000   22.720500   \n",
       "max       1.000000     1.000000     1.000000    10.000000   49.650000   \n",
       "\n",
       "             Total       Rating  \n",
       "count  1003.000000  1006.000000  \n",
       "mean    322.734689     7.056163  \n",
       "std     245.865964     3.318751  \n",
       "min      10.678500     4.000000  \n",
       "25%     123.789750     5.500000  \n",
       "50%     254.016000     7.000000  \n",
       "75%     471.009000     8.500000  \n",
       "max    1042.650000    97.000000  "
      ]
     },
     "execution_count": 7,
     "metadata": {},
     "output_type": "execute_result"
    }
   ],
   "source": [
    "df.describe()"
   ]
  },
  {
   "cell_type": "code",
   "execution_count": 8,
   "id": "fd624cb2",
   "metadata": {},
   "outputs": [
    {
     "data": {
      "text/plain": [
       "6"
      ]
     },
     "execution_count": 8,
     "metadata": {},
     "output_type": "execute_result"
    }
   ],
   "source": [
    "df.duplicated().sum()"
   ]
  },
  {
   "cell_type": "code",
   "execution_count": 9,
   "id": "aff62b7b",
   "metadata": {},
   "outputs": [
    {
     "data": {
      "text/plain": [
       "Invoice ID       0\n",
       "Branch           0\n",
       "Yangon           0\n",
       "Naypyitaw        0\n",
       "Mandalay         0\n",
       "Customer type    0\n",
       "Gender           0\n",
       "Product line     0\n",
       "Unit price       0\n",
       "Quantity         0\n",
       "Tax 5%           9\n",
       "Total            3\n",
       "Date             0\n",
       "Time             0\n",
       "Payment          0\n",
       "Rating           0\n",
       "dtype: int64"
      ]
     },
     "execution_count": 9,
     "metadata": {},
     "output_type": "execute_result"
    }
   ],
   "source": [
    "df.isnull().sum()"
   ]
  },
  {
   "cell_type": "code",
   "execution_count": 10,
   "id": "8a4b7dc1",
   "metadata": {},
   "outputs": [
    {
     "data": {
      "text/plain": [
       "Normal     515\n",
       "Member     463\n",
       "-           27\n",
       "Memberr      1\n",
       "Name: Customer type, dtype: int64"
      ]
     },
     "execution_count": 10,
     "metadata": {},
     "output_type": "execute_result"
    }
   ],
   "source": [
    "df['Customer type'].value_counts()"
   ]
  },
  {
   "cell_type": "code",
   "execution_count": 11,
   "id": "055ff312",
   "metadata": {},
   "outputs": [
    {
     "data": {
      "text/plain": [
       " 10    120\n",
       " 1     111\n",
       " 4     109\n",
       " 7     102\n",
       " 5     102\n",
       " 6      98\n",
       " 9      94\n",
       " 2      92\n",
       " 3      91\n",
       " 8      83\n",
       "-8       2\n",
       "-1       1\n",
       "-7       1\n",
       "Name: Quantity, dtype: int64"
      ]
     },
     "execution_count": 11,
     "metadata": {},
     "output_type": "execute_result"
    }
   ],
   "source": [
    "df['Quantity'].value_counts()"
   ]
  },
  {
   "cell_type": "code",
   "execution_count": 12,
   "id": "2be147c7",
   "metadata": {},
   "outputs": [
    {
     "data": {
      "text/html": [
       "<div>\n",
       "<style scoped>\n",
       "    .dataframe tbody tr th:only-of-type {\n",
       "        vertical-align: middle;\n",
       "    }\n",
       "\n",
       "    .dataframe tbody tr th {\n",
       "        vertical-align: top;\n",
       "    }\n",
       "\n",
       "    .dataframe thead th {\n",
       "        text-align: right;\n",
       "    }\n",
       "</style>\n",
       "<table border=\"1\" class=\"dataframe\">\n",
       "  <thead>\n",
       "    <tr style=\"text-align: right;\">\n",
       "      <th></th>\n",
       "      <th>Invoice ID</th>\n",
       "      <th>Branch</th>\n",
       "      <th>Yangon</th>\n",
       "      <th>Naypyitaw</th>\n",
       "      <th>Mandalay</th>\n",
       "      <th>Customer type</th>\n",
       "      <th>Gender</th>\n",
       "      <th>Product line</th>\n",
       "      <th>Unit price</th>\n",
       "      <th>Quantity</th>\n",
       "      <th>Tax 5%</th>\n",
       "      <th>Total</th>\n",
       "      <th>Date</th>\n",
       "      <th>Time</th>\n",
       "      <th>Payment</th>\n",
       "      <th>Rating</th>\n",
       "    </tr>\n",
       "  </thead>\n",
       "  <tbody>\n",
       "    <tr>\n",
       "      <th>629</th>\n",
       "      <td>308-39-1707</td>\n",
       "      <td>A</td>\n",
       "      <td>1</td>\n",
       "      <td>0</td>\n",
       "      <td>0</td>\n",
       "      <td>Normal</td>\n",
       "      <td>Female</td>\n",
       "      <td>Fashion accessories</td>\n",
       "      <td>12.09 USD</td>\n",
       "      <td>-1</td>\n",
       "      <td>NaN</td>\n",
       "      <td>12.6945</td>\n",
       "      <td>1/26/2019</td>\n",
       "      <td>18:19</td>\n",
       "      <td>Credit card</td>\n",
       "      <td>8.2</td>\n",
       "    </tr>\n",
       "    <tr>\n",
       "      <th>830</th>\n",
       "      <td>237-44-6163</td>\n",
       "      <td>A</td>\n",
       "      <td>1</td>\n",
       "      <td>0</td>\n",
       "      <td>0</td>\n",
       "      <td>Normal</td>\n",
       "      <td>Male</td>\n",
       "      <td>Electronic accessories</td>\n",
       "      <td>10.56 USD</td>\n",
       "      <td>-8</td>\n",
       "      <td>NaN</td>\n",
       "      <td>88.7040</td>\n",
       "      <td>1/24/2019</td>\n",
       "      <td>17:43</td>\n",
       "      <td>Cash</td>\n",
       "      <td>7.6</td>\n",
       "    </tr>\n",
       "    <tr>\n",
       "      <th>881</th>\n",
       "      <td>115-38-7388</td>\n",
       "      <td>C</td>\n",
       "      <td>0</td>\n",
       "      <td>1</td>\n",
       "      <td>0</td>\n",
       "      <td>Member</td>\n",
       "      <td>Female</td>\n",
       "      <td>Fashion accessories</td>\n",
       "      <td>10.18 USD</td>\n",
       "      <td>-8</td>\n",
       "      <td>NaN</td>\n",
       "      <td>85.5120</td>\n",
       "      <td>3/30/2019</td>\n",
       "      <td>12:51</td>\n",
       "      <td>Credit card</td>\n",
       "      <td>9.5</td>\n",
       "    </tr>\n",
       "    <tr>\n",
       "      <th>903</th>\n",
       "      <td>865-41-9075</td>\n",
       "      <td>A</td>\n",
       "      <td>1</td>\n",
       "      <td>0</td>\n",
       "      <td>0</td>\n",
       "      <td>Normal</td>\n",
       "      <td>Male</td>\n",
       "      <td>Food and beverages</td>\n",
       "      <td>11.53 USD</td>\n",
       "      <td>-7</td>\n",
       "      <td>NaN</td>\n",
       "      <td>84.7455</td>\n",
       "      <td>1/28/2019</td>\n",
       "      <td>17:35</td>\n",
       "      <td>Cash</td>\n",
       "      <td>8.1</td>\n",
       "    </tr>\n",
       "  </tbody>\n",
       "</table>\n",
       "</div>"
      ],
      "text/plain": [
       "      Invoice ID Branch  Yangon  Naypyitaw  Mandalay Customer type  Gender  \\\n",
       "629  308-39-1707      A       1          0         0        Normal  Female   \n",
       "830  237-44-6163      A       1          0         0        Normal    Male   \n",
       "881  115-38-7388      C       0          1         0        Member  Female   \n",
       "903  865-41-9075      A       1          0         0        Normal    Male   \n",
       "\n",
       "               Product line Unit price  Quantity  Tax 5%    Total       Date  \\\n",
       "629     Fashion accessories  12.09 USD        -1     NaN  12.6945  1/26/2019   \n",
       "830  Electronic accessories  10.56 USD        -8     NaN  88.7040  1/24/2019   \n",
       "881     Fashion accessories  10.18 USD        -8     NaN  85.5120  3/30/2019   \n",
       "903      Food and beverages  11.53 USD        -7     NaN  84.7455  1/28/2019   \n",
       "\n",
       "      Time      Payment  Rating  \n",
       "629  18:19  Credit card     8.2  \n",
       "830  17:43         Cash     7.6  \n",
       "881  12:51  Credit card     9.5  \n",
       "903  17:35         Cash     8.1  "
      ]
     },
     "execution_count": 12,
     "metadata": {},
     "output_type": "execute_result"
    }
   ],
   "source": [
    "negative_values = df[df['Quantity'] < 0]\n",
    "negative_values"
   ]
  },
  {
   "cell_type": "code",
   "execution_count": null,
   "id": "1f4c08d9",
   "metadata": {},
   "outputs": [],
   "source": []
  },
  {
   "cell_type": "code",
   "execution_count": null,
   "id": "db2ec2c9",
   "metadata": {},
   "outputs": [],
   "source": []
  },
  {
   "cell_type": "code",
   "execution_count": null,
   "id": "0e637798",
   "metadata": {},
   "outputs": [],
   "source": []
  },
  {
   "cell_type": "markdown",
   "id": "3b88db23",
   "metadata": {},
   "source": [
    "#### 1- Completeness :\n",
    "- Remove USD from unit price columns\n",
    "- Remove (pm)and (-) from Time columns\n",
    "- Replace the empty values in the \"Total\" column by multiplying \"Quantity\" by \"Unit Price\" and adding \"5% Tax\"\n",
    "- Replace empty values in the \"5% Tax\" column\n",
    "- Replace (-) with the most common value."
   ]
  },
  {
   "cell_type": "markdown",
   "id": "101a7ede",
   "metadata": {},
   "source": [
    "#### 2- Validity :\n",
    "- Change column names  => 'Invoice_ID' , 'Customer_type' , 'Product_line' , 'Unit_price' , 'Tax_5%' \n",
    "- Replace column type Unit price from object to int\n",
    "- Replace column Date from int to date\n"
   ]
  },
  {
   "cell_type": "markdown",
   "id": "7c2ff2e7",
   "metadata": {},
   "source": [
    "#### 3- accuracy :\n",
    "- nothing outlet in data"
   ]
  },
  {
   "cell_type": "markdown",
   "id": "e7f5784a",
   "metadata": {},
   "source": [
    "#### 4- Consistency :\n",
    "- remove duplicates"
   ]
  },
  {
   "cell_type": "markdown",
   "id": "750aecdd",
   "metadata": {},
   "source": [
    "<a id='Cleaning'></a>\n",
    "## 3- Data Cleaning"
   ]
  },
  {
   "cell_type": "code",
   "execution_count": 14,
   "id": "6dd2c4b2",
   "metadata": {},
   "outputs": [
    {
     "data": {
      "text/html": [
       "<div>\n",
       "<style scoped>\n",
       "    .dataframe tbody tr th:only-of-type {\n",
       "        vertical-align: middle;\n",
       "    }\n",
       "\n",
       "    .dataframe tbody tr th {\n",
       "        vertical-align: top;\n",
       "    }\n",
       "\n",
       "    .dataframe thead th {\n",
       "        text-align: right;\n",
       "    }\n",
       "</style>\n",
       "<table border=\"1\" class=\"dataframe\">\n",
       "  <thead>\n",
       "    <tr style=\"text-align: right;\">\n",
       "      <th></th>\n",
       "      <th>Invoice ID</th>\n",
       "      <th>Branch</th>\n",
       "      <th>Yangon</th>\n",
       "      <th>Naypyitaw</th>\n",
       "      <th>Mandalay</th>\n",
       "      <th>Customer type</th>\n",
       "      <th>Gender</th>\n",
       "      <th>Product line</th>\n",
       "      <th>Unit price</th>\n",
       "      <th>Quantity</th>\n",
       "      <th>Tax 5%</th>\n",
       "      <th>Total</th>\n",
       "      <th>Date</th>\n",
       "      <th>Time</th>\n",
       "      <th>Payment</th>\n",
       "      <th>Rating</th>\n",
       "    </tr>\n",
       "  </thead>\n",
       "  <tbody>\n",
       "    <tr>\n",
       "      <th>0</th>\n",
       "      <td>750-67-8428</td>\n",
       "      <td>A</td>\n",
       "      <td>1</td>\n",
       "      <td>0</td>\n",
       "      <td>0</td>\n",
       "      <td>Normal</td>\n",
       "      <td>Male</td>\n",
       "      <td>Health and beauty</td>\n",
       "      <td>74.69</td>\n",
       "      <td>7</td>\n",
       "      <td>26.1415</td>\n",
       "      <td>NaN</td>\n",
       "      <td>1/5/2019</td>\n",
       "      <td>13:08</td>\n",
       "      <td>Ewallet</td>\n",
       "      <td>9.1</td>\n",
       "    </tr>\n",
       "    <tr>\n",
       "      <th>1</th>\n",
       "      <td>226-31-3081</td>\n",
       "      <td>C</td>\n",
       "      <td>0</td>\n",
       "      <td>1</td>\n",
       "      <td>0</td>\n",
       "      <td>Normal</td>\n",
       "      <td>Male</td>\n",
       "      <td>Electronic accessories</td>\n",
       "      <td>15.28</td>\n",
       "      <td>5</td>\n",
       "      <td>3.8200</td>\n",
       "      <td>80.2200</td>\n",
       "      <td>3/8/2019</td>\n",
       "      <td>10:29</td>\n",
       "      <td>Cash</td>\n",
       "      <td>9.6</td>\n",
       "    </tr>\n",
       "    <tr>\n",
       "      <th>2</th>\n",
       "      <td>631-41-3108</td>\n",
       "      <td>A</td>\n",
       "      <td>1</td>\n",
       "      <td>0</td>\n",
       "      <td>0</td>\n",
       "      <td>Normal</td>\n",
       "      <td>Male</td>\n",
       "      <td>Home and lifestyle</td>\n",
       "      <td>46.33</td>\n",
       "      <td>7</td>\n",
       "      <td>16.2155</td>\n",
       "      <td>340.5255</td>\n",
       "      <td>3/3/2019</td>\n",
       "      <td>13:23</td>\n",
       "      <td>Credit card</td>\n",
       "      <td>7.4</td>\n",
       "    </tr>\n",
       "    <tr>\n",
       "      <th>3</th>\n",
       "      <td>123-19-1176</td>\n",
       "      <td>A</td>\n",
       "      <td>1</td>\n",
       "      <td>0</td>\n",
       "      <td>0</td>\n",
       "      <td>Normal</td>\n",
       "      <td>Male</td>\n",
       "      <td>Health and beauty</td>\n",
       "      <td>58.22</td>\n",
       "      <td>8</td>\n",
       "      <td>NaN</td>\n",
       "      <td>489.0480</td>\n",
       "      <td>1/27/2019</td>\n",
       "      <td>8 - 30 PM</td>\n",
       "      <td>Ewallet</td>\n",
       "      <td>8.4</td>\n",
       "    </tr>\n",
       "    <tr>\n",
       "      <th>4</th>\n",
       "      <td>373-73-7910</td>\n",
       "      <td>A</td>\n",
       "      <td>1</td>\n",
       "      <td>0</td>\n",
       "      <td>0</td>\n",
       "      <td>Normal</td>\n",
       "      <td>Male</td>\n",
       "      <td>Sports and travel</td>\n",
       "      <td>86.31</td>\n",
       "      <td>7</td>\n",
       "      <td>30.2085</td>\n",
       "      <td>634.3785</td>\n",
       "      <td>2/8/2019</td>\n",
       "      <td>10:37</td>\n",
       "      <td>Ewallet</td>\n",
       "      <td>5.3</td>\n",
       "    </tr>\n",
       "  </tbody>\n",
       "</table>\n",
       "</div>"
      ],
      "text/plain": [
       "    Invoice ID Branch  Yangon  Naypyitaw  Mandalay Customer type Gender  \\\n",
       "0  750-67-8428      A       1          0         0        Normal   Male   \n",
       "1  226-31-3081      C       0          1         0        Normal   Male   \n",
       "2  631-41-3108      A       1          0         0        Normal   Male   \n",
       "3  123-19-1176      A       1          0         0        Normal   Male   \n",
       "4  373-73-7910      A       1          0         0        Normal   Male   \n",
       "\n",
       "             Product line Unit price  Quantity   Tax 5%     Total       Date  \\\n",
       "0       Health and beauty      74.69         7  26.1415       NaN   1/5/2019   \n",
       "1  Electronic accessories      15.28         5   3.8200   80.2200   3/8/2019   \n",
       "2      Home and lifestyle      46.33         7  16.2155  340.5255   3/3/2019   \n",
       "3       Health and beauty      58.22         8      NaN  489.0480  1/27/2019   \n",
       "4       Sports and travel      86.31         7  30.2085  634.3785   2/8/2019   \n",
       "\n",
       "        Time      Payment  Rating  \n",
       "0      13:08      Ewallet     9.1  \n",
       "1      10:29         Cash     9.6  \n",
       "2      13:23  Credit card     7.4  \n",
       "3  8 - 30 PM      Ewallet     8.4  \n",
       "4      10:37      Ewallet     5.3  "
      ]
     },
     "execution_count": 14,
     "metadata": {},
     "output_type": "execute_result"
    }
   ],
   "source": [
    "#copy from the dataframe\n",
    "df_clean = df.copy()\n",
    "df_clean.head()"
   ]
  },
  {
   "cell_type": "markdown",
   "id": "2d1d1e56",
   "metadata": {},
   "source": [
    "### 3-1 Fixing Tidiness issues"
   ]
  },
  {
   "cell_type": "markdown",
   "id": "82d3a468",
   "metadata": {},
   "source": [
    "#### A- Define :\n",
    "- 'Yangon', 'Naypyitaw', 'Mandalay' convertir les colonnes"
   ]
  },
  {
   "cell_type": "markdown",
   "id": "65a7136e",
   "metadata": {},
   "source": [
    "#### B- Code :"
   ]
  },
  {
   "cell_type": "code",
   "execution_count": 15,
   "id": "feeb3b1d",
   "metadata": {},
   "outputs": [],
   "source": [
    "# Reshape DataFrame from wide to long format for sales by city  \n",
    "df_clean = pd.melt(df_clean , \n",
    "                    id_vars=['Invoice ID', 'Branch', 'Customer type', 'Gender', 'Product line', 'Unit price', 'Quantity', 'Tax 5%', 'Total', 'Date', 'Time', 'Payment', 'Rating'], \n",
    "                    value_vars=['Yangon', 'Naypyitaw', 'Mandalay'], \n",
    "                    var_name='City',\n",
    "                    value_name='Sales')  \n",
    "#  Filter the \"df\" to keep only the rows where the \"Sales\" column is = 1\n",
    "df_clean = df_clean [df_clean ['Sales'] == 1]"
   ]
  },
  {
   "cell_type": "markdown",
   "id": "e5ef5167",
   "metadata": {},
   "source": [
    "#### C-Test :"
   ]
  },
  {
   "cell_type": "code",
   "execution_count": 16,
   "id": "42bc9a7a",
   "metadata": {},
   "outputs": [
    {
     "data": {
      "text/html": [
       "<div>\n",
       "<style scoped>\n",
       "    .dataframe tbody tr th:only-of-type {\n",
       "        vertical-align: middle;\n",
       "    }\n",
       "\n",
       "    .dataframe tbody tr th {\n",
       "        vertical-align: top;\n",
       "    }\n",
       "\n",
       "    .dataframe thead th {\n",
       "        text-align: right;\n",
       "    }\n",
       "</style>\n",
       "<table border=\"1\" class=\"dataframe\">\n",
       "  <thead>\n",
       "    <tr style=\"text-align: right;\">\n",
       "      <th></th>\n",
       "      <th>Invoice ID</th>\n",
       "      <th>Branch</th>\n",
       "      <th>Customer type</th>\n",
       "      <th>Gender</th>\n",
       "      <th>Product line</th>\n",
       "      <th>Unit price</th>\n",
       "      <th>Quantity</th>\n",
       "      <th>Tax 5%</th>\n",
       "      <th>Total</th>\n",
       "      <th>Date</th>\n",
       "      <th>Time</th>\n",
       "      <th>Payment</th>\n",
       "      <th>Rating</th>\n",
       "      <th>City</th>\n",
       "      <th>Sales</th>\n",
       "    </tr>\n",
       "  </thead>\n",
       "  <tbody>\n",
       "    <tr>\n",
       "      <th>2044</th>\n",
       "      <td>640-49-2076</td>\n",
       "      <td>B</td>\n",
       "      <td>Normal</td>\n",
       "      <td>Male</td>\n",
       "      <td>Sports and travel</td>\n",
       "      <td>83.78</td>\n",
       "      <td>8</td>\n",
       "      <td>33.512</td>\n",
       "      <td>703.752</td>\n",
       "      <td>1/10/2019</td>\n",
       "      <td>14:49</td>\n",
       "      <td>Cash</td>\n",
       "      <td>5.1</td>\n",
       "      <td>Mandalay</td>\n",
       "      <td>1</td>\n",
       "    </tr>\n",
       "    <tr>\n",
       "      <th>1368</th>\n",
       "      <td>471-41-2823</td>\n",
       "      <td>C</td>\n",
       "      <td>Normal</td>\n",
       "      <td>Male</td>\n",
       "      <td>Food and beverages</td>\n",
       "      <td>99.79</td>\n",
       "      <td>2</td>\n",
       "      <td>9.979</td>\n",
       "      <td>209.559</td>\n",
       "      <td>3/7/2019</td>\n",
       "      <td>20:37</td>\n",
       "      <td>Ewallet</td>\n",
       "      <td>8.0</td>\n",
       "      <td>Naypyitaw</td>\n",
       "      <td>1</td>\n",
       "    </tr>\n",
       "    <tr>\n",
       "      <th>732</th>\n",
       "      <td>756-49-0168</td>\n",
       "      <td>A</td>\n",
       "      <td>Member</td>\n",
       "      <td>Male</td>\n",
       "      <td>Fashion accessories</td>\n",
       "      <td>19.7</td>\n",
       "      <td>1</td>\n",
       "      <td>0.985</td>\n",
       "      <td>20.685</td>\n",
       "      <td>2/8/2019</td>\n",
       "      <td>11:39</td>\n",
       "      <td>Ewallet</td>\n",
       "      <td>9.5</td>\n",
       "      <td>Yangon</td>\n",
       "      <td>1</td>\n",
       "    </tr>\n",
       "    <tr>\n",
       "      <th>1563</th>\n",
       "      <td>283-26-5248</td>\n",
       "      <td>C</td>\n",
       "      <td>Member</td>\n",
       "      <td>Female</td>\n",
       "      <td>Food and beverages</td>\n",
       "      <td>98.52</td>\n",
       "      <td>10</td>\n",
       "      <td>49.260</td>\n",
       "      <td>1034.460</td>\n",
       "      <td>1/30/2019</td>\n",
       "      <td>20:23</td>\n",
       "      <td>Ewallet</td>\n",
       "      <td>4.5</td>\n",
       "      <td>Naypyitaw</td>\n",
       "      <td>1</td>\n",
       "    </tr>\n",
       "    <tr>\n",
       "      <th>1853</th>\n",
       "      <td>862-29-5914</td>\n",
       "      <td>C</td>\n",
       "      <td>Normal</td>\n",
       "      <td>Female</td>\n",
       "      <td>Sports and travel</td>\n",
       "      <td>22.38</td>\n",
       "      <td>1</td>\n",
       "      <td>1.119</td>\n",
       "      <td>23.499</td>\n",
       "      <td>1/30/2019</td>\n",
       "      <td>17:08</td>\n",
       "      <td>Credit card</td>\n",
       "      <td>8.6</td>\n",
       "      <td>Naypyitaw</td>\n",
       "      <td>1</td>\n",
       "    </tr>\n",
       "  </tbody>\n",
       "</table>\n",
       "</div>"
      ],
      "text/plain": [
       "       Invoice ID Branch Customer type  Gender         Product line  \\\n",
       "2044  640-49-2076      B        Normal    Male    Sports and travel   \n",
       "1368  471-41-2823      C        Normal    Male   Food and beverages   \n",
       "732   756-49-0168      A        Member    Male  Fashion accessories   \n",
       "1563  283-26-5248      C        Member  Female   Food and beverages   \n",
       "1853  862-29-5914      C        Normal  Female    Sports and travel   \n",
       "\n",
       "     Unit price  Quantity  Tax 5%     Total       Date   Time      Payment  \\\n",
       "2044      83.78         8  33.512   703.752  1/10/2019  14:49         Cash   \n",
       "1368      99.79         2   9.979   209.559   3/7/2019  20:37      Ewallet   \n",
       "732        19.7         1   0.985    20.685   2/8/2019  11:39      Ewallet   \n",
       "1563      98.52        10  49.260  1034.460  1/30/2019  20:23      Ewallet   \n",
       "1853      22.38         1   1.119    23.499  1/30/2019  17:08  Credit card   \n",
       "\n",
       "      Rating       City  Sales  \n",
       "2044     5.1   Mandalay      1  \n",
       "1368     8.0  Naypyitaw      1  \n",
       "732      9.5     Yangon      1  \n",
       "1563     4.5  Naypyitaw      1  \n",
       "1853     8.6  Naypyitaw      1  "
      ]
     },
     "execution_count": 16,
     "metadata": {},
     "output_type": "execute_result"
    }
   ],
   "source": [
    "df_clean.sample(5)"
   ]
  },
  {
   "cell_type": "code",
   "execution_count": 17,
   "id": "bbd6572d",
   "metadata": {},
   "outputs": [
    {
     "data": {
      "text/plain": [
       "Yangon       341\n",
       "Mandalay     334\n",
       "Naypyitaw    331\n",
       "Name: City, dtype: int64"
      ]
     },
     "execution_count": 17,
     "metadata": {},
     "output_type": "execute_result"
    }
   ],
   "source": [
    "df_clean['City'].value_counts()"
   ]
  },
  {
   "cell_type": "code",
   "execution_count": null,
   "id": "57eee579",
   "metadata": {},
   "outputs": [],
   "source": []
  },
  {
   "cell_type": "markdown",
   "id": "3aa3bc7d",
   "metadata": {},
   "source": [
    "### 3-2 Fixing Quality Issues"
   ]
  },
  {
   "cell_type": "markdown",
   "id": "c574b50e",
   "metadata": {},
   "source": [
    "#### A- Define :\n",
    "- Remove duplicates"
   ]
  },
  {
   "cell_type": "markdown",
   "id": "7999a7f5",
   "metadata": {},
   "source": [
    "#### B- Code :"
   ]
  },
  {
   "cell_type": "code",
   "execution_count": 18,
   "id": "80a627a0",
   "metadata": {},
   "outputs": [],
   "source": [
    "df_clean = df_clean.drop_duplicates()"
   ]
  },
  {
   "cell_type": "markdown",
   "id": "486055fe",
   "metadata": {},
   "source": [
    "#### C-Test  :"
   ]
  },
  {
   "cell_type": "code",
   "execution_count": 20,
   "id": "63f81f49",
   "metadata": {},
   "outputs": [
    {
     "data": {
      "text/plain": [
       "0"
      ]
     },
     "execution_count": 20,
     "metadata": {},
     "output_type": "execute_result"
    }
   ],
   "source": [
    "df_clean.duplicated().sum()"
   ]
  },
  {
   "cell_type": "code",
   "execution_count": 21,
   "id": "345fd67c",
   "metadata": {},
   "outputs": [],
   "source": [
    "# Remove columns sales\n",
    "df_clean= df_clean.drop(columns=['Sales'])"
   ]
  },
  {
   "cell_type": "markdown",
   "id": "0c438fba",
   "metadata": {},
   "source": [
    "#### A- Define :\n",
    "- Change column names"
   ]
  },
  {
   "cell_type": "markdown",
   "id": "0106b389",
   "metadata": {},
   "source": [
    "#### B- Code :"
   ]
  },
  {
   "cell_type": "code",
   "execution_count": 22,
   "id": "11255f72",
   "metadata": {},
   "outputs": [],
   "source": [
    "df_clean = df_clean.rename(columns={'Invoice ID': 'Invoice_ID', 'Customer type': 'Customer_type', 'Product line': 'Product_line', 'Unit price': 'Unit_price', 'Tax 5%': 'Tax_5%'})"
   ]
  },
  {
   "cell_type": "markdown",
   "id": "11ddc6ab",
   "metadata": {},
   "source": [
    "#### C-Test :"
   ]
  },
  {
   "cell_type": "code",
   "execution_count": 23,
   "id": "ebb4849e",
   "metadata": {},
   "outputs": [
    {
     "data": {
      "text/html": [
       "<div>\n",
       "<style scoped>\n",
       "    .dataframe tbody tr th:only-of-type {\n",
       "        vertical-align: middle;\n",
       "    }\n",
       "\n",
       "    .dataframe tbody tr th {\n",
       "        vertical-align: top;\n",
       "    }\n",
       "\n",
       "    .dataframe thead th {\n",
       "        text-align: right;\n",
       "    }\n",
       "</style>\n",
       "<table border=\"1\" class=\"dataframe\">\n",
       "  <thead>\n",
       "    <tr style=\"text-align: right;\">\n",
       "      <th></th>\n",
       "      <th>Invoice_ID</th>\n",
       "      <th>Branch</th>\n",
       "      <th>Customer_type</th>\n",
       "      <th>Gender</th>\n",
       "      <th>Product_line</th>\n",
       "      <th>Unit_price</th>\n",
       "      <th>Quantity</th>\n",
       "      <th>Tax_5%</th>\n",
       "      <th>Total</th>\n",
       "      <th>Date</th>\n",
       "      <th>Time</th>\n",
       "      <th>Payment</th>\n",
       "      <th>Rating</th>\n",
       "      <th>City</th>\n",
       "    </tr>\n",
       "  </thead>\n",
       "  <tbody>\n",
       "    <tr>\n",
       "      <th>0</th>\n",
       "      <td>750-67-8428</td>\n",
       "      <td>A</td>\n",
       "      <td>Normal</td>\n",
       "      <td>Male</td>\n",
       "      <td>Health and beauty</td>\n",
       "      <td>74.69</td>\n",
       "      <td>7</td>\n",
       "      <td>26.1415</td>\n",
       "      <td>NaN</td>\n",
       "      <td>1/5/2019</td>\n",
       "      <td>13:08</td>\n",
       "      <td>Ewallet</td>\n",
       "      <td>9.1</td>\n",
       "      <td>Yangon</td>\n",
       "    </tr>\n",
       "    <tr>\n",
       "      <th>2</th>\n",
       "      <td>631-41-3108</td>\n",
       "      <td>A</td>\n",
       "      <td>Normal</td>\n",
       "      <td>Male</td>\n",
       "      <td>Home and lifestyle</td>\n",
       "      <td>46.33</td>\n",
       "      <td>7</td>\n",
       "      <td>16.2155</td>\n",
       "      <td>340.5255</td>\n",
       "      <td>3/3/2019</td>\n",
       "      <td>13:23</td>\n",
       "      <td>Credit card</td>\n",
       "      <td>7.4</td>\n",
       "      <td>Yangon</td>\n",
       "    </tr>\n",
       "    <tr>\n",
       "      <th>3</th>\n",
       "      <td>123-19-1176</td>\n",
       "      <td>A</td>\n",
       "      <td>Normal</td>\n",
       "      <td>Male</td>\n",
       "      <td>Health and beauty</td>\n",
       "      <td>58.22</td>\n",
       "      <td>8</td>\n",
       "      <td>NaN</td>\n",
       "      <td>489.0480</td>\n",
       "      <td>1/27/2019</td>\n",
       "      <td>8 - 30 PM</td>\n",
       "      <td>Ewallet</td>\n",
       "      <td>8.4</td>\n",
       "      <td>Yangon</td>\n",
       "    </tr>\n",
       "    <tr>\n",
       "      <th>4</th>\n",
       "      <td>373-73-7910</td>\n",
       "      <td>A</td>\n",
       "      <td>Normal</td>\n",
       "      <td>Male</td>\n",
       "      <td>Sports and travel</td>\n",
       "      <td>86.31</td>\n",
       "      <td>7</td>\n",
       "      <td>30.2085</td>\n",
       "      <td>634.3785</td>\n",
       "      <td>2/8/2019</td>\n",
       "      <td>10:37</td>\n",
       "      <td>Ewallet</td>\n",
       "      <td>5.3</td>\n",
       "      <td>Yangon</td>\n",
       "    </tr>\n",
       "    <tr>\n",
       "      <th>6</th>\n",
       "      <td>355-53-5943</td>\n",
       "      <td>A</td>\n",
       "      <td>Normal</td>\n",
       "      <td>Male</td>\n",
       "      <td>Electronic accessories</td>\n",
       "      <td>68.84</td>\n",
       "      <td>6</td>\n",
       "      <td>20.6520</td>\n",
       "      <td>433.6920</td>\n",
       "      <td>2/25/2019</td>\n",
       "      <td>14:36</td>\n",
       "      <td>Ewallet</td>\n",
       "      <td>5.8</td>\n",
       "      <td>Yangon</td>\n",
       "    </tr>\n",
       "  </tbody>\n",
       "</table>\n",
       "</div>"
      ],
      "text/plain": [
       "    Invoice_ID Branch Customer_type Gender            Product_line Unit_price  \\\n",
       "0  750-67-8428      A        Normal   Male       Health and beauty      74.69   \n",
       "2  631-41-3108      A        Normal   Male      Home and lifestyle      46.33   \n",
       "3  123-19-1176      A        Normal   Male       Health and beauty      58.22   \n",
       "4  373-73-7910      A        Normal   Male       Sports and travel      86.31   \n",
       "6  355-53-5943      A        Normal   Male  Electronic accessories      68.84   \n",
       "\n",
       "   Quantity   Tax_5%     Total       Date       Time      Payment  Rating  \\\n",
       "0         7  26.1415       NaN   1/5/2019      13:08      Ewallet     9.1   \n",
       "2         7  16.2155  340.5255   3/3/2019      13:23  Credit card     7.4   \n",
       "3         8      NaN  489.0480  1/27/2019  8 - 30 PM      Ewallet     8.4   \n",
       "4         7  30.2085  634.3785   2/8/2019      10:37      Ewallet     5.3   \n",
       "6         6  20.6520  433.6920  2/25/2019      14:36      Ewallet     5.8   \n",
       "\n",
       "     City  \n",
       "0  Yangon  \n",
       "2  Yangon  \n",
       "3  Yangon  \n",
       "4  Yangon  \n",
       "6  Yangon  "
      ]
     },
     "execution_count": 23,
     "metadata": {},
     "output_type": "execute_result"
    }
   ],
   "source": [
    "df_clean.head(5)"
   ]
  },
  {
   "cell_type": "code",
   "execution_count": null,
   "id": "e28e3f4f",
   "metadata": {},
   "outputs": [],
   "source": []
  },
  {
   "cell_type": "markdown",
   "id": "1a395c1c",
   "metadata": {},
   "source": [
    "#### A- Define :\n",
    "- Remove USD 'from unit' price columns"
   ]
  },
  {
   "cell_type": "markdown",
   "id": "5e17a846",
   "metadata": {},
   "source": [
    "#### B- Code :"
   ]
  },
  {
   "cell_type": "code",
   "execution_count": 24,
   "id": "e1ecb9e5",
   "metadata": {},
   "outputs": [
    {
     "data": {
      "text/plain": [
       "5"
      ]
     },
     "execution_count": 24,
     "metadata": {},
     "output_type": "execute_result"
    }
   ],
   "source": [
    "contains_usd = df_clean['Unit_price'].str.contains('USD', regex=False).sum()\n",
    "contains_usd "
   ]
  },
  {
   "cell_type": "code",
   "execution_count": 25,
   "id": "ca500abc",
   "metadata": {},
   "outputs": [],
   "source": [
    "# df['Unit_price'].contains('USD').sum()"
   ]
  },
  {
   "cell_type": "code",
   "execution_count": 26,
   "id": "be61ef99",
   "metadata": {},
   "outputs": [],
   "source": [
    "df_clean['Unit_price'] = df_clean['Unit_price'].astype(str).str.replace('USD', '', regex=False).str.strip()"
   ]
  },
  {
   "cell_type": "markdown",
   "id": "2eb1c142",
   "metadata": {},
   "source": [
    "#### C-Test :"
   ]
  },
  {
   "cell_type": "code",
   "execution_count": 28,
   "id": "f5c6390e",
   "metadata": {},
   "outputs": [
    {
     "data": {
      "text/plain": [
       "83.77    3\n",
       "99.82    2\n",
       "39.62    2\n",
       "95.54    2\n",
       "42.57    2\n",
       "        ..\n",
       "15.37    1\n",
       "82.63    1\n",
       "91.4     1\n",
       "15.43    1\n",
       "97.38    1\n",
       "Name: Unit_price, Length: 943, dtype: int64"
      ]
     },
     "execution_count": 28,
     "metadata": {},
     "output_type": "execute_result"
    }
   ],
   "source": [
    "df_clean['Unit_price'].value_counts()"
   ]
  },
  {
   "cell_type": "markdown",
   "id": "234d1f71",
   "metadata": {},
   "source": [
    "#### A- Define :\n",
    "- Replace column type Unit price from object to int"
   ]
  },
  {
   "cell_type": "markdown",
   "id": "184d5cd5",
   "metadata": {},
   "source": [
    "#### B- Code :"
   ]
  },
  {
   "cell_type": "code",
   "execution_count": 30,
   "id": "2d941a79",
   "metadata": {},
   "outputs": [],
   "source": [
    "df_clean['Unit_price'] = pd.to_numeric(df_clean['Unit_price'])"
   ]
  },
  {
   "cell_type": "markdown",
   "id": "fbf35b0f",
   "metadata": {},
   "source": [
    "#### C-Test :"
   ]
  },
  {
   "cell_type": "code",
   "execution_count": 31,
   "id": "81441231",
   "metadata": {},
   "outputs": [
    {
     "name": "stdout",
     "output_type": "stream",
     "text": [
      "<class 'pandas.core.series.Series'>\n",
      "Int64Index: 1000 entries, 0 to 3008\n",
      "Series name: Unit_price\n",
      "Non-Null Count  Dtype  \n",
      "--------------  -----  \n",
      "1000 non-null   float64\n",
      "dtypes: float64(1)\n",
      "memory usage: 15.6 KB\n"
     ]
    }
   ],
   "source": [
    "df_clean['Unit_price'].info()"
   ]
  },
  {
   "cell_type": "markdown",
   "id": "eced87b1",
   "metadata": {},
   "source": [
    "#### A- Define :\n",
    "- Replace column Date from int to datetime"
   ]
  },
  {
   "cell_type": "markdown",
   "id": "6258c9ff",
   "metadata": {},
   "source": [
    "#### B- Code :"
   ]
  },
  {
   "cell_type": "code",
   "execution_count": 32,
   "id": "6f329b38",
   "metadata": {},
   "outputs": [],
   "source": [
    "df_clean['Date'] = pd.to_datetime(df_clean['Date'])"
   ]
  },
  {
   "cell_type": "markdown",
   "id": "cf57b8f8",
   "metadata": {},
   "source": [
    "#### C-Test :"
   ]
  },
  {
   "cell_type": "code",
   "execution_count": 33,
   "id": "71c13f5d",
   "metadata": {},
   "outputs": [
    {
     "name": "stdout",
     "output_type": "stream",
     "text": [
      "<class 'pandas.core.series.Series'>\n",
      "Int64Index: 1000 entries, 0 to 3008\n",
      "Series name: Date\n",
      "Non-Null Count  Dtype         \n",
      "--------------  -----         \n",
      "1000 non-null   datetime64[ns]\n",
      "dtypes: datetime64[ns](1)\n",
      "memory usage: 15.6 KB\n"
     ]
    }
   ],
   "source": [
    "df_clean['Date'].info()"
   ]
  },
  {
   "cell_type": "markdown",
   "id": "ff2b739d",
   "metadata": {},
   "source": [
    "#### A- Define :\n",
    "- Remove (pm)and (-) from Time columns"
   ]
  },
  {
   "cell_type": "markdown",
   "id": "74056058",
   "metadata": {},
   "source": [
    "#### B- Code :"
   ]
  },
  {
   "cell_type": "code",
   "execution_count": 34,
   "id": "782e9bc0",
   "metadata": {},
   "outputs": [],
   "source": [
    "df_clean['Time'] = df_clean['Time'].replace({' - ': ':'}, regex=True) "
   ]
  },
  {
   "cell_type": "code",
   "execution_count": 35,
   "id": "3a12efda",
   "metadata": {},
   "outputs": [],
   "source": [
    "df_clean['Time'] = df_clean['Time'].str.replace('PM', '', regex=False).str.replace('AM', '', regex=False).str.strip()"
   ]
  },
  {
   "cell_type": "markdown",
   "id": "8b473d77",
   "metadata": {},
   "source": [
    "#### C-Test :"
   ]
  },
  {
   "cell_type": "code",
   "execution_count": 36,
   "id": "473945bf",
   "metadata": {},
   "outputs": [
    {
     "data": {
      "text/plain": [
       "19:48    7\n",
       "14:42    7\n",
       "17:38    6\n",
       "10:11    5\n",
       "17:16    5\n",
       "        ..\n",
       "16:51    1\n",
       "20:15    1\n",
       "14:11    1\n",
       "16:05    1\n",
       "15:17    1\n",
       "Name: Time, Length: 506, dtype: int64"
      ]
     },
     "execution_count": 36,
     "metadata": {},
     "output_type": "execute_result"
    }
   ],
   "source": [
    "df_clean['Time'].value_counts()"
   ]
  },
  {
   "cell_type": "markdown",
   "id": "6df8531c",
   "metadata": {},
   "source": [
    "#### A- Define :\n",
    "- Replace the empty values in the \"Total\" column by multiplying \"Quantity\" by \"Unit Price\" and adding \"5% Tax\""
   ]
  },
  {
   "cell_type": "markdown",
   "id": "17961ac6",
   "metadata": {},
   "source": [
    "#### B- Code :"
   ]
  },
  {
   "cell_type": "code",
   "execution_count": 37,
   "id": "45dabd05",
   "metadata": {},
   "outputs": [],
   "source": [
    "df_clean['Total'] = df_clean['Total'].fillna(df_clean['Quantity'] * df_clean['Unit_price'] + df_clean['Tax_5%'])"
   ]
  },
  {
   "cell_type": "markdown",
   "id": "dda3e1ee",
   "metadata": {},
   "source": [
    "#### C-Test :"
   ]
  },
  {
   "cell_type": "code",
   "execution_count": 39,
   "id": "1f3932c4",
   "metadata": {},
   "outputs": [
    {
     "data": {
      "text/plain": [
       "0"
      ]
     },
     "execution_count": 39,
     "metadata": {},
     "output_type": "execute_result"
    }
   ],
   "source": [
    "df_clean['Total'].isnull().sum()"
   ]
  },
  {
   "cell_type": "markdown",
   "id": "042b2aba",
   "metadata": {},
   "source": [
    "#### A- Define :\n",
    "- Replace empty values in the \"5% Tax\" column"
   ]
  },
  {
   "cell_type": "markdown",
   "id": "f386fe0d",
   "metadata": {},
   "source": [
    "#### B- Code :"
   ]
  },
  {
   "cell_type": "code",
   "execution_count": 40,
   "id": "b6500aa0",
   "metadata": {},
   "outputs": [],
   "source": [
    "df_clean['Tax_5%'] = df_clean['Tax_5%'].fillna(df_clean['Unit_price'] * df_clean['Quantity'] * 0.05)"
   ]
  },
  {
   "cell_type": "markdown",
   "id": "78c4db15",
   "metadata": {},
   "source": [
    "#### C-Test :"
   ]
  },
  {
   "cell_type": "code",
   "execution_count": 41,
   "id": "91e2b5d8",
   "metadata": {},
   "outputs": [
    {
     "data": {
      "text/plain": [
       "0"
      ]
     },
     "execution_count": 41,
     "metadata": {},
     "output_type": "execute_result"
    }
   ],
   "source": [
    "df_clean['Tax_5%'].isnull().sum()"
   ]
  },
  {
   "cell_type": "markdown",
   "id": "5c487a19",
   "metadata": {},
   "source": [
    "#### A- Define :\n",
    "- Replace (-) with the most common value."
   ]
  },
  {
   "cell_type": "markdown",
   "id": "5742648c",
   "metadata": {},
   "source": [
    "#### B- Code :"
   ]
  },
  {
   "cell_type": "code",
   "execution_count": 42,
   "id": "4e5db5f0",
   "metadata": {},
   "outputs": [
    {
     "data": {
      "text/plain": [
       "'Normal'"
      ]
     },
     "execution_count": 42,
     "metadata": {},
     "output_type": "execute_result"
    }
   ],
   "source": [
    "most = df_clean['Customer_type'].mode()[0]\n",
    "most"
   ]
  },
  {
   "cell_type": "code",
   "execution_count": 43,
   "id": "e2f73027",
   "metadata": {},
   "outputs": [],
   "source": [
    "df_clean['Customer_type'] = df_clean['Customer_type'].replace('-', np.nan)"
   ]
  },
  {
   "cell_type": "code",
   "execution_count": 44,
   "id": "70cb1ad5",
   "metadata": {},
   "outputs": [],
   "source": [
    "df_clean['Customer_type'] = df_clean['Customer_type'].fillna(most)"
   ]
  },
  {
   "cell_type": "code",
   "execution_count": 45,
   "id": "a0fec769",
   "metadata": {},
   "outputs": [],
   "source": [
    "df_clean['Customer_type'] = df_clean['Customer_type'].replace('Memberr', 'Member')"
   ]
  },
  {
   "cell_type": "markdown",
   "id": "5fca0030",
   "metadata": {},
   "source": [
    "#### C-Test :"
   ]
  },
  {
   "cell_type": "code",
   "execution_count": 46,
   "id": "7ce7cfbc",
   "metadata": {},
   "outputs": [
    {
     "data": {
      "text/plain": [
       "Normal    540\n",
       "Member    460\n",
       "Name: Customer_type, dtype: int64"
      ]
     },
     "execution_count": 46,
     "metadata": {},
     "output_type": "execute_result"
    }
   ],
   "source": [
    "df_clean['Customer_type'].value_counts()"
   ]
  },
  {
   "cell_type": "markdown",
   "id": "ca22c204",
   "metadata": {},
   "source": [
    "#### A- Define :"
   ]
  },
  {
   "cell_type": "markdown",
   "id": "88f78420",
   "metadata": {},
   "source": [
    "#### B- Code :"
   ]
  },
  {
   "cell_type": "code",
   "execution_count": 47,
   "id": "445e608e",
   "metadata": {},
   "outputs": [],
   "source": [
    "df_clean['Quantity'] = df_clean['Quantity'].abs()"
   ]
  },
  {
   "cell_type": "markdown",
   "id": "3eafa1fc",
   "metadata": {},
   "source": [
    "#### C-Test :"
   ]
  },
  {
   "cell_type": "code",
   "execution_count": 48,
   "id": "24072412",
   "metadata": {},
   "outputs": [
    {
     "data": {
      "text/plain": [
       "10    119\n",
       "1     112\n",
       "4     109\n",
       "7     102\n",
       "5     102\n",
       "6      98\n",
       "9      92\n",
       "2      91\n",
       "3      90\n",
       "8      85\n",
       "Name: Quantity, dtype: int64"
      ]
     },
     "execution_count": 48,
     "metadata": {},
     "output_type": "execute_result"
    }
   ],
   "source": [
    "df_clean['Quantity'].value_counts()"
   ]
  },
  {
   "cell_type": "code",
   "execution_count": 49,
   "id": "3fe7d646",
   "metadata": {},
   "outputs": [],
   "source": [
    "# # Profit margin (25%)\n",
    "profit_margin = 0.25 \n",
    "\n",
    "# # Calculate Profit margin # حساب تكلفة البضائع المباعة\n",
    "df_clean['COGS'] = df_clean['Total'] / (1 + profit_margin)"
   ]
  },
  {
   "cell_type": "code",
   "execution_count": 50,
   "id": "36ce4fad",
   "metadata": {},
   "outputs": [
    {
     "data": {
      "text/html": [
       "<div>\n",
       "<style scoped>\n",
       "    .dataframe tbody tr th:only-of-type {\n",
       "        vertical-align: middle;\n",
       "    }\n",
       "\n",
       "    .dataframe tbody tr th {\n",
       "        vertical-align: top;\n",
       "    }\n",
       "\n",
       "    .dataframe thead th {\n",
       "        text-align: right;\n",
       "    }\n",
       "</style>\n",
       "<table border=\"1\" class=\"dataframe\">\n",
       "  <thead>\n",
       "    <tr style=\"text-align: right;\">\n",
       "      <th></th>\n",
       "      <th>Invoice_ID</th>\n",
       "      <th>Branch</th>\n",
       "      <th>Customer_type</th>\n",
       "      <th>Gender</th>\n",
       "      <th>Product_line</th>\n",
       "      <th>Unit_price</th>\n",
       "      <th>Quantity</th>\n",
       "      <th>Tax_5%</th>\n",
       "      <th>Total</th>\n",
       "      <th>Date</th>\n",
       "      <th>Time</th>\n",
       "      <th>Payment</th>\n",
       "      <th>Rating</th>\n",
       "      <th>City</th>\n",
       "      <th>COGS</th>\n",
       "      <th>Profit</th>\n",
       "    </tr>\n",
       "  </thead>\n",
       "  <tbody>\n",
       "    <tr>\n",
       "      <th>0</th>\n",
       "      <td>750-67-8428</td>\n",
       "      <td>A</td>\n",
       "      <td>Normal</td>\n",
       "      <td>Male</td>\n",
       "      <td>Health and beauty</td>\n",
       "      <td>74.69</td>\n",
       "      <td>7</td>\n",
       "      <td>26.1415</td>\n",
       "      <td>548.9715</td>\n",
       "      <td>2019-01-05</td>\n",
       "      <td>13:08</td>\n",
       "      <td>Ewallet</td>\n",
       "      <td>9.1</td>\n",
       "      <td>Yangon</td>\n",
       "      <td>439.1772</td>\n",
       "      <td>109.7943</td>\n",
       "    </tr>\n",
       "    <tr>\n",
       "      <th>2</th>\n",
       "      <td>631-41-3108</td>\n",
       "      <td>A</td>\n",
       "      <td>Normal</td>\n",
       "      <td>Male</td>\n",
       "      <td>Home and lifestyle</td>\n",
       "      <td>46.33</td>\n",
       "      <td>7</td>\n",
       "      <td>16.2155</td>\n",
       "      <td>340.5255</td>\n",
       "      <td>2019-03-03</td>\n",
       "      <td>13:23</td>\n",
       "      <td>Credit card</td>\n",
       "      <td>7.4</td>\n",
       "      <td>Yangon</td>\n",
       "      <td>272.4204</td>\n",
       "      <td>68.1051</td>\n",
       "    </tr>\n",
       "    <tr>\n",
       "      <th>3</th>\n",
       "      <td>123-19-1176</td>\n",
       "      <td>A</td>\n",
       "      <td>Normal</td>\n",
       "      <td>Male</td>\n",
       "      <td>Health and beauty</td>\n",
       "      <td>58.22</td>\n",
       "      <td>8</td>\n",
       "      <td>23.2880</td>\n",
       "      <td>489.0480</td>\n",
       "      <td>2019-01-27</td>\n",
       "      <td>8:30</td>\n",
       "      <td>Ewallet</td>\n",
       "      <td>8.4</td>\n",
       "      <td>Yangon</td>\n",
       "      <td>391.2384</td>\n",
       "      <td>97.8096</td>\n",
       "    </tr>\n",
       "    <tr>\n",
       "      <th>4</th>\n",
       "      <td>373-73-7910</td>\n",
       "      <td>A</td>\n",
       "      <td>Normal</td>\n",
       "      <td>Male</td>\n",
       "      <td>Sports and travel</td>\n",
       "      <td>86.31</td>\n",
       "      <td>7</td>\n",
       "      <td>30.2085</td>\n",
       "      <td>634.3785</td>\n",
       "      <td>2019-02-08</td>\n",
       "      <td>10:37</td>\n",
       "      <td>Ewallet</td>\n",
       "      <td>5.3</td>\n",
       "      <td>Yangon</td>\n",
       "      <td>507.5028</td>\n",
       "      <td>126.8757</td>\n",
       "    </tr>\n",
       "    <tr>\n",
       "      <th>6</th>\n",
       "      <td>355-53-5943</td>\n",
       "      <td>A</td>\n",
       "      <td>Normal</td>\n",
       "      <td>Male</td>\n",
       "      <td>Electronic accessories</td>\n",
       "      <td>68.84</td>\n",
       "      <td>6</td>\n",
       "      <td>20.6520</td>\n",
       "      <td>433.6920</td>\n",
       "      <td>2019-02-25</td>\n",
       "      <td>14:36</td>\n",
       "      <td>Ewallet</td>\n",
       "      <td>5.8</td>\n",
       "      <td>Yangon</td>\n",
       "      <td>346.9536</td>\n",
       "      <td>86.7384</td>\n",
       "    </tr>\n",
       "  </tbody>\n",
       "</table>\n",
       "</div>"
      ],
      "text/plain": [
       "    Invoice_ID Branch Customer_type Gender            Product_line  \\\n",
       "0  750-67-8428      A        Normal   Male       Health and beauty   \n",
       "2  631-41-3108      A        Normal   Male      Home and lifestyle   \n",
       "3  123-19-1176      A        Normal   Male       Health and beauty   \n",
       "4  373-73-7910      A        Normal   Male       Sports and travel   \n",
       "6  355-53-5943      A        Normal   Male  Electronic accessories   \n",
       "\n",
       "   Unit_price  Quantity   Tax_5%     Total       Date   Time      Payment  \\\n",
       "0       74.69         7  26.1415  548.9715 2019-01-05  13:08      Ewallet   \n",
       "2       46.33         7  16.2155  340.5255 2019-03-03  13:23  Credit card   \n",
       "3       58.22         8  23.2880  489.0480 2019-01-27   8:30      Ewallet   \n",
       "4       86.31         7  30.2085  634.3785 2019-02-08  10:37      Ewallet   \n",
       "6       68.84         6  20.6520  433.6920 2019-02-25  14:36      Ewallet   \n",
       "\n",
       "   Rating    City      COGS    Profit  \n",
       "0     9.1  Yangon  439.1772  109.7943  \n",
       "2     7.4  Yangon  272.4204   68.1051  \n",
       "3     8.4  Yangon  391.2384   97.8096  \n",
       "4     5.3  Yangon  507.5028  126.8757  \n",
       "6     5.8  Yangon  346.9536   86.7384  "
      ]
     },
     "execution_count": 50,
     "metadata": {},
     "output_type": "execute_result"
    }
   ],
   "source": [
    "# # Calculate Profit margin \n",
    "\n",
    "df_clean['Profit'] = df_clean['Total'] - df_clean['COGS']\n",
    "df_clean.head(5)"
   ]
  },
  {
   "cell_type": "code",
   "execution_count": null,
   "id": "dcca3c40",
   "metadata": {},
   "outputs": [],
   "source": []
  },
  {
   "cell_type": "code",
   "execution_count": null,
   "id": "c9cb9d92",
   "metadata": {},
   "outputs": [],
   "source": []
  },
  {
   "cell_type": "markdown",
   "id": "07d94011",
   "metadata": {},
   "source": [
    "<a id='Storing'></a>\n",
    "## 4- Data Storing"
   ]
  },
  {
   "cell_type": "code",
   "execution_count": 51,
   "id": "fa1d374c",
   "metadata": {},
   "outputs": [],
   "source": [
    "df_clean.to_csv('clean_Supermarket_Sales_data.csv')"
   ]
  },
  {
   "cell_type": "code",
   "execution_count": 52,
   "id": "6d18a8fd",
   "metadata": {},
   "outputs": [
    {
     "name": "stdout",
     "output_type": "stream",
     "text": [
      "<class 'pandas.core.frame.DataFrame'>\n",
      "Int64Index: 1000 entries, 0 to 3008\n",
      "Data columns (total 16 columns):\n",
      " #   Column         Non-Null Count  Dtype         \n",
      "---  ------         --------------  -----         \n",
      " 0   Invoice_ID     1000 non-null   object        \n",
      " 1   Branch         1000 non-null   object        \n",
      " 2   Customer_type  1000 non-null   object        \n",
      " 3   Gender         1000 non-null   object        \n",
      " 4   Product_line   1000 non-null   object        \n",
      " 5   Unit_price     1000 non-null   float64       \n",
      " 6   Quantity       1000 non-null   int64         \n",
      " 7   Tax_5%         1000 non-null   float64       \n",
      " 8   Total          1000 non-null   float64       \n",
      " 9   Date           1000 non-null   datetime64[ns]\n",
      " 10  Time           1000 non-null   object        \n",
      " 11  Payment        1000 non-null   object        \n",
      " 12  Rating         1000 non-null   float64       \n",
      " 13  City           1000 non-null   object        \n",
      " 14  COGS           1000 non-null   float64       \n",
      " 15  Profit         1000 non-null   float64       \n",
      "dtypes: datetime64[ns](1), float64(6), int64(1), object(8)\n",
      "memory usage: 132.8+ KB\n"
     ]
    }
   ],
   "source": [
    "df_clean.info()"
   ]
  },
  {
   "cell_type": "code",
   "execution_count": null,
   "id": "326f3563",
   "metadata": {},
   "outputs": [],
   "source": []
  }
 ],
 "metadata": {
  "kernelspec": {
   "display_name": "Python 3 (ipykernel)",
   "language": "python",
   "name": "python3"
  },
  "language_info": {
   "codemirror_mode": {
    "name": "ipython",
    "version": 3
   },
   "file_extension": ".py",
   "mimetype": "text/x-python",
   "name": "python",
   "nbconvert_exporter": "python",
   "pygments_lexer": "ipython3",
   "version": "3.9.13"
  }
 },
 "nbformat": 4,
 "nbformat_minor": 5
}
